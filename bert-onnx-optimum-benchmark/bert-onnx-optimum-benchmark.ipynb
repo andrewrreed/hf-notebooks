{
 "cells": [
  {
   "cell_type": "markdown",
   "metadata": {},
   "source": [
    "# Benchmarking BERT with ONNX Optimizations"
   ]
  },
  {
   "cell_type": "code",
   "execution_count": 4,
   "metadata": {},
   "outputs": [
    {
     "name": "stdout",
     "output_type": "stream",
     "text": [
      "Requirement already satisfied: optimum[onnxruntime] in ./.venv/lib/python3.10/site-packages (1.21.4)\n",
      "Requirement already satisfied: transformers[sentencepiece]<4.44.0,>=4.29.0 in ./.venv/lib/python3.10/site-packages (from optimum[onnxruntime]) (4.43.4)\n",
      "Requirement already satisfied: torch>=1.11 in ./.venv/lib/python3.10/site-packages (from optimum[onnxruntime]) (2.4.1)\n",
      "Requirement already satisfied: numpy<2.0 in ./.venv/lib/python3.10/site-packages (from optimum[onnxruntime]) (1.26.4)\n",
      "Requirement already satisfied: datasets in ./.venv/lib/python3.10/site-packages (from optimum[onnxruntime]) (2.21.0)\n",
      "Requirement already satisfied: sympy in ./.venv/lib/python3.10/site-packages (from optimum[onnxruntime]) (1.13.2)\n",
      "Requirement already satisfied: huggingface-hub>=0.8.0 in ./.venv/lib/python3.10/site-packages (from optimum[onnxruntime]) (0.24.6)\n",
      "Requirement already satisfied: coloredlogs in ./.venv/lib/python3.10/site-packages (from optimum[onnxruntime]) (15.0.1)\n",
      "Requirement already satisfied: packaging in ./.venv/lib/python3.10/site-packages (from optimum[onnxruntime]) (24.1)\n",
      "Collecting onnx\n",
      "  Downloading onnx-1.16.2-cp310-cp310-macosx_11_0_universal2.whl (16.5 MB)\n",
      "\u001b[2K     \u001b[38;2;114;156;31m━━━━━━━━━━━━━━━━━━━━━━━━━━━━━━━━━━━━━━━━\u001b[0m \u001b[32m16.5/16.5 MB\u001b[0m \u001b[31m10.4 MB/s\u001b[0m eta \u001b[36m0:00:00\u001b[0mm eta \u001b[36m0:00:01\u001b[0m[36m0:00:01\u001b[0m\n",
      "\u001b[?25hCollecting evaluate\n",
      "  Downloading evaluate-0.4.2-py3-none-any.whl (84 kB)\n",
      "\u001b[2K     \u001b[38;2;114;156;31m━━━━━━━━━━━━━━━━━━━━━━━━━━━━━━━━━━━━━━━━\u001b[0m \u001b[32m84.1/84.1 kB\u001b[0m \u001b[31m4.8 MB/s\u001b[0m eta \u001b[36m0:00:00\u001b[0m\n",
      "\u001b[?25hRequirement already satisfied: protobuf>=3.20.1 in ./.venv/lib/python3.10/site-packages (from optimum[onnxruntime]) (5.28.0)\n",
      "Collecting onnxruntime>=1.11.0\n",
      "  Downloading onnxruntime-1.19.2-cp310-cp310-macosx_11_0_universal2.whl (16.8 MB)\n",
      "\u001b[2K     \u001b[38;2;114;156;31m━━━━━━━━━━━━━━━━━━━━━━━━━━━━━━━━━━━━━━━━\u001b[0m \u001b[32m16.8/16.8 MB\u001b[0m \u001b[31m14.0 MB/s\u001b[0m eta \u001b[36m0:00:00\u001b[0mm eta \u001b[36m0:00:01\u001b[0m[36m0:00:01\u001b[0m\n",
      "\u001b[?25hRequirement already satisfied: pandas in ./.venv/lib/python3.10/site-packages (from datasets->optimum[onnxruntime]) (2.2.2)\n",
      "Requirement already satisfied: dill<0.3.9,>=0.3.0 in ./.venv/lib/python3.10/site-packages (from datasets->optimum[onnxruntime]) (0.3.8)\n",
      "Requirement already satisfied: filelock in ./.venv/lib/python3.10/site-packages (from datasets->optimum[onnxruntime]) (3.15.4)\n",
      "Requirement already satisfied: multiprocess in ./.venv/lib/python3.10/site-packages (from datasets->optimum[onnxruntime]) (0.70.16)\n",
      "Requirement already satisfied: requests>=2.32.2 in ./.venv/lib/python3.10/site-packages (from datasets->optimum[onnxruntime]) (2.32.3)\n",
      "Requirement already satisfied: tqdm>=4.66.3 in ./.venv/lib/python3.10/site-packages (from datasets->optimum[onnxruntime]) (4.66.5)\n",
      "Requirement already satisfied: fsspec[http]<=2024.6.1,>=2023.1.0 in ./.venv/lib/python3.10/site-packages (from datasets->optimum[onnxruntime]) (2024.6.1)\n",
      "Requirement already satisfied: xxhash in ./.venv/lib/python3.10/site-packages (from datasets->optimum[onnxruntime]) (3.5.0)\n",
      "Requirement already satisfied: aiohttp in ./.venv/lib/python3.10/site-packages (from datasets->optimum[onnxruntime]) (3.10.5)\n",
      "Requirement already satisfied: pyarrow>=15.0.0 in ./.venv/lib/python3.10/site-packages (from datasets->optimum[onnxruntime]) (17.0.0)\n",
      "Requirement already satisfied: pyyaml>=5.1 in ./.venv/lib/python3.10/site-packages (from datasets->optimum[onnxruntime]) (6.0.2)\n",
      "Requirement already satisfied: typing-extensions>=3.7.4.3 in ./.venv/lib/python3.10/site-packages (from huggingface-hub>=0.8.0->optimum[onnxruntime]) (4.12.2)\n",
      "Collecting fsspec>=2023.5.0\n",
      "  Using cached fsspec-2024.9.0-py3-none-any.whl (179 kB)\n",
      "Collecting flatbuffers\n",
      "  Using cached flatbuffers-24.3.25-py2.py3-none-any.whl (26 kB)\n",
      "Requirement already satisfied: jinja2 in ./.venv/lib/python3.10/site-packages (from torch>=1.11->optimum[onnxruntime]) (3.1.4)\n",
      "Requirement already satisfied: networkx in ./.venv/lib/python3.10/site-packages (from torch>=1.11->optimum[onnxruntime]) (3.3)\n",
      "Requirement already satisfied: safetensors>=0.4.1 in ./.venv/lib/python3.10/site-packages (from transformers[sentencepiece]<4.44.0,>=4.29.0->optimum[onnxruntime]) (0.4.4)\n",
      "Requirement already satisfied: regex!=2019.12.17 in ./.venv/lib/python3.10/site-packages (from transformers[sentencepiece]<4.44.0,>=4.29.0->optimum[onnxruntime]) (2024.7.24)\n",
      "Requirement already satisfied: tokenizers<0.20,>=0.19 in ./.venv/lib/python3.10/site-packages (from transformers[sentencepiece]<4.44.0,>=4.29.0->optimum[onnxruntime]) (0.19.1)\n",
      "Requirement already satisfied: sentencepiece!=0.1.92,>=0.1.91 in ./.venv/lib/python3.10/site-packages (from transformers[sentencepiece]<4.44.0,>=4.29.0->optimum[onnxruntime]) (0.2.0)\n",
      "Requirement already satisfied: humanfriendly>=9.1 in ./.venv/lib/python3.10/site-packages (from coloredlogs->optimum[onnxruntime]) (10.0)\n",
      "Requirement already satisfied: mpmath<1.4,>=1.1.0 in ./.venv/lib/python3.10/site-packages (from sympy->optimum[onnxruntime]) (1.3.0)\n",
      "Requirement already satisfied: aiohappyeyeballs>=2.3.0 in ./.venv/lib/python3.10/site-packages (from aiohttp->datasets->optimum[onnxruntime]) (2.4.0)\n",
      "Requirement already satisfied: aiosignal>=1.1.2 in ./.venv/lib/python3.10/site-packages (from aiohttp->datasets->optimum[onnxruntime]) (1.3.1)\n",
      "Requirement already satisfied: yarl<2.0,>=1.0 in ./.venv/lib/python3.10/site-packages (from aiohttp->datasets->optimum[onnxruntime]) (1.9.11)\n",
      "Requirement already satisfied: attrs>=17.3.0 in ./.venv/lib/python3.10/site-packages (from aiohttp->datasets->optimum[onnxruntime]) (24.2.0)\n",
      "Requirement already satisfied: multidict<7.0,>=4.5 in ./.venv/lib/python3.10/site-packages (from aiohttp->datasets->optimum[onnxruntime]) (6.0.5)\n",
      "Requirement already satisfied: async-timeout<5.0,>=4.0 in ./.venv/lib/python3.10/site-packages (from aiohttp->datasets->optimum[onnxruntime]) (4.0.3)\n",
      "Requirement already satisfied: frozenlist>=1.1.1 in ./.venv/lib/python3.10/site-packages (from aiohttp->datasets->optimum[onnxruntime]) (1.4.1)\n",
      "Requirement already satisfied: urllib3<3,>=1.21.1 in ./.venv/lib/python3.10/site-packages (from requests>=2.32.2->datasets->optimum[onnxruntime]) (2.2.2)\n",
      "Requirement already satisfied: idna<4,>=2.5 in ./.venv/lib/python3.10/site-packages (from requests>=2.32.2->datasets->optimum[onnxruntime]) (3.8)\n",
      "Requirement already satisfied: charset-normalizer<4,>=2 in ./.venv/lib/python3.10/site-packages (from requests>=2.32.2->datasets->optimum[onnxruntime]) (3.3.2)\n",
      "Requirement already satisfied: certifi>=2017.4.17 in ./.venv/lib/python3.10/site-packages (from requests>=2.32.2->datasets->optimum[onnxruntime]) (2024.8.30)\n",
      "Requirement already satisfied: MarkupSafe>=2.0 in ./.venv/lib/python3.10/site-packages (from jinja2->torch>=1.11->optimum[onnxruntime]) (2.1.5)\n",
      "Requirement already satisfied: pytz>=2020.1 in ./.venv/lib/python3.10/site-packages (from pandas->datasets->optimum[onnxruntime]) (2024.1)\n",
      "Requirement already satisfied: tzdata>=2022.7 in ./.venv/lib/python3.10/site-packages (from pandas->datasets->optimum[onnxruntime]) (2024.1)\n",
      "Requirement already satisfied: python-dateutil>=2.8.2 in ./.venv/lib/python3.10/site-packages (from pandas->datasets->optimum[onnxruntime]) (2.9.0.post0)\n",
      "Requirement already satisfied: six>=1.5 in ./.venv/lib/python3.10/site-packages (from python-dateutil>=2.8.2->pandas->datasets->optimum[onnxruntime]) (1.16.0)\n",
      "Installing collected packages: flatbuffers, onnx, onnxruntime, evaluate\n",
      "Successfully installed evaluate-0.4.2 flatbuffers-24.3.25 onnx-1.16.2 onnxruntime-1.19.2\n",
      "\n",
      "\u001b[1m[\u001b[0m\u001b[34;49mnotice\u001b[0m\u001b[1;39;49m]\u001b[0m\u001b[39;49m A new release of pip is available: \u001b[0m\u001b[31;49m23.0.1\u001b[0m\u001b[39;49m -> \u001b[0m\u001b[32;49m24.2\u001b[0m\n",
      "\u001b[1m[\u001b[0m\u001b[34;49mnotice\u001b[0m\u001b[1;39;49m]\u001b[0m\u001b[39;49m To update, run: \u001b[0m\u001b[32;49mpip install --upgrade pip\u001b[0m\n",
      "Note: you may need to restart the kernel to use updated packages.\n"
     ]
    }
   ],
   "source": [
    "pip install --upgrade --upgrade-strategy eager \"optimum[onnxruntime]\""
   ]
  },
  {
   "cell_type": "markdown",
   "metadata": {},
   "source": [
    "## Apply ONNX Optimization and export to ONNX"
   ]
  },
  {
   "cell_type": "code",
   "execution_count": 2,
   "metadata": {},
   "outputs": [
    {
     "name": "stderr",
     "output_type": "stream",
     "text": [
      "/Users/andrewreed/Documents/hf-notebooks/bert-onnx-optimum-benchmark/.venv/lib/python3.10/site-packages/optimum/onnxruntime/configuration.py:779: FutureWarning: disable_embed_layer_norm will be deprecated soon, use disable_embed_layer_norm_fusion instead, disable_embed_layer_norm_fusion is set to True.\n",
      "  warnings.warn(\n",
      "Optimizing model...\n",
      "Configuration saved in onnx/ort_config.json\n",
      "Optimized model saved at: onnx (external data format: False; saved all tensor to one file: True)\n"
     ]
    },
    {
     "data": {
      "text/plain": [
       "PosixPath('onnx')"
      ]
     },
     "execution_count": 2,
     "metadata": {},
     "output_type": "execute_result"
    }
   ],
   "source": [
    "from optimum.onnxruntime import (\n",
    "    AutoOptimizationConfig,\n",
    "    ORTOptimizer,\n",
    "    ORTModelForSequenceClassification,\n",
    ")\n",
    "\n",
    "model_id = \"nlptown/bert-base-multilingual-uncased-sentiment\"\n",
    "save_dir = \"onnx\"\n",
    "\n",
    "# Load a PyTorch model and export it to the ONNX format\n",
    "model = ORTModelForSequenceClassification.from_pretrained(model_id, export=True)\n",
    "\n",
    "# Create the optimizer\n",
    "optimizer = ORTOptimizer.from_pretrained(model)\n",
    "\n",
    "# Define the optimization strategy by creating the appropriate configuration\n",
    "optimization_config = AutoOptimizationConfig.O2()\n",
    "\n",
    "# Optimize the model\n",
    "optimizer.optimize(save_dir=save_dir, optimization_config=optimization_config)"
   ]
  },
  {
   "cell_type": "markdown",
   "metadata": {},
   "source": [
    "## Compare ONNX Optimized Model to PyTorch Model"
   ]
  },
  {
   "cell_type": "markdown",
   "metadata": {},
   "source": [
    "### Load models & pipelines"
   ]
  },
  {
   "cell_type": "code",
   "execution_count": 48,
   "metadata": {},
   "outputs": [
    {
     "name": "stderr",
     "output_type": "stream",
     "text": [
      "Hardware accelerator e.g. GPU is available in the environment, but no `device` argument is passed to the `Pipeline` object. Model will be on CPU.\n",
      "Hardware accelerator e.g. GPU is available in the environment, but no `device` argument is passed to the `Pipeline` object. Model will be on CPU.\n"
     ]
    }
   ],
   "source": [
    "from transformers import pipeline, AutoTokenizer, AutoModelForSequenceClassification\n",
    "\n",
    "# load the pytorch model into a pipeline\n",
    "tokenizer = AutoTokenizer.from_pretrained(model_id)\n",
    "pytorch_model = AutoModelForSequenceClassification.from_pretrained(model_id)\n",
    "pytorch_pipeline = pipeline(\n",
    "    \"text-classification\", model=pytorch_model, tokenizer=tokenizer\n",
    ")\n",
    "\n",
    "# load the optimized onnx model into a pipeline\n",
    "onnx_o2_model = ORTModelForSequenceClassification.from_pretrained(\n",
    "    save_dir, file_name=\"model_optimized.onnx\"\n",
    ")\n",
    "onnx_o2_pipeline = pipeline(\n",
    "    \"text-classification\", model=onnx_o2_model, tokenizer=tokenizer\n",
    ")"
   ]
  },
  {
   "cell_type": "markdown",
   "metadata": {},
   "source": [
    "### Load a dummy dataset"
   ]
  },
  {
   "cell_type": "code",
   "execution_count": 52,
   "metadata": {},
   "outputs": [],
   "source": [
    "from datasets import load_dataset\n",
    "\n",
    "ds = load_dataset(\"tyqiangz/multilingual-sentiments\", \"all\")\n",
    "sample = ds[\"train\"].select(range(2000))"
   ]
  },
  {
   "cell_type": "code",
   "execution_count": 53,
   "metadata": {},
   "outputs": [
    {
     "data": {
      "text/plain": [
       "Dataset({\n",
       "    features: ['text', 'source', 'language', 'label'],\n",
       "    num_rows: 2000\n",
       "})"
      ]
     },
     "execution_count": 53,
     "metadata": {},
     "output_type": "execute_result"
    }
   ],
   "source": [
    "sample"
   ]
  },
  {
   "cell_type": "code",
   "execution_count": 56,
   "metadata": {},
   "outputs": [],
   "source": [
    "from time import perf_counter\n",
    "import numpy as np\n",
    "\n",
    "\n",
    "def measure_latency(pipe, sample):\n",
    "    latencies = []\n",
    "\n",
    "    # warm up\n",
    "    for _ in range(10):\n",
    "        _ = pipe(sample[0][\"text\"])\n",
    "\n",
    "    # benchmark\n",
    "    for i in range(len(sample)):\n",
    "\n",
    "        start_time = perf_counter()\n",
    "        _ = pipe(sample[i][\"text\"])\n",
    "        latency = perf_counter() - start_time\n",
    "\n",
    "        latencies.append(latency)\n",
    "\n",
    "    print(\"Number of samples run:\", len(latencies))\n",
    "\n",
    "    # Compute run statistics\n",
    "    time_avg_ms = 1000 * np.mean(latencies)\n",
    "    time_std_ms = 1000 * np.std(latencies)\n",
    "\n",
    "    return f\"Average latency (ms) - {time_avg_ms:.2f} +\\- {time_std_ms:.2f}\""
   ]
  },
  {
   "cell_type": "code",
   "execution_count": 57,
   "metadata": {},
   "outputs": [
    {
     "name": "stdout",
     "output_type": "stream",
     "text": [
      "Running PyTorch model...\n",
      "Number of samples run: 2000\n",
      "Vanilla model: Average latency (ms) - 29.87 +\\- 5.30\n",
      "\n",
      "Running ONNX model...\n",
      "Number of samples run: 2000\n",
      "O2 Optimized: Average latency (ms) - 14.81 +\\- 6.55\n"
     ]
    }
   ],
   "source": [
    "print(\"Running PyTorch model...\")\n",
    "print(f\"Vanilla model: {measure_latency(pytorch_pipeline, sample)}\")\n",
    "print(\"\\nRunning ONNX model...\")\n",
    "print(f\"O2 Optimized: {measure_latency(onnx_o2_pipeline, sample)}\")"
   ]
  }
 ],
 "metadata": {
  "kernelspec": {
   "display_name": ".venv",
   "language": "python",
   "name": "python3"
  },
  "language_info": {
   "codemirror_mode": {
    "name": "ipython",
    "version": 3
   },
   "file_extension": ".py",
   "mimetype": "text/x-python",
   "name": "python",
   "nbconvert_exporter": "python",
   "pygments_lexer": "ipython3",
   "version": "3.10.11"
  }
 },
 "nbformat": 4,
 "nbformat_minor": 2
}
