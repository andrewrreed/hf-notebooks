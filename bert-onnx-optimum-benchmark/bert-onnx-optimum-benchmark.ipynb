{
 "cells": [
  {
   "cell_type": "markdown",
   "metadata": {},
   "source": [
    "# Benchmarking BERT with ONNX Optimizations"
   ]
  },
  {
   "cell_type": "code",
   "execution_count": null,
   "metadata": {},
   "outputs": [],
   "source": [
    "pip install --upgrade --upgrade-strategy eager \"optimum[onnxruntime]\""
   ]
  },
  {
   "cell_type": "markdown",
   "metadata": {},
   "source": [
    "## Apply ONNX Optimization and export to ONNX"
   ]
  },
  {
   "cell_type": "code",
   "execution_count": 2,
   "metadata": {},
   "outputs": [
    {
     "name": "stderr",
     "output_type": "stream",
     "text": [
      "/Users/andrewreed/Documents/hf-notebooks/bert-onnx-optimum-benchmark/.venv/lib/python3.10/site-packages/optimum/onnxruntime/configuration.py:779: FutureWarning: disable_embed_layer_norm will be deprecated soon, use disable_embed_layer_norm_fusion instead, disable_embed_layer_norm_fusion is set to True.\n",
      "  warnings.warn(\n",
      "Optimizing model...\n",
      "Configuration saved in onnx/ort_config.json\n",
      "Optimized model saved at: onnx (external data format: False; saved all tensor to one file: True)\n"
     ]
    },
    {
     "data": {
      "text/plain": [
       "PosixPath('onnx')"
      ]
     },
     "execution_count": 2,
     "metadata": {},
     "output_type": "execute_result"
    }
   ],
   "source": [
    "from optimum.onnxruntime import (\n",
    "    AutoOptimizationConfig,\n",
    "    ORTOptimizer,\n",
    "    ORTModelForSequenceClassification,\n",
    ")\n",
    "\n",
    "model_id = \"nlptown/bert-base-multilingual-uncased-sentiment\"\n",
    "save_dir = \"onnx\"\n",
    "\n",
    "# Load a PyTorch model and export it to the ONNX format\n",
    "model = ORTModelForSequenceClassification.from_pretrained(model_id, export=True)\n",
    "\n",
    "# Create the optimizer\n",
    "optimizer = ORTOptimizer.from_pretrained(model)\n",
    "\n",
    "# Define the optimization strategy by creating the appropriate configuration\n",
    "optimization_config = AutoOptimizationConfig.O2()\n",
    "\n",
    "# Optimize the model\n",
    "optimizer.optimize(save_dir=save_dir, optimization_config=optimization_config)"
   ]
  },
  {
   "cell_type": "markdown",
   "metadata": {},
   "source": [
    "## Compare ONNX Optimized Model to PyTorch Model"
   ]
  },
  {
   "cell_type": "markdown",
   "metadata": {},
   "source": [
    "### Load models & pipelines"
   ]
  },
  {
   "cell_type": "code",
   "execution_count": 48,
   "metadata": {},
   "outputs": [
    {
     "name": "stderr",
     "output_type": "stream",
     "text": [
      "Hardware accelerator e.g. GPU is available in the environment, but no `device` argument is passed to the `Pipeline` object. Model will be on CPU.\n",
      "Hardware accelerator e.g. GPU is available in the environment, but no `device` argument is passed to the `Pipeline` object. Model will be on CPU.\n"
     ]
    }
   ],
   "source": [
    "from transformers import pipeline, AutoTokenizer, AutoModelForSequenceClassification\n",
    "\n",
    "# load the pytorch model into a pipeline\n",
    "tokenizer = AutoTokenizer.from_pretrained(model_id)\n",
    "pytorch_model = AutoModelForSequenceClassification.from_pretrained(model_id)\n",
    "pytorch_pipeline = pipeline(\n",
    "    \"text-classification\", model=pytorch_model, tokenizer=tokenizer\n",
    ")\n",
    "\n",
    "# load the optimized onnx model into a pipeline\n",
    "onnx_o2_model = ORTModelForSequenceClassification.from_pretrained(\n",
    "    save_dir, file_name=\"model_optimized.onnx\"\n",
    ")\n",
    "onnx_o2_pipeline = pipeline(\n",
    "    \"text-classification\", model=onnx_o2_model, tokenizer=tokenizer\n",
    ")"
   ]
  },
  {
   "cell_type": "markdown",
   "metadata": {},
   "source": [
    "### Load a dummy dataset"
   ]
  },
  {
   "cell_type": "code",
   "execution_count": 52,
   "metadata": {},
   "outputs": [],
   "source": [
    "from datasets import load_dataset\n",
    "\n",
    "ds = load_dataset(\"tyqiangz/multilingual-sentiments\", \"all\")\n",
    "sample = ds[\"train\"].select(range(2000))"
   ]
  },
  {
   "cell_type": "code",
   "execution_count": 53,
   "metadata": {},
   "outputs": [
    {
     "data": {
      "text/plain": [
       "Dataset({\n",
       "    features: ['text', 'source', 'language', 'label'],\n",
       "    num_rows: 2000\n",
       "})"
      ]
     },
     "execution_count": 53,
     "metadata": {},
     "output_type": "execute_result"
    }
   ],
   "source": [
    "sample"
   ]
  },
  {
   "cell_type": "code",
   "execution_count": 56,
   "metadata": {},
   "outputs": [],
   "source": [
    "from time import perf_counter\n",
    "import numpy as np\n",
    "\n",
    "\n",
    "def measure_latency(pipe, sample):\n",
    "    latencies = []\n",
    "\n",
    "    # warm up\n",
    "    for _ in range(10):\n",
    "        _ = pipe(sample[0][\"text\"])\n",
    "\n",
    "    # benchmark\n",
    "    for i in range(len(sample)):\n",
    "\n",
    "        start_time = perf_counter()\n",
    "        _ = pipe(sample[i][\"text\"])\n",
    "        latency = perf_counter() - start_time\n",
    "\n",
    "        latencies.append(latency)\n",
    "\n",
    "    print(\"Number of samples run:\", len(latencies))\n",
    "\n",
    "    # Compute run statistics\n",
    "    time_avg_ms = 1000 * np.mean(latencies)\n",
    "    time_std_ms = 1000 * np.std(latencies)\n",
    "\n",
    "    return f\"Average latency (ms) - {time_avg_ms:.2f} +\\- {time_std_ms:.2f}\""
   ]
  },
  {
   "cell_type": "code",
   "execution_count": 57,
   "metadata": {},
   "outputs": [
    {
     "name": "stdout",
     "output_type": "stream",
     "text": [
      "Running PyTorch model...\n",
      "Number of samples run: 2000\n",
      "Vanilla model: Average latency (ms) - 29.87 +\\- 5.30\n",
      "\n",
      "Running ONNX model...\n",
      "Number of samples run: 2000\n",
      "O2 Optimized: Average latency (ms) - 14.81 +\\- 6.55\n"
     ]
    }
   ],
   "source": [
    "print(\"Running PyTorch model...\")\n",
    "print(f\"Vanilla model: {measure_latency(pytorch_pipeline, sample)}\")\n",
    "print(\"\\nRunning ONNX model...\")\n",
    "print(f\"O2 Optimized: {measure_latency(onnx_o2_pipeline, sample)}\")"
   ]
  }
 ],
 "metadata": {
  "kernelspec": {
   "display_name": ".venv",
   "language": "python",
   "name": "python3"
  },
  "language_info": {
   "codemirror_mode": {
    "name": "ipython",
    "version": 3
   },
   "file_extension": ".py",
   "mimetype": "text/x-python",
   "name": "python",
   "nbconvert_exporter": "python",
   "pygments_lexer": "ipython3",
   "version": "3.10.11"
  }
 },
 "nbformat": 4,
 "nbformat_minor": 2
}
