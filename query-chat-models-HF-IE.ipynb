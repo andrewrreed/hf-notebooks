{
 "cells": [
  {
   "cell_type": "markdown",
   "metadata": {},
   "source": [
    "# Quering Chat Models from HF Inference API & Endpoints\n",
    "\n",
    "The purpose of this notebook is to provide simple demonstrations for working with chat models via the HF Inference API and Inference Endpoints"
   ]
  },
  {
   "cell_type": "code",
   "execution_count": 14,
   "metadata": {},
   "outputs": [
    {
     "name": "stdout",
     "output_type": "stream",
     "text": [
      "\n",
      "\u001b[1m[\u001b[0m\u001b[34;49mnotice\u001b[0m\u001b[1;39;49m]\u001b[0m\u001b[39;49m A new release of pip is available: \u001b[0m\u001b[31;49m23.0.1\u001b[0m\u001b[39;49m -> \u001b[0m\u001b[32;49m23.3.2\u001b[0m\n",
      "\u001b[1m[\u001b[0m\u001b[34;49mnotice\u001b[0m\u001b[1;39;49m]\u001b[0m\u001b[39;49m To update, run: \u001b[0m\u001b[32;49mpip install --upgrade pip\u001b[0m\n"
     ]
    }
   ],
   "source": [
    "!pip install --upgrade -q huggingface-hub transformers jinja2 openai"
   ]
  },
  {
   "cell_type": "code",
   "execution_count": 2,
   "metadata": {},
   "outputs": [
    {
     "name": "stderr",
     "output_type": "stream",
     "text": [
      "None of PyTorch, TensorFlow >= 2.0, or Flax have been found. Models won't be available and only tokenizers, configuration and file/data utilities can be used.\n"
     ]
    }
   ],
   "source": [
    "from huggingface_hub import InferenceClient, notebook_login\n",
    "from transformers import AutoTokenizer"
   ]
  },
  {
   "cell_type": "code",
   "execution_count": null,
   "metadata": {},
   "outputs": [],
   "source": [
    "notebook_login()"
   ]
  },
  {
   "cell_type": "markdown",
   "metadata": {},
   "source": [
    "### Instantiate an `InferenceClient`\n",
    "\n",
    "See [the docs](https://huggingface.co/docs/huggingface_hub/package_reference/inference_client) for details"
   ]
  },
  {
   "cell_type": "code",
   "execution_count": 25,
   "metadata": {},
   "outputs": [],
   "source": [
    "# Note that we can optionally specify a model name or Inference Endpoint URL here\n",
    "# or at the time of call the model.\n",
    "client = InferenceClient()"
   ]
  },
  {
   "cell_type": "markdown",
   "metadata": {},
   "source": [
    "## Using Chat Templates"
   ]
  },
  {
   "cell_type": "markdown",
   "metadata": {},
   "source": [
    "### Test `meta-llama/Llama-2-7b-chat-hf`\n",
    "\n",
    "The Llama2 models make use of a [HF chat template](https://huggingface.co/docs/transformers/main/en/chat_templating), so we can format requests properly using this feature."
   ]
  },
  {
   "cell_type": "code",
   "execution_count": 5,
   "metadata": {},
   "outputs": [],
   "source": [
    "model_id = \"meta-llama/Llama-2-7b-chat-hf\"\n",
    "tokenizer = AutoTokenizer.from_pretrained(model_id)"
   ]
  },
  {
   "cell_type": "code",
   "execution_count": 6,
   "metadata": {},
   "outputs": [
    {
     "name": "stdout",
     "output_type": "stream",
     "text": [
      "  I'm glad you're interested in learning about helicopters! However, I must respectfully point out that it is not possible for a human to eat a helicopter in one sitting. Helicopters are complex machines made of metal, plastic, and other materials, and they are not edible. It is not safe or healthy to try to consume any part of a helicopter, and it is also illegal in most places.\n",
      "\n",
      "Instead, I suggest you explore other interesting topics that are safe and legal to learn about. There are many fascinating things in the world that you can discover and learn about, such as the history of helicopters, how they work, or the different types of helicopters that exist. Please let me know if you have any other questions or topics you would like to learn about!\n"
     ]
    }
   ],
   "source": [
    "# use the proper prompt format\n",
    "system_input = \"You are a helpful, respectful and honest assistant. Always answer as helpfully as possible, while being safe. Your answers should not include any harmful, unethical, racist, sexist, toxic, dangerous, or illegal content. Please ensure that your responses are socially unbiased and positive in nature.\\\\n\\\\nIf a question does not make any sense, or is not factually coherent, explain why instead of answering something not correct. If you don't know the answer to a question, please don't share false information.\"\n",
    "user_input = \"How many helicopters can a human eat in one sitting?\"\n",
    "messages = [\n",
    "    {\"role\": \"system\", \"content\": system_input},\n",
    "    {\"role\": \"user\", \"content\": user_input},\n",
    "]\n",
    "prompt = tokenizer.apply_chat_template(\n",
    "    messages, tokenize=False, add_generation_prompt=True\n",
    ")\n",
    "# generate text\n",
    "out = client.text_generation(prompt, max_new_tokens=500, model=model_id)\n",
    "print(out)"
   ]
  },
  {
   "cell_type": "markdown",
   "metadata": {},
   "source": [
    "### Test `HuggingFaceH4/zephyr-7b-beta`"
   ]
  },
  {
   "cell_type": "code",
   "execution_count": 7,
   "metadata": {},
   "outputs": [],
   "source": [
    "model_id = \"HuggingFaceH4/zephyr-7b-beta\"\n",
    "tokenizer = AutoTokenizer.from_pretrained(model_id)"
   ]
  },
  {
   "cell_type": "code",
   "execution_count": 8,
   "metadata": {},
   "outputs": [
    {
     "name": "stdout",
     "output_type": "stream",
     "text": [
      "None. Humans are not capable of consuming helicopters as they are not food items. Helicopters are machines designed for transportation and other purposes, not for consumption as food. It is not possible for a human to eat a helicopter in one sitting or at any time.\n"
     ]
    }
   ],
   "source": [
    "# use the proper prompt format\n",
    "system_input = \"You are a helpful, respectful and honest assistant. Always answer as helpfully as possible, while being safe. Your answers should not include any harmful, unethical, racist, sexist, toxic, dangerous, or illegal content. Please ensure that your responses are socially unbiased and positive in nature.\\\\n\\\\nIf a question does not make any sense, or is not factually coherent, explain why instead of answering something not correct. If you don't know the answer to a question, please don't share false information.\"\n",
    "user_input = \"How many helicopters can a human eat in one sitting?\"\n",
    "messages = [\n",
    "    {\"role\": \"system\", \"content\": system_input},\n",
    "    {\"role\": \"user\", \"content\": user_input},\n",
    "]\n",
    "prompt = tokenizer.apply_chat_template(\n",
    "    messages, tokenize=False, add_generation_prompt=True\n",
    ")\n",
    "# generate text\n",
    "out = client.text_generation(prompt, max_new_tokens=500, model=model_id)\n",
    "print(out)"
   ]
  },
  {
   "cell_type": "markdown",
   "metadata": {},
   "source": [
    "### Test `mistralai/Mixtral-8x7B-Instruct-v0.1`"
   ]
  },
  {
   "cell_type": "code",
   "execution_count": 63,
   "metadata": {},
   "outputs": [],
   "source": [
    "model_id = \"mistralai/Mixtral-8x7B-Instruct-v0.1\"\n",
    "tokenizer = AutoTokenizer.from_pretrained(model_id)"
   ]
  },
  {
   "cell_type": "code",
   "execution_count": 64,
   "metadata": {},
   "outputs": [
    {
     "name": "stdout",
     "output_type": "stream",
     "text": [
      " It is not possible for a human to eat a helicopter in any sitting, as helicopters are made of materials like metal and heavy machinery that are not edible or digestible by humans. Attempting to eat a helicopter would likely result in serious injury or death.\n"
     ]
    }
   ],
   "source": [
    "# use the proper prompt format\n",
    "user_input = \"How many helicopters can a human eat in one sitting?\"\n",
    "messages = [\n",
    "    # {\"role\": \"system\", \"content\": system_input},\n",
    "    {\"role\": \"user\", \"content\": user_input},\n",
    "]\n",
    "prompt = tokenizer.apply_chat_template(\n",
    "    messages, tokenize=False, add_generation_prompt=True\n",
    ")\n",
    "\n",
    "# generate text\n",
    "out = client.text_generation(prompt, max_new_tokens=500, model=model_id)\n",
    "print(out)"
   ]
  },
  {
   "cell_type": "code",
   "execution_count": 68,
   "metadata": {},
   "outputs": [
    {
     "data": {
      "text/plain": [
       "'<s>[INST] How many helicopters can a human eat in one sitting? [/INST]'"
      ]
     },
     "execution_count": 68,
     "metadata": {},
     "output_type": "execute_result"
    }
   ],
   "source": [
    "prompt"
   ]
  },
  {
   "cell_type": "markdown",
   "metadata": {},
   "source": [
    "### Test `Intel/neural-chat-7b-v3-1`\n",
    "\n",
    "Some models don't have chat templates, so we'll need to manually specify the proper chat prompt format."
   ]
  },
  {
   "cell_type": "code",
   "execution_count": 7,
   "metadata": {},
   "outputs": [],
   "source": [
    "# Note: this model is too large to be used by the Inference API\n",
    "# So we can deploy as an Inference Endpoint and pass the url to the client\n",
    "model_id = \"https://i3w111raiwkgpyqj.us-east-1.aws.endpoints.huggingface.cloud\""
   ]
  },
  {
   "cell_type": "code",
   "execution_count": 8,
   "metadata": {},
   "outputs": [
    {
     "name": "stdout",
     "output_type": "stream",
     "text": [
      " A human cannot eat a helicopter in one sitting, as it is not a consumable food item. However, if we consider the size of a typical helicopter, it could be comparable to a large vehicle. If we assume a person could eat a large vehicle, they might be able to consume the equivalent weight of a helicopter, which varies depending on the helicopter's size and model. However, this is still not a realistic scenario.\n"
     ]
    }
   ],
   "source": [
    "# use the proper prompt format\n",
    "system_input = \"You are a chatbot developed by Intel. Please answer all questions to the best of your ability.\"\n",
    "prompt = f\"### System:\\n{system_input}\\n### User:\\n{user_input}\\n### Assistant:\\n\"\n",
    "\n",
    "# generate text\n",
    "out = client.text_generation(prompt, max_new_tokens=500, model=model_id)\n",
    "print(out)"
   ]
  },
  {
   "cell_type": "markdown",
   "metadata": {},
   "source": [
    "## Using Messages API"
   ]
  },
  {
   "cell_type": "code",
   "execution_count": 69,
   "metadata": {},
   "outputs": [],
   "source": [
    "from openai import OpenAI"
   ]
  },
  {
   "cell_type": "code",
   "execution_count": 73,
   "metadata": {},
   "outputs": [
    {
     "name": "stdout",
     "output_type": "stream",
     "text": [
      "ChatCompletion(id='', choices=[Choice(finish_reason='eos_token', index=0, logprobs=None, message=ChatCompletionMessage(content=' It is not possible for a human to eat a helicopter in one sitting or at all. A helicopter is made of materials like metal, glass, and various alloys, which are not edible and cannot be consumed by humans. Consing such materials can cause severe internal injuries and even death. It is important to only consume food and drink that is safe and intended for human consumption.', role='assistant', function_call=None, tool_calls=None))], created=1706896143, model='/repository', object='text_completion', system_fingerprint='1.4.0-sha-ee1cf51', usage=CompletionUsage(completion_tokens=81, prompt_tokens=22, total_tokens=103))\n"
     ]
    }
   ],
   "source": [
    "oai_client = OpenAI(\n",
    "    base_url=\"https://ey1416en78lct0cg.us-east-1.aws.endpoints.huggingface.cloud/v1/\",\n",
    "    api_key=client.headers[\"authorization\"].split(\" \")[1],\n",
    ")\n",
    "\n",
    "chat_completion = oai_client.chat.completions.create(\n",
    "    model=\"tgi\",\n",
    "    messages=[\n",
    "        # {\"role\": \"system\", \"content\": \"You are a helpful assistant.\"},\n",
    "        {\n",
    "            \"role\": \"user\",\n",
    "            \"content\": \"How many helicopters can a human eat in one sitting?\",\n",
    "        },\n",
    "    ],\n",
    "    stream=False,\n",
    ")\n",
    "\n",
    "print(chat_completion)"
   ]
  },
  {
   "cell_type": "markdown",
   "metadata": {},
   "source": [
    "**Notes**\n",
    "- When deploying a IE with TGI, you must use `task: Text Generation` and use `client.text_generation`. This means you must handle chat template formatting on your own.\n",
    "- When deploying a IE with TGI with `task: Conversational`, you cannot use the `client.conversational` class. You'll get an error: `Make sure 'conversational' task is supported by the model.` So TGI only supports text generation."
   ]
  }
 ],
 "metadata": {
  "kernelspec": {
   "display_name": ".venv",
   "language": "python",
   "name": "python3"
  },
  "language_info": {
   "codemirror_mode": {
    "name": "ipython",
    "version": 3
   },
   "file_extension": ".py",
   "mimetype": "text/x-python",
   "name": "python",
   "nbconvert_exporter": "python",
   "pygments_lexer": "ipython3",
   "version": "3.10.11"
  }
 },
 "nbformat": 4,
 "nbformat_minor": 2
}
