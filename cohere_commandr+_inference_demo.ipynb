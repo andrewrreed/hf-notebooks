{
 "cells": [
  {
   "cell_type": "markdown",
   "metadata": {},
   "source": [
    "# Using Cohere's CommandR+ with Hugging Face Serverless Inference API"
   ]
  },
  {
   "cell_type": "code",
   "execution_count": null,
   "metadata": {},
   "outputs": [],
   "source": [
    "!pip install --upgrade transformers huggingface_hub"
   ]
  },
  {
   "cell_type": "code",
   "execution_count": 3,
   "metadata": {},
   "outputs": [],
   "source": [
    "from transformers import AutoTokenizer\n",
    "from huggingface_hub import InferenceClient, interpreter_login, get_token\n",
    "\n",
    "# interpreter_login()"
   ]
  },
  {
   "cell_type": "markdown",
   "metadata": {},
   "source": [
    "### Instantiate an `InferenceClient`\n",
    "\n",
    "See [the docs](https://huggingface.co/docs/huggingface_hub/package_reference/inference_client) for details\n"
   ]
  },
  {
   "cell_type": "code",
   "execution_count": 4,
   "metadata": {},
   "outputs": [],
   "source": [
    "# Note that we can optionally specify a model name or Inference Endpoint URL here or at the time of call the model.\n",
    "client = InferenceClient()"
   ]
  },
  {
   "cell_type": "markdown",
   "metadata": {},
   "source": [
    "## Generate Text Using a Chat Template\n",
    "\n",
    "We first apply the chat template and then send the request via Inference API"
   ]
  },
  {
   "cell_type": "code",
   "execution_count": 7,
   "metadata": {},
   "outputs": [
    {
     "name": "stderr",
     "output_type": "stream",
     "text": [
      "Special tokens have been added in the vocabulary, make sure the associated word embeddings are fine-tuned or trained.\n"
     ]
    }
   ],
   "source": [
    "model_id = \"CohereForAI/c4ai-command-r-plus\"\n",
    "tokenizer = AutoTokenizer.from_pretrained(model_id)\n",
    "\n",
    "# define conversation input:\n",
    "conversation = [{\"role\": \"user\", \"content\": \"Whats the biggest penguin in the world?\"}]\n",
    "# define documents to ground on:\n",
    "documents = [\n",
    "    {\n",
    "        \"title\": \"Tall penguins\",\n",
    "        \"text\": \"Emperor penguins are the tallest growing up to 122 cm in height.\",\n",
    "    },\n",
    "    {\"title\": \"Penguin habitats\", \"text\": \"Emperor penguins only live in Antarctica.\"},\n",
    "]\n",
    "\n",
    "# render the tool use prompt as a string:\n",
    "grounded_generation_prompt = tokenizer.apply_grounded_generation_template(\n",
    "    conversation,\n",
    "    documents=documents,\n",
    "    citation_mode=\"accurate\",  # or \"fast\"\n",
    "    tokenize=False,\n",
    "    add_generation_prompt=True,\n",
    ")"
   ]
  },
  {
   "cell_type": "code",
   "execution_count": 8,
   "metadata": {},
   "outputs": [
    {
     "name": "stdout",
     "output_type": "stream",
     "text": [
      "<BOS_TOKEN><|START_OF_TURN_TOKEN|><|SYSTEM_TOKEN|># Safety Preamble\n",
      "The instructions in this section override those in the task description and style guide sections. Don't answer questions that are harmful or immoral.\n",
      "\n",
      "# System Preamble\n",
      "## Basic Rules\n",
      "You are a powerful conversational AI trained by Cohere to help people. You are augmented by a number of tools, and your job is to use and consume the output of these tools to best help the user. You will see a conversation history between yourself and a user, ending with an utterance from the user. You will then see a specific instruction instructing you what kind of response to generate. When you answer the user's requests, you cite your sources in your answers, according to those instructions.\n",
      "\n",
      "# User Preamble\n",
      "## Task and Context\n",
      "You help people answer their questions and other requests interactively. You will be asked a very wide array of requests on all kinds of topics. You will be equipped with a wide range of search engines or similar tools to help you, which you use to research your answer. You should focus on serving the user's needs as best you can, which will be wide-ranging.\n",
      "\n",
      "## Style Guide\n",
      "Unless the user asks for a different style of answer, you should answer in full sentences, using proper grammar and spelling.<|END_OF_TURN_TOKEN|><|START_OF_TURN_TOKEN|><|USER_TOKEN|>Whats the biggest penguin in the world?<|END_OF_TURN_TOKEN|><|START_OF_TURN_TOKEN|><|SYSTEM_TOKEN|><results>\n",
      "Document: 0\n",
      "title: Tall penguins\n",
      "text: Emperor penguins are the tallest growing up to 122 cm in height.\n",
      "\n",
      "Document: 1\n",
      "title: Penguin habitats\n",
      "text: Emperor penguins only live in Antarctica.\n",
      "</results><|END_OF_TURN_TOKEN|><|START_OF_TURN_TOKEN|><|SYSTEM_TOKEN|>Carefully perform the following instructions, in order, starting each with a new line.\n",
      "Firstly, Decide which of the retrieved documents are relevant to the user's last input by writing 'Relevant Documents:' followed by comma-separated list of document numbers. If none are relevant, you should instead write 'None'.\n",
      "Secondly, Decide which of the retrieved documents contain facts that should be cited in a good answer to the user's last input by writing 'Cited Documents:' followed a comma-separated list of document numbers. If you dont want to cite any of them, you should instead write 'None'.\n",
      "Thirdly, Write 'Answer:' followed by a response to the user's last input in high quality natural english. Use the retrieved documents to help you. Do not insert any citations or grounding markup.\n",
      "Finally, Write 'Grounded answer:' followed by a response to the user's last input in high quality natural english. Use the symbols <co: doc> and </co: doc> to indicate when a fact comes from a document in the search result, e.g <co: 0>my fact</co: 0> for a fact from document 0.<|END_OF_TURN_TOKEN|><|START_OF_TURN_TOKEN|><|CHATBOT_TOKEN|>\n"
     ]
    }
   ],
   "source": [
    "print(grounded_generation_prompt)"
   ]
  },
  {
   "cell_type": "code",
   "execution_count": 9,
   "metadata": {},
   "outputs": [
    {
     "name": "stdout",
     "output_type": "stream",
     "text": [
      "Relevant Documents: 0,1\n",
      "Cited Documents: 0,1\n",
      "Answer: The Emperor penguin is the tallest penguin species, growing up to 122 cm in height. They are native to Antarctica.\n",
      "Grounded answer: The <co: 0,1>Emperor penguin</co: 0,1> is the tallest penguin species, growing up to <co: 0>122 cm in height.</co: 0> They are <co: 1>native to Antarctica.</co: 1>\n"
     ]
    }
   ],
   "source": [
    "response = client.text_generation(\n",
    "    grounded_generation_prompt, model=model_id, max_new_tokens=512\n",
    ")\n",
    "print(response)"
   ]
  }
 ],
 "metadata": {
  "kernelspec": {
   "display_name": ".venv",
   "language": "python",
   "name": "python3"
  },
  "language_info": {
   "codemirror_mode": {
    "name": "ipython",
    "version": 3
   },
   "file_extension": ".py",
   "mimetype": "text/x-python",
   "name": "python",
   "nbconvert_exporter": "python",
   "pygments_lexer": "ipython3",
   "version": "3.10.11"
  }
 },
 "nbformat": 4,
 "nbformat_minor": 2
}
