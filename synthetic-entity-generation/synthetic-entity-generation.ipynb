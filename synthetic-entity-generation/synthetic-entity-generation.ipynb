{
 "cells": [
  {
   "cell_type": "markdown",
   "metadata": {},
   "source": [
    "# Generating Synthetic Entities with `Outlines`\n"
   ]
  },
  {
   "cell_type": "markdown",
   "metadata": {},
   "source": [
    "Plan: Given a domain/industry, need to generate synthetic entities that are comprised of:\n",
    "\n",
    "1. First, given a domain/industry name and a description of that domain, generate a list of N possible job titles (along with job description)\n",
    "\n",
    "IndustryJobs - Industry Name - Industry Description - Job Titles\n",
    "\n",
    "2. Then for each job title/description generate, generate a job entity:\n",
    "\n",
    "Job Entity - Job Title (str) - Job Description (str) - Associated Job Postings/Position (List[str]) - Job Skills (List[str])\n"
   ]
  },
  {
   "cell_type": "code",
   "execution_count": 1,
   "metadata": {},
   "outputs": [],
   "source": [
    "import os\n",
    "from enum import Enum\n",
    "from getpass import getpass\n",
    "from dataclasses import dataclass\n",
    "\n",
    "from pydantic import BaseModel, conlist, constr\n",
    "\n",
    "import transformers\n",
    "\n",
    "\n",
    "import outlines"
   ]
  },
  {
   "cell_type": "code",
   "execution_count": 2,
   "metadata": {},
   "outputs": [],
   "source": [
    "class Job(BaseModel):\n",
    "    job_title: str\n",
    "    job_description: str\n",
    "\n",
    "\n",
    "class IndustryJobs(BaseModel):\n",
    "    industry_name: str\n",
    "    industry_description: str\n",
    "    industry_jobs: conlist(Job, min_length=5, max_length=10)  # type: ignore"
   ]
  },
  {
   "cell_type": "code",
   "execution_count": 3,
   "metadata": {},
   "outputs": [],
   "source": [
    "@outlines.prompt\n",
    "def industry_jobs_prompt(name: str, description: str) -> IndustryJobs:\n",
    "    \"\"\"\n",
    "    You are a expert human resources professional with broad, deep knowledge of talent profiles across every industry.\n",
    "    Your job is to generate a list of diverse and popular job titles and corresponding descriptions that cover a range\n",
    "    of functions, from foundational roles to innovative and emerging positions based on a provided industry name and description.\n",
    "\n",
    "    Here is the new industry you need to generate jobs for:\n",
    "    Industry Name: {{ name }}\n",
    "    Industry Description: {{ description }}\n",
    "    Jobs List:\n",
    "    \"\"\""
   ]
  },
  {
   "cell_type": "code",
   "execution_count": 4,
   "metadata": {},
   "outputs": [
    {
     "name": "stderr",
     "output_type": "stream",
     "text": [
      "The `load_in_4bit` and `load_in_8bit` arguments are deprecated and will be removed in the future versions. Please, pass a `BitsAndBytesConfig` object in `quantization_config` argument instead.\n"
     ]
    },
    {
     "data": {
      "application/vnd.jupyter.widget-view+json": {
       "model_id": "4dde02c148af468fbe67b565387fc3df",
       "version_major": 2,
       "version_minor": 0
      },
      "text/plain": [
       "Loading checkpoint shards:   0%|          | 0/4 [00:00<?, ?it/s]"
      ]
     },
     "metadata": {},
     "output_type": "display_data"
    },
    {
     "name": "stderr",
     "output_type": "stream",
     "text": [
      "Special tokens have been added in the vocabulary, make sure the associated word embeddings are fine-tuned or trained.\n"
     ]
    }
   ],
   "source": [
    "from outlines import models\n",
    "\n",
    "model_id = \"Qwen/Qwen1.5-7B-Chat\"\n",
    "# config = transformers.AutoConfig.from_pretrained(\n",
    "#     model_id,\n",
    "# )\n",
    "\n",
    "model = outlines.models.transformers(\n",
    "    model_id, device=\"cuda\", model_kwargs={\"device_map\": \"auto\", \"load_in_4bit\": True}\n",
    ")"
   ]
  },
  {
   "cell_type": "code",
   "execution_count": 5,
   "metadata": {},
   "outputs": [
    {
     "data": {
      "text/plain": [
       "device(type='cuda', index=0)"
      ]
     },
     "execution_count": 5,
     "metadata": {},
     "output_type": "execute_result"
    }
   ],
   "source": [
    "model.device"
   ]
  },
  {
   "cell_type": "code",
   "execution_count": 6,
   "metadata": {},
   "outputs": [],
   "source": [
    "prompt = industry_jobs_prompt(\n",
    "    name=\"Software Development\",\n",
    "    description=\"Software development is the process of conceiving, specifying, designing, programming, documenting, testing, and bug fixing involved in creating and maintaining applications, frameworks, or other software components.\",\n",
    ")"
   ]
  },
  {
   "cell_type": "code",
   "execution_count": 7,
   "metadata": {},
   "outputs": [
    {
     "name": "stderr",
     "output_type": "stream",
     "text": [
      "/home/ubuntu/hf-notebooks/synthetic-entity-generation/.venv/lib/python3.10/site-packages/bitsandbytes/nn/modules.py:226: UserWarning: Input type into Linear4bit is torch.float16, but bnb_4bit_compute_dtype=torch.float32 (default). This will lead to slow inference or training speed.\n",
      "  warnings.warn(f'Input type into Linear4bit is torch.float16, but bnb_4bit_compute_dtype=torch.float32 (default). This will lead to slow inference or training speed.')\n"
     ]
    },
    {
     "data": {
      "text/plain": [
       "IndustryJobs(industry_name='Software Development', industry_description='Software development is the process of creating and maintaining applications using coding skills and advanced technologies.', industry_jobs=[Job(job_title='Software Developer', job_description='Design and develop software applications, using programming languages such as Java, Python, or C++. Collaborate with cross-functional teams to ensure software quality, scalability, and functionality. Write clean, efficient, and well-documented code. Perform functional testing, debugging, and bug fixing.'), Job(job_title='Frontend Developer', job_description='Design and develop user interfaces for web and mobile applications using HTML, CSS, and JavaScript. Create responsive, intuitive, and visually appealing designs that improve user experience. Collaborate with backend developers to integrate frontend functionality with backend systems. Stay up-to-date with前端 technologies and web development best practices.'), Job(job_title='Data Analyst', job_description='Collect, analyze, and interpret large data sets to provide insights and support business decisions. Utilize tools like SQL, Python, or Excel to extract, clean, and visualize data. Develop dashboards and reports to present findings to stakeholders. Collaborate with software developers to integrate data into applications.'), Job(job_title='Unity Developer', job_description='Develop applications using Unity, a 3D game engine, for various platforms such as PC, mobile, or virtual reality. Design and create interactive 3D scenes, characters, and environments. Utilize scripting languages to control game mechanics and user interactions. Collaborate with designers and game designers to bring concepts to life.'), Job(job_title='Project Manager', job_description='Oversee software development projects from conception to completion, ensuring timely delivery and quality. Manage project budgets, timelines, and resources. Collaborate with stakeholders, develop project plans, and track project progress. Identify and mitigate risks to maintain project success.'), Job(job_title='Technical Writer', job_description='Create user manuals, technical guides, and documentation for software products. Write clear, concise, and engaging content that caters to various user levels. Collaborate with developers, product managers, and designers to understand product requirements and往往包含了谜团。使用各种工具，如Notion或Confluence，来组织和格式化内容。'), Job(job_title='Software Architect', job_description='Design and oversee the architecture of software systems, deciding on the structure, modules, and data models. Ensure systems are scalable, maintainable, and adaptable. Collaborate with developers and other stakeholders to define and enforce coding standards. Stay informed about industry trends and technologies.')])"
      ]
     },
     "execution_count": 7,
     "metadata": {},
     "output_type": "execute_result"
    }
   ],
   "source": [
    "outlines.generate.json(model, IndustryJobs)(prompt)"
   ]
  },
  {
   "cell_type": "code",
   "execution_count": null,
   "metadata": {},
   "outputs": [],
   "source": []
  }
 ],
 "metadata": {
  "kernelspec": {
   "display_name": ".venv",
   "language": "python",
   "name": "python3"
  },
  "language_info": {
   "codemirror_mode": {
    "name": "ipython",
    "version": 3
   },
   "file_extension": ".py",
   "mimetype": "text/x-python",
   "name": "python",
   "nbconvert_exporter": "python",
   "pygments_lexer": "ipython3",
   "version": "3.10.9"
  }
 },
 "nbformat": 4,
 "nbformat_minor": 2
}
