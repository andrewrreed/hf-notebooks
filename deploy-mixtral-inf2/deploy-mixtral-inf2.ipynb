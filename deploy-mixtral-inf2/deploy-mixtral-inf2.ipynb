{
 "cells": [
  {
   "cell_type": "markdown",
   "metadata": {},
   "source": [
    "# Deploying Mixtral on AWS Inferentia2"
   ]
  },
  {
   "cell_type": "markdown",
   "metadata": {},
   "source": [
    "## 1. Spin up an EC2 instance\n",
    "\n",
    "Here we'll be using:\n",
    "- [Hugging Face Neuron Deep Learning AMI](https://aws.amazon.com/marketplace/pp/prodview-gr3e6yiscria2)\n",
    "- `ml.inf2.24xlarge` instance type"
   ]
  },
  {
   "cell_type": "markdown",
   "metadata": {},
   "source": [
    "## 2. Convert `Mixtral-8x7B-Instruct-v0.1` to AWS Neuron with `optimum-neuron`"
   ]
  },
  {
   "cell_type": "code",
   "execution_count": null,
   "metadata": {},
   "outputs": [],
   "source": [
    "# optimium[neuronx] comes pre-installed, but upgrade to latest incase: \n",
    "# https://huggingface.co/docs/optimum-neuron/installation\n",
    "!pip install --upgrade-strategy eager optimum[neuronx]"
   ]
  },
  {
   "cell_type": "code",
   "execution_count": 1,
   "metadata": {},
   "outputs": [],
   "source": [
    "import sys\n",
    "sys.path.append(\"/opt/aws_neuron_venv_pytorch/lib/python3.8/site-packages\")"
   ]
  },
  {
   "cell_type": "code",
   "execution_count": 2,
   "metadata": {},
   "outputs": [
    {
     "name": "stdout",
     "output_type": "stream",
     "text": [
      "\n",
      "    _|    _|  _|    _|    _|_|_|    _|_|_|  _|_|_|  _|      _|    _|_|_|      _|_|_|_|    _|_|      _|_|_|  _|_|_|_|\n",
      "    _|    _|  _|    _|  _|        _|          _|    _|_|    _|  _|            _|        _|    _|  _|        _|\n",
      "    _|_|_|_|  _|    _|  _|  _|_|  _|  _|_|    _|    _|  _|  _|  _|  _|_|      _|_|_|    _|_|_|_|  _|        _|_|_|\n",
      "    _|    _|  _|    _|  _|    _|  _|    _|    _|    _|    _|_|  _|    _|      _|        _|    _|  _|        _|\n",
      "    _|    _|    _|_|      _|_|_|    _|_|_|  _|_|_|  _|      _|    _|_|_|      _|        _|    _|    _|_|_|  _|_|_|_|\n",
      "\n",
      "    A token is already saved on your machine. Run `huggingface-cli whoami` to get more information or `huggingface-cli logout` if you want to log out.\n",
      "    Setting a new token will erase the existing one.\n",
      "    To login, `huggingface_hub` requires a token generated from https://huggingface.co/settings/tokens .\n",
      "Token is valid (permission: write).\n",
      "Your token has been saved in your configured git credential helpers (store).\n",
      "Your token has been saved to /home/ubuntu/.cache/huggingface/token\n",
      "Login successful\n"
     ]
    }
   ],
   "source": [
    "# login for gated repo\n",
    "from huggingface_hub import interpreter_login\n",
    "\n",
    "interpreter_login()"
   ]
  },
  {
   "cell_type": "markdown",
   "metadata": {},
   "source": [
    "**NOTE:** \n",
    "1. The Mixtral implementation in `aws-neuron/transformers-neuronx` has [a requirement](https://github.com/aws-neuron/transformers-neuronx/blob/0623de20a3934f8d1b3cb73e1672138657134d7f/src/transformers_neuronx/mixtral/config.py#L57) on the value for `tp_degree`. \n",
    "- `tp_degree` is [auto-populated](https://github.com/huggingface/optimum-neuron/blob/7439a2d32808ce19ddece2d9a34d047af46dd1b1/optimum/neuron/modeling_decoder.py#L174) in `optimum-neuron` to be equal to `num_cores`.\n",
    "- For this reason, you can only compile the model with the `num_cores` set to 8 or 16 (32 is only for tranium instances)\n",
    "\n",
    "2. When compiling with `sequence_length==32k`, I noticed the following error:\n",
    "- > Estimated peak HBM usage (32.264610) exceeds 16GB. Neff won't be able to load on chip - Please open a support ticket at https://github.com/aws-neuron/aws-neuron-sdk/issues/new\n",
    "- Each decoder block will need to allocate a static KV cache that is proportional to batch_size * sequence_length, and it seems for Neuron devices that 32k will not actually fit.. I used 8k here, but it's possible the value could be higher (need to test this)"
   ]
  },
  {
   "cell_type": "code",
   "execution_count": 6,
   "metadata": {},
   "outputs": [
    {
     "data": {
      "application/vnd.jupyter.widget-view+json": {
       "model_id": "039223a7d0c046b09f314ccb65d0db69",
       "version_major": 2,
       "version_minor": 0
      },
      "text/plain": [
       "config.json:   0%|          | 0.00/720 [00:00<?, ?B/s]"
      ]
     },
     "metadata": {},
     "output_type": "display_data"
    },
    {
     "data": {
      "application/vnd.jupyter.widget-view+json": {
       "model_id": "43ef27603b9f4c098de26553123eea96",
       "version_major": 2,
       "version_minor": 0
      },
      "text/plain": [
       "model.safetensors.index.json:   0%|          | 0.00/92.7k [00:00<?, ?B/s]"
      ]
     },
     "metadata": {},
     "output_type": "display_data"
    },
    {
     "data": {
      "application/vnd.jupyter.widget-view+json": {
       "model_id": "96862a4fda264fa7aa53affb2ea46f4a",
       "version_major": 2,
       "version_minor": 0
      },
      "text/plain": [
       "Downloading shards:   0%|          | 0/19 [00:00<?, ?it/s]"
      ]
     },
     "metadata": {},
     "output_type": "display_data"
    },
    {
     "data": {
      "application/vnd.jupyter.widget-view+json": {
       "model_id": "25ffdbd7e782443181bc379d96b51e20",
       "version_major": 2,
       "version_minor": 0
      },
      "text/plain": [
       "model-00001-of-00019.safetensors:   0%|          | 0.00/4.89G [00:00<?, ?B/s]"
      ]
     },
     "metadata": {},
     "output_type": "display_data"
    },
    {
     "data": {
      "application/vnd.jupyter.widget-view+json": {
       "model_id": "04fe8f5c6ae64bfda0ba9d9453a1ca93",
       "version_major": 2,
       "version_minor": 0
      },
      "text/plain": [
       "model-00002-of-00019.safetensors:   0%|          | 0.00/4.98G [00:00<?, ?B/s]"
      ]
     },
     "metadata": {},
     "output_type": "display_data"
    },
    {
     "data": {
      "application/vnd.jupyter.widget-view+json": {
       "model_id": "34a0b55c480e4dfc820a102147ad3d3e",
       "version_major": 2,
       "version_minor": 0
      },
      "text/plain": [
       "model-00003-of-00019.safetensors:   0%|          | 0.00/4.98G [00:00<?, ?B/s]"
      ]
     },
     "metadata": {},
     "output_type": "display_data"
    },
    {
     "data": {
      "application/vnd.jupyter.widget-view+json": {
       "model_id": "92b3b89653534418b8efc58def1e6d77",
       "version_major": 2,
       "version_minor": 0
      },
      "text/plain": [
       "model-00004-of-00019.safetensors:   0%|          | 0.00/4.90G [00:00<?, ?B/s]"
      ]
     },
     "metadata": {},
     "output_type": "display_data"
    },
    {
     "data": {
      "application/vnd.jupyter.widget-view+json": {
       "model_id": "cc0ef0e4897f4dffa492f1520ab6c42a",
       "version_major": 2,
       "version_minor": 0
      },
      "text/plain": [
       "model-00005-of-00019.safetensors:   0%|          | 0.00/4.98G [00:00<?, ?B/s]"
      ]
     },
     "metadata": {},
     "output_type": "display_data"
    },
    {
     "data": {
      "application/vnd.jupyter.widget-view+json": {
       "model_id": "8067df7b778a43fbbb6c3723876da4ee",
       "version_major": 2,
       "version_minor": 0
      },
      "text/plain": [
       "model-00006-of-00019.safetensors:   0%|          | 0.00/4.98G [00:00<?, ?B/s]"
      ]
     },
     "metadata": {},
     "output_type": "display_data"
    },
    {
     "data": {
      "application/vnd.jupyter.widget-view+json": {
       "model_id": "f5ce5176fc244999b92dd5cadd0c9d36",
       "version_major": 2,
       "version_minor": 0
      },
      "text/plain": [
       "model-00007-of-00019.safetensors:   0%|          | 0.00/4.90G [00:00<?, ?B/s]"
      ]
     },
     "metadata": {},
     "output_type": "display_data"
    },
    {
     "data": {
      "application/vnd.jupyter.widget-view+json": {
       "model_id": "43edcfb2a54d4d8a86ab3880e1884afa",
       "version_major": 2,
       "version_minor": 0
      },
      "text/plain": [
       "model-00008-of-00019.safetensors:   0%|          | 0.00/4.98G [00:00<?, ?B/s]"
      ]
     },
     "metadata": {},
     "output_type": "display_data"
    },
    {
     "data": {
      "application/vnd.jupyter.widget-view+json": {
       "model_id": "4f27de7de4e14ce890d4096ab01bd8df",
       "version_major": 2,
       "version_minor": 0
      },
      "text/plain": [
       "model-00009-of-00019.safetensors:   0%|          | 0.00/4.98G [00:00<?, ?B/s]"
      ]
     },
     "metadata": {},
     "output_type": "display_data"
    },
    {
     "data": {
      "application/vnd.jupyter.widget-view+json": {
       "model_id": "ba37cf1c7e9b4442b3e9dbc7208a45d5",
       "version_major": 2,
       "version_minor": 0
      },
      "text/plain": [
       "model-00010-of-00019.safetensors:   0%|          | 0.00/4.90G [00:00<?, ?B/s]"
      ]
     },
     "metadata": {},
     "output_type": "display_data"
    },
    {
     "data": {
      "application/vnd.jupyter.widget-view+json": {
       "model_id": "2caf4e12c502464db809be9623fa5247",
       "version_major": 2,
       "version_minor": 0
      },
      "text/plain": [
       "model-00011-of-00019.safetensors:   0%|          | 0.00/4.98G [00:00<?, ?B/s]"
      ]
     },
     "metadata": {},
     "output_type": "display_data"
    },
    {
     "data": {
      "application/vnd.jupyter.widget-view+json": {
       "model_id": "9c6c05c072744d209427e1e32945b630",
       "version_major": 2,
       "version_minor": 0
      },
      "text/plain": [
       "model-00012-of-00019.safetensors:   0%|          | 0.00/4.98G [00:00<?, ?B/s]"
      ]
     },
     "metadata": {},
     "output_type": "display_data"
    },
    {
     "data": {
      "application/vnd.jupyter.widget-view+json": {
       "model_id": "6c8f3d1244ce45d2add12fcdb7f47dd6",
       "version_major": 2,
       "version_minor": 0
      },
      "text/plain": [
       "model-00013-of-00019.safetensors:   0%|          | 0.00/4.98G [00:00<?, ?B/s]"
      ]
     },
     "metadata": {},
     "output_type": "display_data"
    },
    {
     "data": {
      "application/vnd.jupyter.widget-view+json": {
       "model_id": "d394c7037c36481397e1a39bee2f52c5",
       "version_major": 2,
       "version_minor": 0
      },
      "text/plain": [
       "model-00014-of-00019.safetensors:   0%|          | 0.00/4.90G [00:00<?, ?B/s]"
      ]
     },
     "metadata": {},
     "output_type": "display_data"
    },
    {
     "data": {
      "application/vnd.jupyter.widget-view+json": {
       "model_id": "66f20114edd845559e8955a615ff6e44",
       "version_major": 2,
       "version_minor": 0
      },
      "text/plain": [
       "model-00015-of-00019.safetensors:   0%|          | 0.00/4.98G [00:00<?, ?B/s]"
      ]
     },
     "metadata": {},
     "output_type": "display_data"
    },
    {
     "data": {
      "application/vnd.jupyter.widget-view+json": {
       "model_id": "ce4245f4ad3b4e9c8caf1fa51715da0f",
       "version_major": 2,
       "version_minor": 0
      },
      "text/plain": [
       "model-00016-of-00019.safetensors:   0%|          | 0.00/4.98G [00:00<?, ?B/s]"
      ]
     },
     "metadata": {},
     "output_type": "display_data"
    },
    {
     "data": {
      "application/vnd.jupyter.widget-view+json": {
       "model_id": "a55dd8d8a53849e39fe2f2b87416431d",
       "version_major": 2,
       "version_minor": 0
      },
      "text/plain": [
       "model-00017-of-00019.safetensors:   0%|          | 0.00/4.90G [00:00<?, ?B/s]"
      ]
     },
     "metadata": {},
     "output_type": "display_data"
    },
    {
     "data": {
      "application/vnd.jupyter.widget-view+json": {
       "model_id": "11d16b4c21474567a87b38c31977ac55",
       "version_major": 2,
       "version_minor": 0
      },
      "text/plain": [
       "model-00018-of-00019.safetensors:   0%|          | 0.00/4.98G [00:00<?, ?B/s]"
      ]
     },
     "metadata": {},
     "output_type": "display_data"
    },
    {
     "data": {
      "application/vnd.jupyter.widget-view+json": {
       "model_id": "ff281a7060314045ba31e015ef42819a",
       "version_major": 2,
       "version_minor": 0
      },
      "text/plain": [
       "model-00019-of-00019.safetensors:   0%|          | 0.00/4.22G [00:00<?, ?B/s]"
      ]
     },
     "metadata": {},
     "output_type": "display_data"
    },
    {
     "data": {
      "application/vnd.jupyter.widget-view+json": {
       "model_id": "e298ba94b12a4842ab15a0a6b3e0af6c",
       "version_major": 2,
       "version_minor": 0
      },
      "text/plain": [
       "Loading checkpoint shards:   0%|          | 0/19 [00:00<?, ?it/s]"
      ]
     },
     "metadata": {},
     "output_type": "display_data"
    },
    {
     "data": {
      "application/vnd.jupyter.widget-view+json": {
       "model_id": "b134998f8bc442bd9ce4767b917b78f2",
       "version_major": 2,
       "version_minor": 0
      },
      "text/plain": [
       "generation_config.json:   0%|          | 0.00/116 [00:00<?, ?B/s]"
      ]
     },
     "metadata": {},
     "output_type": "display_data"
    },
    {
     "name": "stdout",
     "output_type": "stream",
     "text": [
      "2024-05-22 15:10:53.000769:  3594  INFO ||NEURON_CACHE||: Compile cache path: /var/tmp/neuron-compile-cache\n",
      "2024-05-22 15:11:45.000387:  7713  INFO ||NEURON_CACHE||: Compile cache path: /var/tmp/neuron-compile-cache\n"
     ]
    },
    {
     "name": "stderr",
     "output_type": "stream",
     "text": [
      "neuronxcc-2.13.66.0+6dfecc895/MODULE_4d814281da2495847317+2c2d707e/model.neff not found in aws-neuron/optimum-neuron-cache: the corresponding graph will be recompiled. This may take up to one hour for large models.\n"
     ]
    },
    {
     "name": "stdout",
     "output_type": "stream",
     "text": [
      "2024-05-22 15:11:45.000518:  7714  INFO ||NEURON_CACHE||: Compile cache path: /var/tmp/neuron-compile-cache\n"
     ]
    },
    {
     "name": "stderr",
     "output_type": "stream",
     "text": [
      "neuronxcc-2.13.66.0+6dfecc895/MODULE_4d814281da2495847317+2c2d707e/model.neff not found in aws-neuron/optimum-neuron-cache: the corresponding graph will be recompiled. This may take up to one hour for large models.\n",
      "neuronxcc-2.13.66.0+6dfecc895/MODULE_4d814281da2495847317+2c2d707e/model.neff not found in aws-neuron/optimum-neuron-cache: the corresponding graph will be recompiled. This may take up to one hour for large models.\n"
     ]
    },
    {
     "name": "stdout",
     "output_type": "stream",
     "text": [
      "2024-05-22 15:11:45.000550:  7713  INFO ||NEURON_CC_WRAPPER||: Call compiler with cmd: neuronx-cc compile --target=trn1 --framework=XLA /tmp/ubuntu/neuroncc_compile_workdir/264b382f-800a-4644-9542-4bd331cc07a4/model.MODULE_4d814281da2495847317+2c2d707e.hlo_module.pb --output /tmp/ubuntu/neuroncc_compile_workdir/264b382f-800a-4644-9542-4bd331cc07a4/model.MODULE_4d814281da2495847317+2c2d707e.neff --model-type=transformer --auto-cast=none --verbose=35\n",
      "2024-05-22 15:11:45.000598:  7715  INFO ||NEURON_CACHE||: Compile cache path: /var/tmp/neuron-compile-cache\n"
     ]
    },
    {
     "name": "stderr",
     "output_type": "stream",
     "text": [
      "neuronxcc-2.13.66.0+6dfecc895/MODULE_68a36cfa373ded34f5dd+2c2d707e/model.neff not found in aws-neuron/optimum-neuron-cache: the corresponding graph will be recompiled. This may take up to one hour for large models.\n",
      "neuronxcc-2.13.66.0+6dfecc895/MODULE_68a36cfa373ded34f5dd+2c2d707e/model.neff not found in aws-neuron/optimum-neuron-cache: the corresponding graph will be recompiled. This may take up to one hour for large models.\n"
     ]
    },
    {
     "name": "stdout",
     "output_type": "stream",
     "text": [
      "2024-05-22 15:11:45.000685:  7716  INFO ||NEURON_CACHE||: Compile cache path: /var/tmp/neuron-compile-cache\n"
     ]
    },
    {
     "name": "stderr",
     "output_type": "stream",
     "text": [
      "neuronxcc-2.13.66.0+6dfecc895/MODULE_68a36cfa373ded34f5dd+2c2d707e/model.neff not found in aws-neuron/optimum-neuron-cache: the corresponding graph will be recompiled. This may take up to one hour for large models.\n"
     ]
    },
    {
     "name": "stdout",
     "output_type": "stream",
     "text": [
      "2024-05-22 15:11:45.000697:  7714  INFO ||NEURON_CC_WRAPPER||: Call compiler with cmd: neuronx-cc compile --target=trn1 --framework=XLA /tmp/ubuntu/neuroncc_compile_workdir/48f22398-3dfe-4684-ae2d-f2d0d5c225c7/model.MODULE_68a36cfa373ded34f5dd+2c2d707e.hlo_module.pb --output /tmp/ubuntu/neuroncc_compile_workdir/48f22398-3dfe-4684-ae2d-f2d0d5c225c7/model.MODULE_68a36cfa373ded34f5dd+2c2d707e.neff --model-type=transformer --auto-cast=none --verbose=35\n"
     ]
    },
    {
     "name": "stderr",
     "output_type": "stream",
     "text": [
      "neuronxcc-2.13.66.0+6dfecc895/MODULE_bcb91f2271dd1a021698+2c2d707e/model.neff not found in aws-neuron/optimum-neuron-cache: the corresponding graph will be recompiled. This may take up to one hour for large models.\n",
      "neuronxcc-2.13.66.0+6dfecc895/MODULE_bcb91f2271dd1a021698+2c2d707e/model.neff not found in aws-neuron/optimum-neuron-cache: the corresponding graph will be recompiled. This may take up to one hour for large models.\n"
     ]
    },
    {
     "name": "stdout",
     "output_type": "stream",
     "text": [
      "2024-05-22 15:11:45.000773:  7717  INFO ||NEURON_CACHE||: Compile cache path: /var/tmp/neuron-compile-cache\n"
     ]
    },
    {
     "name": "stderr",
     "output_type": "stream",
     "text": [
      "neuronxcc-2.13.66.0+6dfecc895/MODULE_bcb91f2271dd1a021698+2c2d707e/model.neff not found in aws-neuron/optimum-neuron-cache: the corresponding graph will be recompiled. This may take up to one hour for large models.\n"
     ]
    },
    {
     "name": "stdout",
     "output_type": "stream",
     "text": [
      "2024-05-22 15:11:45.000794:  7715  INFO ||NEURON_CC_WRAPPER||: Call compiler with cmd: neuronx-cc compile --target=trn1 --framework=XLA /tmp/ubuntu/neuroncc_compile_workdir/c8f76d93-abaa-4464-b065-e03ab21acd30/model.MODULE_bcb91f2271dd1a021698+2c2d707e.hlo_module.pb --output /tmp/ubuntu/neuroncc_compile_workdir/c8f76d93-abaa-4464-b065-e03ab21acd30/model.MODULE_bcb91f2271dd1a021698+2c2d707e.neff --model-type=transformer --auto-cast=none --verbose=35\n",
      "2024-05-22 15:11:45.000804:  7718  INFO ||NEURON_CACHE||: Compile cache path: /var/tmp/neuron-compile-cache\n"
     ]
    },
    {
     "name": "stderr",
     "output_type": "stream",
     "text": [
      "neuronxcc-2.13.66.0+6dfecc895/MODULE_9ac1f331374a321df585+2c2d707e/model.neff not found in aws-neuron/optimum-neuron-cache: the corresponding graph will be recompiled. This may take up to one hour for large models.\n",
      "neuronxcc-2.13.66.0+6dfecc895/MODULE_9ac1f331374a321df585+2c2d707e/model.neff not found in aws-neuron/optimum-neuron-cache: the corresponding graph will be recompiled. This may take up to one hour for large models.\n"
     ]
    },
    {
     "name": "stdout",
     "output_type": "stream",
     "text": [
      "2024-05-22 15:11:45.000889:  7719  INFO ||NEURON_CACHE||: Compile cache path: /var/tmp/neuron-compile-cache\n"
     ]
    },
    {
     "name": "stderr",
     "output_type": "stream",
     "text": [
      "neuronxcc-2.13.66.0+6dfecc895/MODULE_cfae1beea2c1f1b45827+2c2d707e/model.neff not found in aws-neuron/optimum-neuron-cache: the corresponding graph will be recompiled. This may take up to one hour for large models.\n",
      "neuronxcc-2.13.66.0+6dfecc895/MODULE_9ac1f331374a321df585+2c2d707e/model.neff not found in aws-neuron/optimum-neuron-cache: the corresponding graph will be recompiled. This may take up to one hour for large models.\n"
     ]
    },
    {
     "name": "stdout",
     "output_type": "stream",
     "text": [
      "2024-05-22 15:11:45.000901:  7716  INFO ||NEURON_CC_WRAPPER||: Call compiler with cmd: neuronx-cc compile --target=trn1 --framework=XLA /tmp/ubuntu/neuroncc_compile_workdir/b568a123-80fb-403e-b58e-54fe551a0f38/model.MODULE_9ac1f331374a321df585+2c2d707e.hlo_module.pb --output /tmp/ubuntu/neuroncc_compile_workdir/b568a123-80fb-403e-b58e-54fe551a0f38/model.MODULE_9ac1f331374a321df585+2c2d707e.neff --model-type=transformer --auto-cast=none --verbose=35\n"
     ]
    },
    {
     "name": "stderr",
     "output_type": "stream",
     "text": [
      "neuronxcc-2.13.66.0+6dfecc895/MODULE_cfae1beea2c1f1b45827+2c2d707e/model.neff not found in aws-neuron/optimum-neuron-cache: the corresponding graph will be recompiled. This may take up to one hour for large models.\n",
      "neuronxcc-2.13.66.0+6dfecc895/MODULE_17b74ae2e9db9b7611df+2c2d707e/model.neff not found in aws-neuron/optimum-neuron-cache: the corresponding graph will be recompiled. This may take up to one hour for large models.\n",
      "neuronxcc-2.13.66.0+6dfecc895/MODULE_cfae1beea2c1f1b45827+2c2d707e/model.neff not found in aws-neuron/optimum-neuron-cache: the corresponding graph will be recompiled. This may take up to one hour for large models.\n",
      "neuronxcc-2.13.66.0+6dfecc895/MODULE_17b74ae2e9db9b7611df+2c2d707e/model.neff not found in aws-neuron/optimum-neuron-cache: the corresponding graph will be recompiled. This may take up to one hour for large models.\n"
     ]
    },
    {
     "name": "stdout",
     "output_type": "stream",
     "text": [
      "2024-05-22 15:11:45.000990:  7717  INFO ||NEURON_CC_WRAPPER||: Call compiler with cmd: neuronx-cc compile --target=trn1 --framework=XLA /tmp/ubuntu/neuroncc_compile_workdir/e3821e64-925a-41a6-b721-eb612b8acf58/model.MODULE_cfae1beea2c1f1b45827+2c2d707e.hlo_module.pb --output /tmp/ubuntu/neuroncc_compile_workdir/e3821e64-925a-41a6-b721-eb612b8acf58/model.MODULE_cfae1beea2c1f1b45827+2c2d707e.neff --model-type=transformer --auto-cast=none --verbose=35\n"
     ]
    },
    {
     "name": "stderr",
     "output_type": "stream",
     "text": [
      "neuronxcc-2.13.66.0+6dfecc895/MODULE_a80e9b0727c1903a01d8+2c2d707e/model.neff not found in aws-neuron/optimum-neuron-cache: the corresponding graph will be recompiled. This may take up to one hour for large models.\n",
      "neuronxcc-2.13.66.0+6dfecc895/MODULE_17b74ae2e9db9b7611df+2c2d707e/model.neff not found in aws-neuron/optimum-neuron-cache: the corresponding graph will be recompiled. This may take up to one hour for large models.\n"
     ]
    },
    {
     "name": "stdout",
     "output_type": "stream",
     "text": [
      "2024-05-22 15:11:46.000021:  7718  INFO ||NEURON_CC_WRAPPER||: Call compiler with cmd: neuronx-cc compile --target=trn1 --framework=XLA /tmp/ubuntu/neuroncc_compile_workdir/7bbad063-8bc4-4cd9-b3c7-2ca88cdc26d9/model.MODULE_17b74ae2e9db9b7611df+2c2d707e.hlo_module.pb --output /tmp/ubuntu/neuroncc_compile_workdir/7bbad063-8bc4-4cd9-b3c7-2ca88cdc26d9/model.MODULE_17b74ae2e9db9b7611df+2c2d707e.neff --model-type=transformer --auto-cast=none --verbose=35\n"
     ]
    },
    {
     "name": "stderr",
     "output_type": "stream",
     "text": [
      "neuronxcc-2.13.66.0+6dfecc895/MODULE_a80e9b0727c1903a01d8+2c2d707e/model.neff not found in aws-neuron/optimum-neuron-cache: the corresponding graph will be recompiled. This may take up to one hour for large models.\n"
     ]
    },
    {
     "name": "stdout",
     "output_type": "stream",
     "text": [
      "2024-05-22 15:11:46.000072:  7720  INFO ||NEURON_CACHE||: Compile cache path: /var/tmp/neuron-compile-cache\n"
     ]
    },
    {
     "name": "stderr",
     "output_type": "stream",
     "text": [
      "neuronxcc-2.13.66.0+6dfecc895/MODULE_a80e9b0727c1903a01d8+2c2d707e/model.neff not found in aws-neuron/optimum-neuron-cache: the corresponding graph will be recompiled. This may take up to one hour for large models.\n"
     ]
    },
    {
     "name": "stdout",
     "output_type": "stream",
     "text": [
      "2024-05-22 15:11:46.000106:  7719  INFO ||NEURON_CC_WRAPPER||: Call compiler with cmd: neuronx-cc compile --target=trn1 --framework=XLA /tmp/ubuntu/neuroncc_compile_workdir/6d0282c9-91dc-4ac4-a61c-40413e441e08/model.MODULE_a80e9b0727c1903a01d8+2c2d707e.hlo_module.pb --output /tmp/ubuntu/neuroncc_compile_workdir/6d0282c9-91dc-4ac4-a61c-40413e441e08/model.MODULE_a80e9b0727c1903a01d8+2c2d707e.neff --model-type=transformer --auto-cast=none --verbose=35\n"
     ]
    },
    {
     "name": "stderr",
     "output_type": "stream",
     "text": [
      "neuronxcc-2.13.66.0+6dfecc895/MODULE_f47abf736d6ded2bb16f+2c2d707e/model.neff not found in aws-neuron/optimum-neuron-cache: the corresponding graph will be recompiled. This may take up to one hour for large models.\n",
      "neuronxcc-2.13.66.0+6dfecc895/MODULE_f47abf736d6ded2bb16f+2c2d707e/model.neff not found in aws-neuron/optimum-neuron-cache: the corresponding graph will be recompiled. This may take up to one hour for large models.\n",
      "neuronxcc-2.13.66.0+6dfecc895/MODULE_f47abf736d6ded2bb16f+2c2d707e/model.neff not found in aws-neuron/optimum-neuron-cache: the corresponding graph will be recompiled. This may take up to one hour for large models.\n"
     ]
    },
    {
     "name": "stdout",
     "output_type": "stream",
     "text": [
      "2024-05-22 15:11:46.000280:  7720  INFO ||NEURON_CC_WRAPPER||: Call compiler with cmd: neuronx-cc compile --target=trn1 --framework=XLA /tmp/ubuntu/neuroncc_compile_workdir/2d477ec4-1c94-4c19-9c8c-9dfdffe725c5/model.MODULE_f47abf736d6ded2bb16f+2c2d707e.hlo_module.pb --output /tmp/ubuntu/neuroncc_compile_workdir/2d477ec4-1c94-4c19-9c8c-9dfdffe725c5/model.MODULE_f47abf736d6ded2bb16f+2c2d707e.neff --model-type=transformer --auto-cast=none --verbose=35\n",
      "2024-05-22 15:11:46.000291:  7721  INFO ||NEURON_CACHE||: Compile cache path: /var/tmp/neuron-compile-cache\n",
      "2024-05-22 15:11:46.000319:  7722  INFO ||NEURON_CACHE||: Compile cache path: /var/tmp/neuron-compile-cache\n"
     ]
    },
    {
     "name": "stderr",
     "output_type": "stream",
     "text": [
      "neuronxcc-2.13.66.0+6dfecc895/MODULE_12bcbdb90af04ab7e2b9+2c2d707e/model.neff not found in aws-neuron/optimum-neuron-cache: the corresponding graph will be recompiled. This may take up to one hour for large models.\n",
      "neuronxcc-2.13.66.0+6dfecc895/MODULE_ea0ece2bdf519f2e0403+2c2d707e/model.neff not found in aws-neuron/optimum-neuron-cache: the corresponding graph will be recompiled. This may take up to one hour for large models.\n"
     ]
    },
    {
     "name": "stdout",
     "output_type": "stream",
     "text": [
      "2024-05-22 15:11:46.000512:  7723  INFO ||NEURON_CACHE||: Compile cache path: /var/tmp/neuron-compile-cache\n"
     ]
    },
    {
     "name": "stderr",
     "output_type": "stream",
     "text": [
      "neuronxcc-2.13.66.0+6dfecc895/MODULE_ea0ece2bdf519f2e0403+2c2d707e/model.neff not found in aws-neuron/optimum-neuron-cache: the corresponding graph will be recompiled. This may take up to one hour for large models.\n",
      "neuronxcc-2.13.66.0+6dfecc895/MODULE_12bcbdb90af04ab7e2b9+2c2d707e/model.neff not found in aws-neuron/optimum-neuron-cache: the corresponding graph will be recompiled. This may take up to one hour for large models.\n",
      "neuronxcc-2.13.66.0+6dfecc895/MODULE_ea0ece2bdf519f2e0403+2c2d707e/model.neff not found in aws-neuron/optimum-neuron-cache: the corresponding graph will be recompiled. This may take up to one hour for large models.\n"
     ]
    },
    {
     "name": "stdout",
     "output_type": "stream",
     "text": [
      "2024-05-22 15:11:46.000542:  7722  INFO ||NEURON_CC_WRAPPER||: Call compiler with cmd: neuronx-cc compile --target=trn1 --framework=XLA /tmp/ubuntu/neuroncc_compile_workdir/a5d15712-f74f-45e1-ac75-37e35d8749d0/model.MODULE_ea0ece2bdf519f2e0403+2c2d707e.hlo_module.pb --output /tmp/ubuntu/neuroncc_compile_workdir/a5d15712-f74f-45e1-ac75-37e35d8749d0/model.MODULE_ea0ece2bdf519f2e0403+2c2d707e.neff --model-type=transformer --auto-cast=none --verbose=35\n"
     ]
    },
    {
     "name": "stderr",
     "output_type": "stream",
     "text": [
      "neuronxcc-2.13.66.0+6dfecc895/MODULE_12bcbdb90af04ab7e2b9+2c2d707e/model.neff not found in aws-neuron/optimum-neuron-cache: the corresponding graph will be recompiled. This may take up to one hour for large models.\n"
     ]
    },
    {
     "name": "stdout",
     "output_type": "stream",
     "text": [
      "2024-05-22 15:11:46.000548:  7721  INFO ||NEURON_CC_WRAPPER||: Call compiler with cmd: neuronx-cc compile --target=trn1 --framework=XLA /tmp/ubuntu/neuroncc_compile_workdir/5d8da60e-3613-4a5d-92ad-3a8f33ccebcf/model.MODULE_12bcbdb90af04ab7e2b9+2c2d707e.hlo_module.pb --output /tmp/ubuntu/neuroncc_compile_workdir/5d8da60e-3613-4a5d-92ad-3a8f33ccebcf/model.MODULE_12bcbdb90af04ab7e2b9+2c2d707e.neff --model-type=transformer --auto-cast=none --verbose=35\n"
     ]
    },
    {
     "name": "stderr",
     "output_type": "stream",
     "text": [
      "neuronxcc-2.13.66.0+6dfecc895/MODULE_a1b119d0049ffc6d6844+2c2d707e/model.neff not found in aws-neuron/optimum-neuron-cache: the corresponding graph will be recompiled. This may take up to one hour for large models.\n",
      "neuronxcc-2.13.66.0+6dfecc895/MODULE_a1b119d0049ffc6d6844+2c2d707e/model.neff not found in aws-neuron/optimum-neuron-cache: the corresponding graph will be recompiled. This may take up to one hour for large models.\n",
      "neuronxcc-2.13.66.0+6dfecc895/MODULE_a1b119d0049ffc6d6844+2c2d707e/model.neff not found in aws-neuron/optimum-neuron-cache: the corresponding graph will be recompiled. This may take up to one hour for large models.\n"
     ]
    },
    {
     "name": "stdout",
     "output_type": "stream",
     "text": [
      "2024-05-22 15:11:46.000725:  7723  INFO ||NEURON_CC_WRAPPER||: Call compiler with cmd: neuronx-cc compile --target=trn1 --framework=XLA /tmp/ubuntu/neuroncc_compile_workdir/78d181cb-6388-4fb3-90cd-dbcea19e0f13/model.MODULE_a1b119d0049ffc6d6844+2c2d707e.hlo_module.pb --output /tmp/ubuntu/neuroncc_compile_workdir/78d181cb-6388-4fb3-90cd-dbcea19e0f13/model.MODULE_a1b119d0049ffc6d6844+2c2d707e.neff --model-type=transformer --auto-cast=none --verbose=35\n",
      "2024-05-22 15:11:46.000730:  7724  INFO ||NEURON_CACHE||: Compile cache path: /var/tmp/neuron-compile-cache\n",
      "2024-05-22 15:11:46.000807:  7726  INFO ||NEURON_CACHE||: Compile cache path: /var/tmp/neuron-compile-cache\n"
     ]
    },
    {
     "name": "stderr",
     "output_type": "stream",
     "text": [
      "neuronxcc-2.13.66.0+6dfecc895/MODULE_5c5b0185242d62a5fe07+2c2d707e/model.neff not found in aws-neuron/optimum-neuron-cache: the corresponding graph will be recompiled. This may take up to one hour for large models.\n"
     ]
    },
    {
     "name": "stdout",
     "output_type": "stream",
     "text": [
      "2024-05-22 15:11:46.000886:  7725  INFO ||NEURON_CACHE||: Compile cache path: /var/tmp/neuron-compile-cache\n"
     ]
    },
    {
     "name": "stderr",
     "output_type": "stream",
     "text": [
      "neuronxcc-2.13.66.0+6dfecc895/MODULE_5c5b0185242d62a5fe07+2c2d707e/model.neff not found in aws-neuron/optimum-neuron-cache: the corresponding graph will be recompiled. This may take up to one hour for large models.\n",
      "neuronxcc-2.13.66.0+6dfecc895/MODULE_5c5b0185242d62a5fe07+2c2d707e/model.neff not found in aws-neuron/optimum-neuron-cache: the corresponding graph will be recompiled. This may take up to one hour for large models.\n"
     ]
    },
    {
     "name": "stdout",
     "output_type": "stream",
     "text": [
      "2024-05-22 15:11:46.000942:  7724  INFO ||NEURON_CC_WRAPPER||: Call compiler with cmd: neuronx-cc compile --target=trn1 --framework=XLA /tmp/ubuntu/neuroncc_compile_workdir/06329c53-85d3-4556-9342-7e906c9b8e72/model.MODULE_5c5b0185242d62a5fe07+2c2d707e.hlo_module.pb --output /tmp/ubuntu/neuroncc_compile_workdir/06329c53-85d3-4556-9342-7e906c9b8e72/model.MODULE_5c5b0185242d62a5fe07+2c2d707e.neff --model-type=transformer --auto-cast=none --verbose=35\n"
     ]
    },
    {
     "name": "stderr",
     "output_type": "stream",
     "text": [
      "neuronxcc-2.13.66.0+6dfecc895/MODULE_67f9203ce8026a3b1e65+2c2d707e/model.neff not found in aws-neuron/optimum-neuron-cache: the corresponding graph will be recompiled. This may take up to one hour for large models.\n",
      "neuronxcc-2.13.66.0+6dfecc895/MODULE_67f9203ce8026a3b1e65+2c2d707e/model.neff not found in aws-neuron/optimum-neuron-cache: the corresponding graph will be recompiled. This may take up to one hour for large models.\n",
      "neuronxcc-2.13.66.0+6dfecc895/MODULE_67f9203ce8026a3b1e65+2c2d707e/model.neff not found in aws-neuron/optimum-neuron-cache: the corresponding graph will be recompiled. This may take up to one hour for large models.\n"
     ]
    },
    {
     "name": "stdout",
     "output_type": "stream",
     "text": [
      "2024-05-22 15:11:47.000004:  7726  INFO ||NEURON_CC_WRAPPER||: Call compiler with cmd: neuronx-cc compile --target=trn1 --framework=XLA /tmp/ubuntu/neuroncc_compile_workdir/f87ca4b9-acce-42e3-b79b-1de59884eb7e/model.MODULE_67f9203ce8026a3b1e65+2c2d707e.hlo_module.pb --output /tmp/ubuntu/neuroncc_compile_workdir/f87ca4b9-acce-42e3-b79b-1de59884eb7e/model.MODULE_67f9203ce8026a3b1e65+2c2d707e.neff --model-type=transformer --auto-cast=none --verbose=35\n"
     ]
    },
    {
     "name": "stderr",
     "output_type": "stream",
     "text": [
      "neuronxcc-2.13.66.0+6dfecc895/MODULE_42fdcc460043dc6159be+2c2d707e/model.neff not found in aws-neuron/optimum-neuron-cache: the corresponding graph will be recompiled. This may take up to one hour for large models.\n",
      "neuronxcc-2.13.66.0+6dfecc895/MODULE_42fdcc460043dc6159be+2c2d707e/model.neff not found in aws-neuron/optimum-neuron-cache: the corresponding graph will be recompiled. This may take up to one hour for large models.\n",
      "neuronxcc-2.13.66.0+6dfecc895/MODULE_42fdcc460043dc6159be+2c2d707e/model.neff not found in aws-neuron/optimum-neuron-cache: the corresponding graph will be recompiled. This may take up to one hour for large models.\n"
     ]
    },
    {
     "name": "stdout",
     "output_type": "stream",
     "text": [
      "2024-05-22 15:11:47.000092:  7725  INFO ||NEURON_CC_WRAPPER||: Call compiler with cmd: neuronx-cc compile --target=trn1 --framework=XLA /tmp/ubuntu/neuroncc_compile_workdir/bb689ad4-06ba-4f16-93a2-8a7857308bf6/model.MODULE_42fdcc460043dc6159be+2c2d707e.hlo_module.pb --output /tmp/ubuntu/neuroncc_compile_workdir/bb689ad4-06ba-4f16-93a2-8a7857308bf6/model.MODULE_42fdcc460043dc6159be+2c2d707e.neff --model-type=transformer --auto-cast=none --verbose=35\n",
      "..........................................performing partition vectorization on AG_2[[0, 25, 0, 0]]{1 nodes (1 sources, 0 stops)}. dags covered: {dag_25_TC_DST}\n",
      "performing partition vectorization on AG_2[[0, 29, 0, 0, 0]]{1 nodes (1 sources, 0 stops)}. dags covered: {dag_29_TC_DST}\n",
      "performing partition vectorization on AG_2[[0, 28, 0, 0]]{3 nodes (1 sources, 0 stops)}. dags covered: {dag_33_TC_SRC, dag_32, dag_28}\n",
      "performing partition vectorization on AG_2[[0, 25, 0, 0]]{1 nodes (1 sources, 0 stops)}. dags covered: {dag_25_TC_DST}\n",
      "performing partition vectorization on AG_2[[0, 29, 0, 0, 0]]{1 nodes (1 sources, 0 stops)}. dags covered: {dag_29_TC_DST}\n",
      "performing partition vectorization on AG_2[[0, 28, 0, 0]]{3 nodes (1 sources, 0 stops)}. dags covered: {dag_33_TC_SRC, dag_32, dag_28}\n",
      "performing partition vectorization on AG_2[[0, 25, 0, 0]]{1 nodes (1 sources, 0 stops)}. dags covered: {dag_25_TC_DST}\n",
      "performing partition vectorization on AG_2[[0, 29, 0, 0, 0]]{1 nodes (1 sources, 0 stops)}. dags covered: {dag_29_TC_DST}\n",
      "performing partition vectorization on AG_2[[0, 28, 0, 0]]{3 nodes (1 sources, 0 stops)}. dags covered: {dag_33_TC_SRC, dag_32, dag_28}\n",
      "performing partition vectorization on AG_2[[0, 10, 0, 0]]{1 nodes (1 sources, 0 stops)}. dags covered: {dag_10_TC_DST}\n",
      "performing partition vectorization on AG_2[[0, 14, 0, 0, 0]]{1 nodes (1 sources, 0 stops)}. dags covered: {dag_14_TC_DST}\n",
      "performing partition vectorization on AG_2[[0, 13, 0, 0]]{3 nodes (1 sources, 0 stops)}. dags covered: {dag_17, dag_13, dag_18_TC_SRC}\n",
      "performing partition vectorization on AG_2[[0, 10, 0, 0]]{1 nodes (1 sources, 0 stops)}. dags covered: {dag_10_TC_DST}\n",
      "performing partition vectorization on AG_2[[0, 14, 0, 0, 0]]{1 nodes (1 sources, 0 stops)}. dags covered: {dag_14_TC_DST}\n",
      "performing partition vectorization on AG_2[[0, 13, 0, 0]]{3 nodes (1 sources, 0 stops)}. dags covered: {dag_17, dag_13, dag_18_TC_SRC}\n",
      "performing partition vectorization on AG_2[[0, 25, 0, 0]]{1 nodes (1 sources, 0 stops)}. dags covered: {dag_25_TC_DST}\n",
      "performing partition vectorization on AG_2[[0, 29, 0, 0, 0]]{1 nodes (1 sources, 0 stops)}. dags covered: {dag_29_TC_DST}\n",
      "performing partition vectorization on AG_2[[0, 28, 0, 0]]{3 nodes (1 sources, 0 stops)}. dags covered: {dag_33_TC_SRC, dag_32, dag_28}\n",
      "performing partition vectorization on AG_2[[0, 25, 0, 0]]{1 nodes (1 sources, 0 stops)}. dags covered: {dag_25_TC_DST}\n",
      "performing partition vectorization on AG_2[[0, 29, 0, 0, 0]]{1 nodes (1 sources, 0 stops)}. dags covered: {dag_29_TC_DST}\n",
      "performing partition vectorization on AG_2[[0, 28, 0, 0]]{3 nodes (1 sources, 0 stops)}. dags covered: {dag_33_TC_SRC, dag_32, dag_28}\n",
      "performing partition vectorization on AG_2[[0, 10, 0, 0]]{1 nodes (1 sources, 0 stops)}. dags covered: {dag_10_TC_DST}\n",
      "performing partition vectorization on AG_2[[0, 14, 0, 0, 0]]{1 nodes (1 sources, 0 stops)}. dags covered: {dag_14_TC_DST}\n",
      "performing partition vectorization on AG_2[[0, 13, 0, 0]]{3 nodes (1 sources, 0 stops)}. dags covered: {dag_13, dag_17, dag_18_TC_SRC}\n",
      "performing partition vectorization on AG_2[[0, 3, 0]]{1 nodes (1 sources, 0 stops)}. dags covered: {dag_3_TC_DST}\n",
      "performing partition vectorization on AG_2[[0, 78]]{1 nodes (1 sources, 0 stops)}. dags covered: {dag_78_TC_DST}\n",
      "performing partition vectorization on AG_2[[0, 121, 0]]{1 nodes (1 sources, 0 stops)}. dags covered: {dag_121_TC_DST}\n",
      "performing partition vectorization on AG_2[[0, 127]]{1 nodes (1 sources, 0 stops)}. dags covered: {dag_127_TC_DST}\n",
      "performing partition vectorization on AG_2[[0, 170, 0]]{1 nodes (1 sources, 0 stops)}. dags covered: {dag_170_TC_DST}\n",
      "performing partition vectorization on AG_2[[0, 176]]{1 nodes (1 sources, 0 stops)}. dags covered: {dag_176_TC_DST}\n",
      "performing partition vectorization on AG_2[[0, 219, 0]]{1 nodes (1 sources, 0 stops)}. dags covered: {dag_219_TC_DST}\n",
      "performing partition vectorization on AG_2[[0, 225]]{1 nodes (1 sources, 0 stops)}. dags covered: {dag_225_TC_DST}\n",
      "performing partition vectorization on AG_2[[0, 268, 0]]{1 nodes (1 sources, 0 stops)}. dags covered: {dag_268_TC_DST}\n",
      "performing partition vectorization on AG_2[[0, 274]]{1 nodes (1 sources, 0 stops)}. dags covered: {dag_274_TC_DST}\n",
      "performing partition vectorization on AG_2[[0, 317, 0]]{1 nodes (1 sources, 0 stops)}. dags covered: {dag_317_TC_DST}\n",
      "performing partition vectorization on AG_2[[0, 323]]{1 nodes (1 sources, 0 stops)}. dags covered: {dag_323_TC_DST}\n",
      "performing partition vectorization on AG_2[[0, 366, 0]]{1 nodes (1 sources, 0 stops)}. dags covered: {dag_366_TC_DST}\n",
      "performing partition vectorization on AG_2[[0, 372]]{1 nodes (1 sources, 0 stops)}. dags covered: {dag_372_TC_DST}\n",
      "performing partition vectorization on AG_2[[0, 415, 0]]{1 nodes (1 sources, 0 stops)}. dags covered: {dag_415_TC_DST}\n",
      "performing partition vectorization on AG_2[[0, 421]]{1 nodes (1 sources, 0 stops)}. dags covered: {dag_421_TC_DST}\n",
      "performing partition vectorization on AG_2[[0, 464, 0]]{1 nodes (1 sources, 0 stops)}. dags covered: {dag_464_TC_DST}\n",
      "performing partition vectorization on AG_2[[0, 470]]{1 nodes (1 sources, 0 stops)}. dags covered: {dag_470_TC_DST}\n",
      "performing partition vectorization on AG_2[[0, 513, 0]]{1 nodes (1 sources, 0 stops)}. dags covered: {dag_513_TC_DST}\n",
      "performing partition vectorization on AG_2[[0, 519]]{1 nodes (1 sources, 0 stops)}. dags covered: {dag_519_TC_DST}\n",
      "performing partition vectorization on AG_2[[0, 562, 0]]{1 nodes (1 sources, 0 stops)}. dags covered: {dag_562_TC_DST}\n",
      "performing partition vectorization on AG_2[[0, 568]]{1 nodes (1 sources, 0 stops)}. dags covered: {dag_568_TC_DST}\n",
      "performing partition vectorization on AG_2[[0, 611, 0]]{1 nodes (1 sources, 0 stops)}. dags covered: {dag_611_TC_DST}\n",
      "performing partition vectorization on AG_2[[0, 617]]{1 nodes (1 sources, 0 stops)}. dags covered: {dag_617_TC_DST}\n",
      "performing partition vectorization on AG_2[[0, 660, 0]]{1 nodes (1 sources, 0 stops)}. dags covered: {dag_660_TC_DST}\n",
      "performing partition vectorization on AG_2[[0, 666]]{1 nodes (1 sources, 0 stops)}. dags covered: {dag_666_TC_DST}\n",
      "performing partition vectorization on AG_2[[0, 709, 0]]{1 nodes (1 sources, 0 stops)}. dags covered: {dag_709_TC_DST}\n",
      "performing partition vectorization on AG_2[[0, 715]]{1 nodes (1 sources, 0 stops)}. dags covered: {dag_715_TC_DST}\n",
      "performing partition vectorization on AG_2[[0, 758, 0]]{1 nodes (1 sources, 0 stops)}. dags covered: {dag_758_TC_DST}\n",
      "performing partition vectorization on AG_2[[0, 764]]{1 nodes (1 sources, 0 stops)}. dags covered: {dag_764_TC_DST}\n",
      "performing partition vectorization on AG_2[[0, 807, 0]]{1 nodes (1 sources, 0 stops)}. dags covered: {dag_807_TC_DST}\n",
      "performing partition vectorization on AG_2[[0, 813]]{1 nodes (1 sources, 0 stops)}. dags covered: {dag_813_TC_DST}\n",
      "performing partition vectorization on AG_2[[0, 856, 0]]{1 nodes (1 sources, 0 stops)}. dags covered: {dag_856_TC_DST}\n",
      "performing partition vectorization on AG_2[[0, 862]]{1 nodes (1 sources, 0 stops)}. dags covered: {dag_862_TC_DST}\n",
      "performing partition vectorization on AG_2[[0, 905, 0]]{1 nodes (1 sources, 0 stops)}. dags covered: {dag_905_TC_DST}\n",
      "performing partition vectorization on AG_2[[0, 911]]{1 nodes (1 sources, 0 stops)}. dags covered: {dag_911_TC_DST}\n",
      "performing partition vectorization on AG_2[[0, 954, 0]]{1 nodes (1 sources, 0 stops)}. dags covered: {dag_954_TC_DST}\n",
      "performing partition vectorization on AG_2[[0, 960]]{1 nodes (1 sources, 0 stops)}. dags covered: {dag_960_TC_DST}\n",
      "performing partition vectorization on AG_2[[0, 1003, 0]]{1 nodes (1 sources, 0 stops)}. dags covered: {dag_1003_TC_DST}\n",
      "performing partition vectorization on AG_2[[0, 1009]]{1 nodes (1 sources, 0 stops)}. dags covered: {dag_1009_TC_DST}\n",
      "performing partition vectorization on AG_2[[0, 1052, 0]]{1 nodes (1 sources, 0 stops)}. dags covered: {dag_1052_TC_DST}\n",
      "performing partition vectorization on AG_2[[0, 1058]]{1 nodes (1 sources, 0 stops)}. dags covered: {dag_1058_TC_DST}\n",
      "performing partition vectorization on AG_2[[0, 1101, 0]]{1 nodes (1 sources, 0 stops)}. dags covered: {dag_1101_TC_DST}\n",
      "performing partition vectorization on AG_2[[0, 1107]]{1 nodes (1 sources, 0 stops)}. dags covered: {dag_1107_TC_DST}\n",
      "performing partition vectorization on AG_2[[0, 1150, 0]]{1 nodes (1 sources, 0 stops)}. dags covered: {dag_1150_TC_DST}\n",
      "performing partition vectorization on AG_2[[0, 1156]]{1 nodes (1 sources, 0 stops)}. dags covered: {dag_1156_TC_DST}\n",
      "performing partition vectorization on AG_2[[0, 1199, 0]]{1 nodes (1 sources, 0 stops)}. dags covered: {dag_1199_TC_DST}\n",
      "performing partition vectorization on AG_2[[0, 1205]]{1 nodes (1 sources, 0 stops)}. dags covered: {dag_1205_TC_DST}\n",
      "performing partition vectorization on AG_2[[0, 1248, 0]]{1 nodes (1 sources, 0 stops)}. dags covered: {dag_1248_TC_DST}\n",
      "performing partition vectorization on AG_2[[0, 1254]]{1 nodes (1 sources, 0 stops)}. dags covered: {dag_1254_TC_DST}\n",
      "performing partition vectorization on AG_2[[0, 1297, 0]]{1 nodes (1 sources, 0 stops)}. dags covered: {dag_1297_TC_DST}\n",
      "performing partition vectorization on AG_2[[0, 1303]]{1 nodes (1 sources, 0 stops)}. dags covered: {dag_1303_TC_DST}\n",
      "performing partition vectorization on AG_2[[0, 1346, 0]]{1 nodes (1 sources, 0 stops)}. dags covered: {dag_1346_TC_DST}\n",
      "performing partition vectorization on AG_2[[0, 1352]]{1 nodes (1 sources, 0 stops)}. dags covered: {dag_1352_TC_DST}\n",
      "performing partition vectorization on AG_2[[0, 1395, 0]]{1 nodes (1 sources, 0 stops)}. dags covered: {dag_1395_TC_DST}\n",
      "performing partition vectorization on AG_2[[0, 1401]]{1 nodes (1 sources, 0 stops)}. dags covered: {dag_1401_TC_DST}\n",
      "performing partition vectorization on AG_2[[0, 1444, 0]]{1 nodes (1 sources, 0 stops)}. dags covered: {dag_1444_TC_DST}\n",
      "performing partition vectorization on AG_2[[0, 1450]]{1 nodes (1 sources, 0 stops)}. dags covered: {dag_1450_TC_DST}\n",
      "performing partition vectorization on AG_2[[0, 1493, 0]]{1 nodes (1 sources, 0 stops)}. dags covered: {dag_1493_TC_DST}\n",
      "performing partition vectorization on AG_2[[0, 1499]]{1 nodes (1 sources, 0 stops)}. dags covered: {dag_1499_TC_DST}\n",
      "performing partition vectorization on AG_2[[0, 1542, 0]]{1 nodes (1 sources, 0 stops)}. dags covered: {dag_1542_TC_DST}\n",
      "performing partition vectorization on AG_2[[0, 1548]]{1 nodes (1 sources, 0 stops)}. dags covered: {dag_1548_TC_DST}\n",
      "performing partition vectorization on AG_2[[0, 1591, 0]]{1 nodes (1 sources, 0 stops)}. dags covered: {dag_1591_TC_DST}\n",
      "performing partition vectorization on AG_2[[0, 1597]]{1 nodes (1 sources, 0 stops)}. dags covered: {dag_1597_TC_DST}\n",
      "performing partition vectorization on AG_2[[0, 3, 0]]{1 nodes (1 sources, 0 stops)}. dags covered: {dag_3_TC_DST}\n",
      "performing partition vectorization on AG_2[[0, 78]]{1 nodes (1 sources, 0 stops)}. dags covered: {dag_78_TC_DST}\n",
      "performing partition vectorization on AG_2[[0, 121, 0]]{1 nodes (1 sources, 0 stops)}. dags covered: {dag_121_TC_DST}\n",
      "performing partition vectorization on AG_2[[0, 127]]{1 nodes (1 sources, 0 stops)}. dags covered: {dag_127_TC_DST}\n",
      "performing partition vectorization on AG_2[[0, 170, 0]]{1 nodes (1 sources, 0 stops)}. dags covered: {dag_170_TC_DST}\n",
      "performing partition vectorization on AG_2[[0, 176]]{1 nodes (1 sources, 0 stops)}. dags covered: {dag_176_TC_DST}\n",
      "performing partition vectorization on AG_2[[0, 219, 0]]{1 nodes (1 sources, 0 stops)}. dags covered: {dag_219_TC_DST}\n",
      "performing partition vectorization on AG_2[[0, 225]]{1 nodes (1 sources, 0 stops)}. dags covered: {dag_225_TC_DST}\n",
      "performing partition vectorization on AG_2[[0, 268, 0]]{1 nodes (1 sources, 0 stops)}. dags covered: {dag_268_TC_DST}\n",
      "performing partition vectorization on AG_2[[0, 274]]{1 nodes (1 sources, 0 stops)}. dags covered: {dag_274_TC_DST}\n",
      "performing partition vectorization on AG_2[[0, 317, 0]]{1 nodes (1 sources, 0 stops)}. dags covered: {dag_317_TC_DST}\n",
      "performing partition vectorization on AG_2[[0, 323]]{1 nodes (1 sources, 0 stops)}. dags covered: {dag_323_TC_DST}\n",
      "performing partition vectorization on AG_2[[0, 366, 0]]{1 nodes (1 sources, 0 stops)}. dags covered: {dag_366_TC_DST}\n",
      "performing partition vectorization on AG_2[[0, 372]]{1 nodes (1 sources, 0 stops)}. dags covered: {dag_372_TC_DST}\n",
      "performing partition vectorization on AG_2[[0, 415, 0]]{1 nodes (1 sources, 0 stops)}. dags covered: {dag_415_TC_DST}\n",
      "performing partition vectorization on AG_2[[0, 421]]{1 nodes (1 sources, 0 stops)}. dags covered: {dag_421_TC_DST}\n",
      "performing partition vectorization on AG_2[[0, 464, 0]]{1 nodes (1 sources, 0 stops)}. dags covered: {dag_464_TC_DST}\n",
      "performing partition vectorization on AG_2[[0, 470]]{1 nodes (1 sources, 0 stops)}. dags covered: {dag_470_TC_DST}\n",
      "performing partition vectorization on AG_2[[0, 513, 0]]{1 nodes (1 sources, 0 stops)}. dags covered: {dag_513_TC_DST}\n",
      "performing partition vectorization on AG_2[[0, 519]]{1 nodes (1 sources, 0 stops)}. dags covered: {dag_519_TC_DST}\n",
      "performing partition vectorization on AG_2[[0, 562, 0]]{1 nodes (1 sources, 0 stops)}. dags covered: {dag_562_TC_DST}\n",
      "performing partition vectorization on AG_2[[0, 568]]{1 nodes (1 sources, 0 stops)}. dags covered: {dag_568_TC_DST}\n",
      "performing partition vectorization on AG_2[[0, 611, 0]]{1 nodes (1 sources, 0 stops)}. dags covered: {dag_611_TC_DST}\n",
      "performing partition vectorization on AG_2[[0, 617]]{1 nodes (1 sources, 0 stops)}. dags covered: {dag_617_TC_DST}\n",
      "performing partition vectorization on AG_2[[0, 660, 0]]{1 nodes (1 sources, 0 stops)}. dags covered: {dag_660_TC_DST}\n",
      "performing partition vectorization on AG_2[[0, 666]]{1 nodes (1 sources, 0 stops)}. dags covered: {dag_666_TC_DST}\n",
      "performing partition vectorization on AG_2[[0, 709, 0]]{1 nodes (1 sources, 0 stops)}. dags covered: {dag_709_TC_DST}\n",
      "performing partition vectorization on AG_2[[0, 715]]{1 nodes (1 sources, 0 stops)}. dags covered: {dag_715_TC_DST}\n",
      "performing partition vectorization on AG_2[[0, 758, 0]]{1 nodes (1 sources, 0 stops)}. dags covered: {dag_758_TC_DST}\n",
      "performing partition vectorization on AG_2[[0, 764]]{1 nodes (1 sources, 0 stops)}. dags covered: {dag_764_TC_DST}\n",
      "performing partition vectorization on AG_2[[0, 807, 0]]{1 nodes (1 sources, 0 stops)}. dags covered: {dag_807_TC_DST}\n",
      "performing partition vectorization on AG_2[[0, 813]]{1 nodes (1 sources, 0 stops)}. dags covered: {dag_813_TC_DST}\n",
      "performing partition vectorization on AG_2[[0, 856, 0]]{1 nodes (1 sources, 0 stops)}. dags covered: {dag_856_TC_DST}\n",
      "performing partition vectorization on AG_2[[0, 862]]{1 nodes (1 sources, 0 stops)}. dags covered: {dag_862_TC_DST}\n",
      "performing partition vectorization on AG_2[[0, 905, 0]]{1 nodes (1 sources, 0 stops)}. dags covered: {dag_905_TC_DST}\n",
      "performing partition vectorization on AG_2[[0, 911]]{1 nodes (1 sources, 0 stops)}. dags covered: {dag_911_TC_DST}\n",
      "performing partition vectorization on AG_2[[0, 954, 0]]{1 nodes (1 sources, 0 stops)}. dags covered: {dag_954_TC_DST}\n",
      "performing partition vectorization on AG_2[[0, 960]]{1 nodes (1 sources, 0 stops)}. dags covered: {dag_960_TC_DST}\n",
      "performing partition vectorization on AG_2[[0, 1003, 0]]{1 nodes (1 sources, 0 stops)}. dags covered: {dag_1003_TC_DST}\n",
      "performing partition vectorization on AG_2[[0, 1009]]{1 nodes (1 sources, 0 stops)}. dags covered: {dag_1009_TC_DST}\n",
      "performing partition vectorization on AG_2[[0, 1052, 0]]{1 nodes (1 sources, 0 stops)}. dags covered: {dag_1052_TC_DST}\n",
      "performing partition vectorization on AG_2[[0, 1058]]{1 nodes (1 sources, 0 stops)}. dags covered: {dag_1058_TC_DST}\n",
      "performing partition vectorization on AG_2[[0, 1101, 0]]{1 nodes (1 sources, 0 stops)}. dags covered: {dag_1101_TC_DST}\n",
      "performing partition vectorization on AG_2[[0, 1107]]{1 nodes (1 sources, 0 stops)}. dags covered: {dag_1107_TC_DST}\n",
      "performing partition vectorization on AG_2[[0, 1150, 0]]{1 nodes (1 sources, 0 stops)}. dags covered: {dag_1150_TC_DST}\n",
      "performing partition vectorization on AG_2[[0, 1156]]{1 nodes (1 sources, 0 stops)}. dags covered: {dag_1156_TC_DST}\n",
      "performing partition vectorization on AG_2[[0, 1199, 0]]{1 nodes (1 sources, 0 stops)}. dags covered: {dag_1199_TC_DST}\n",
      "performing partition vectorization on AG_2[[0, 1205]]{1 nodes (1 sources, 0 stops)}. dags covered: {dag_1205_TC_DST}\n",
      "performing partition vectorization on AG_2[[0, 1248, 0]]{1 nodes (1 sources, 0 stops)}. dags covered: {dag_1248_TC_DST}\n",
      "performing partition vectorization on AG_2[[0, 1254]]{1 nodes (1 sources, 0 stops)}. dags covered: {dag_1254_TC_DST}\n",
      "performing partition vectorization on AG_2[[0, 1297, 0]]{1 nodes (1 sources, 0 stops)}. dags covered: {dag_1297_TC_DST}\n",
      "performing partition vectorization on AG_2[[0, 1303]]{1 nodes (1 sources, 0 stops)}. dags covered: {dag_1303_TC_DST}\n",
      "performing partition vectorization on AG_2[[0, 1346, 0]]{1 nodes (1 sources, 0 stops)}. dags covered: {dag_1346_TC_DST}\n",
      "performing partition vectorization on AG_2[[0, 1352]]{1 nodes (1 sources, 0 stops)}. dags covered: {dag_1352_TC_DST}\n",
      "performing partition vectorization on AG_2[[0, 1395, 0]]{1 nodes (1 sources, 0 stops)}. dags covered: {dag_1395_TC_DST}\n",
      "performing partition vectorization on AG_2[[0, 1401]]{1 nodes (1 sources, 0 stops)}. dags covered: {dag_1401_TC_DST}\n",
      "performing partition vectorization on AG_2[[0, 1444, 0]]{1 nodes (1 sources, 0 stops)}. dags covered: {dag_1444_TC_DST}\n",
      "performing partition vectorization on AG_2[[0, 1450]]{1 nodes (1 sources, 0 stops)}. dags covered: {dag_1450_TC_DST}\n",
      "performing partition vectorization on AG_2[[0, 1493, 0]]{1 nodes (1 sources, 0 stops)}. dags covered: {dag_1493_TC_DST}\n",
      "performing partition vectorization on AG_2[[0, 1499]]{1 nodes (1 sources, 0 stops)}. dags covered: {dag_1499_TC_DST}\n",
      "performing partition vectorization on AG_2[[0, 1542, 0]]{1 nodes (1 sources, 0 stops)}. dags covered: {dag_1542_TC_DST}\n",
      "performing partition vectorization on AG_2[[0, 1548]]{1 nodes (1 sources, 0 stops)}. dags covered: {dag_1548_TC_DST}\n",
      "performing partition vectorization on AG_2[[0, 3, 0]]{1 nodes (1 sources, 0 stops)}. dags covered: {dag_3_TC_DST}\n",
      "performing partition vectorization on AG_2[[0, 1591, 0]]{1 nodes (1 sources, 0 stops)}. dags covered: {dag_1591_TC_DST}\n",
      "performing partition vectorization on AG_2[[0, 78]]{1 nodes (1 sources, 0 stops)}. dags covered: {dag_78_TC_DST}\n",
      "performing partition vectorization on AG_2[[0, 1597]]{1 nodes (1 sources, 0 stops)}. dags covered: {dag_1597_TC_DST}\n",
      "performing partition vectorization on AG_2[[0, 121, 0]]{1 nodes (1 sources, 0 stops)}. dags covered: {dag_121_TC_DST}\n",
      "performing partition vectorization on AG_2[[0, 127]]{1 nodes (1 sources, 0 stops)}. dags covered: {dag_127_TC_DST}\n",
      "performing partition vectorization on AG_2[[0, 170, 0]]{1 nodes (1 sources, 0 stops)}. dags covered: {dag_170_TC_DST}\n",
      "performing partition vectorization on AG_2[[0, 176]]{1 nodes (1 sources, 0 stops)}. dags covered: {dag_176_TC_DST}\n",
      "performing partition vectorization on AG_2[[0, 219, 0]]{1 nodes (1 sources, 0 stops)}. dags covered: {dag_219_TC_DST}\n",
      "performing partition vectorization on AG_2[[0, 225]]{1 nodes (1 sources, 0 stops)}. dags covered: {dag_225_TC_DST}\n",
      "performing partition vectorization on AG_2[[0, 268, 0]]{1 nodes (1 sources, 0 stops)}. dags covered: {dag_268_TC_DST}\n",
      "performing partition vectorization on AG_2[[0, 274]]{1 nodes (1 sources, 0 stops)}. dags covered: {dag_274_TC_DST}\n",
      "performing partition vectorization on AG_2[[0, 317, 0]]{1 nodes (1 sources, 0 stops)}. dags covered: {dag_317_TC_DST}\n",
      "performing partition vectorization on AG_2[[0, 323]]{1 nodes (1 sources, 0 stops)}. dags covered: {dag_323_TC_DST}\n",
      "performing partition vectorization on AG_2[[0, 366, 0]]{1 nodes (1 sources, 0 stops)}. dags covered: {dag_366_TC_DST}\n",
      "performing partition vectorization on AG_2[[0, 372]]{1 nodes (1 sources, 0 stops)}. dags covered: {dag_372_TC_DST}\n",
      "performing partition vectorization on AG_2[[0, 415, 0]]{1 nodes (1 sources, 0 stops)}. dags covered: {dag_415_TC_DST}\n",
      "performing partition vectorization on AG_2[[0, 421]]{1 nodes (1 sources, 0 stops)}. dags covered: {dag_421_TC_DST}\n",
      "performing partition vectorization on AG_2[[0, 464, 0]]{1 nodes (1 sources, 0 stops)}. dags covered: {dag_464_TC_DST}\n",
      "performing partition vectorization on AG_2[[0, 470]]{1 nodes (1 sources, 0 stops)}. dags covered: {dag_470_TC_DST}\n",
      "performing partition vectorization on AG_2[[0, 513, 0]]{1 nodes (1 sources, 0 stops)}. dags covered: {dag_513_TC_DST}\n",
      "performing partition vectorization on AG_2[[0, 519]]{1 nodes (1 sources, 0 stops)}. dags covered: {dag_519_TC_DST}\n",
      "performing partition vectorization on AG_2[[0, 562, 0]]{1 nodes (1 sources, 0 stops)}. dags covered: {dag_562_TC_DST}\n",
      "performing partition vectorization on AG_2[[0, 568]]{1 nodes (1 sources, 0 stops)}. dags covered: {dag_568_TC_DST}\n",
      "performing partition vectorization on AG_2[[0, 611, 0]]{1 nodes (1 sources, 0 stops)}. dags covered: {dag_611_TC_DST}\n",
      "performing partition vectorization on AG_2[[0, 617]]{1 nodes (1 sources, 0 stops)}. dags covered: {dag_617_TC_DST}\n",
      "performing partition vectorization on AG_2[[0, 660, 0]]{1 nodes (1 sources, 0 stops)}. dags covered: {dag_660_TC_DST}\n",
      "performing partition vectorization on AG_2[[0, 666]]{1 nodes (1 sources, 0 stops)}. dags covered: {dag_666_TC_DST}\n",
      "performing partition vectorization on AG_2[[0, 709, 0]]{1 nodes (1 sources, 0 stops)}. dags covered: {dag_709_TC_DST}\n",
      "performing partition vectorization on AG_2[[0, 715]]{1 nodes (1 sources, 0 stops)}. dags covered: {dag_715_TC_DST}\n",
      "performing partition vectorization on AG_2[[0, 758, 0]]{1 nodes (1 sources, 0 stops)}. dags covered: {dag_758_TC_DST}\n",
      "performing partition vectorization on AG_2[[0, 764]]{1 nodes (1 sources, 0 stops)}. dags covered: {dag_764_TC_DST}\n",
      "performing partition vectorization on AG_2[[0, 807, 0]]{1 nodes (1 sources, 0 stops)}. dags covered: {dag_807_TC_DST}\n",
      "performing partition vectorization on AG_2[[0, 813]]{1 nodes (1 sources, 0 stops)}. dags covered: {dag_813_TC_DST}\n",
      "performing partition vectorization on AG_2[[0, 856, 0]]{1 nodes (1 sources, 0 stops)}. dags covered: {dag_856_TC_DST}\n",
      "performing partition vectorization on AG_2[[0, 862]]{1 nodes (1 sources, 0 stops)}. dags covered: {dag_862_TC_DST}\n",
      "performing partition vectorization on AG_2[[0, 905, 0]]{1 nodes (1 sources, 0 stops)}. dags covered: {dag_905_TC_DST}\n",
      "performing partition vectorization on AG_2[[0, 911]]{1 nodes (1 sources, 0 stops)}. dags covered: {dag_911_TC_DST}\n",
      "performing partition vectorization on AG_2[[0, 954, 0]]{1 nodes (1 sources, 0 stops)}. dags covered: {dag_954_TC_DST}\n",
      "performing partition vectorization on AG_2[[0, 960]]{1 nodes (1 sources, 0 stops)}. dags covered: {dag_960_TC_DST}\n",
      "performing partition vectorization on AG_2[[0, 1003, 0]]{1 nodes (1 sources, 0 stops)}. dags covered: {dag_1003_TC_DST}\n",
      "performing partition vectorization on AG_2[[0, 1009]]{1 nodes (1 sources, 0 stops)}. dags covered: {dag_1009_TC_DST}\n",
      "performing partition vectorization on AG_2[[0, 1052, 0]]{1 nodes (1 sources, 0 stops)}. dags covered: {dag_1052_TC_DST}\n",
      "performing partition vectorization on AG_2[[0, 1058]]{1 nodes (1 sources, 0 stops)}. dags covered: {dag_1058_TC_DST}\n",
      "performing partition vectorization on AG_2[[0, 1101, 0]]{1 nodes (1 sources, 0 stops)}. dags covered: {dag_1101_TC_DST}\n",
      "performing partition vectorization on AG_2[[0, 1107]]{1 nodes (1 sources, 0 stops)}. dags covered: {dag_1107_TC_DST}\n",
      "performing partition vectorization on AG_2[[0, 3, 0]]{1 nodes (1 sources, 0 stops)}. dags covered: {dag_3_TC_DST}\n",
      "performing partition vectorization on AG_2[[0, 1150, 0]]{1 nodes (1 sources, 0 stops)}. dags covered: {dag_1150_TC_DST}\n",
      "performing partition vectorization on AG_2[[0, 1156]]{1 nodes (1 sources, 0 stops)}. dags covered: {dag_1156_TC_DST}\n",
      "performing partition vectorization on AG_2[[0, 78]]{1 nodes (1 sources, 0 stops)}. dags covered: {dag_78_TC_DST}\n",
      "performing partition vectorization on AG_2[[0, 1199, 0]]{1 nodes (1 sources, 0 stops)}. dags covered: {dag_1199_TC_DST}\n",
      "performing partition vectorization on AG_2[[0, 121, 0]]{1 nodes (1 sources, 0 stops)}. dags covered: {dag_121_TC_DST}\n",
      "performing partition vectorization on AG_2[[0, 1205]]{1 nodes (1 sources, 0 stops)}. dags covered: {dag_1205_TC_DST}\n",
      "performing partition vectorization on AG_2[[0, 127]]{1 nodes (1 sources, 0 stops)}. dags covered: {dag_127_TC_DST}\n",
      "performing partition vectorization on AG_2[[0, 1248, 0]]{1 nodes (1 sources, 0 stops)}. dags covered: {dag_1248_TC_DST}\n",
      "performing partition vectorization on AG_2[[0, 170, 0]]{1 nodes (1 sources, 0 stops)}. dags covered: {dag_170_TC_DST}\n",
      "performing partition vectorization on AG_2[[0, 176]]{1 nodes (1 sources, 0 stops)}. dags covered: {dag_176_TC_DST}\n",
      "performing partition vectorization on AG_2[[0, 1254]]{1 nodes (1 sources, 0 stops)}. dags covered: {dag_1254_TC_DST}\n",
      "performing partition vectorization on AG_2[[0, 219, 0]]{1 nodes (1 sources, 0 stops)}. dags covered: {dag_219_TC_DST}\n",
      "performing partition vectorization on AG_2[[0, 1297, 0]]{1 nodes (1 sources, 0 stops)}. dags covered: {dag_1297_TC_DST}\n",
      "performing partition vectorization on AG_2[[0, 225]]{1 nodes (1 sources, 0 stops)}. dags covered: {dag_225_TC_DST}\n",
      "performing partition vectorization on AG_2[[0, 1303]]{1 nodes (1 sources, 0 stops)}. dags covered: {dag_1303_TC_DST}\n",
      "performing partition vectorization on AG_2[[0, 268, 0]]{1 nodes (1 sources, 0 stops)}. dags covered: {dag_268_TC_DST}\n",
      "performing partition vectorization on AG_2[[0, 1346, 0]]{1 nodes (1 sources, 0 stops)}. dags covered: {dag_1346_TC_DST}\n",
      "performing partition vectorization on AG_2[[0, 274]]{1 nodes (1 sources, 0 stops)}. dags covered: {dag_274_TC_DST}\n",
      "performing partition vectorization on AG_2[[0, 1352]]{1 nodes (1 sources, 0 stops)}. dags covered: {dag_1352_TC_DST}\n",
      "performing partition vectorization on AG_2[[0, 317, 0]]{1 nodes (1 sources, 0 stops)}. dags covered: {dag_317_TC_DST}\n",
      "performing partition vectorization on AG_2[[0, 1395, 0]]{1 nodes (1 sources, 0 stops)}. dags covered: {dag_1395_TC_DST}\n",
      "performing partition vectorization on AG_2[[0, 323]]{1 nodes (1 sources, 0 stops)}. dags covered: {dag_323_TC_DST}\n",
      "performing partition vectorization on AG_2[[0, 1401]]{1 nodes (1 sources, 0 stops)}. dags covered: {dag_1401_TC_DST}\n",
      "performing partition vectorization on AG_2[[0, 366, 0]]{1 nodes (1 sources, 0 stops)}. dags covered: {dag_366_TC_DST}\n",
      "performing partition vectorization on AG_2[[0, 1444, 0]]{1 nodes (1 sources, 0 stops)}. dags covered: {dag_1444_TC_DST}\n",
      "performing partition vectorization on AG_2[[0, 372]]{1 nodes (1 sources, 0 stops)}. dags covered: {dag_372_TC_DST}\n",
      "performing partition vectorization on AG_2[[0, 1450]]{1 nodes (1 sources, 0 stops)}. dags covered: {dag_1450_TC_DST}\n",
      "performing partition vectorization on AG_2[[0, 415, 0]]{1 nodes (1 sources, 0 stops)}. dags covered: {dag_415_TC_DST}\n",
      "performing partition vectorization on AG_2[[0, 1493, 0]]{1 nodes (1 sources, 0 stops)}. dags covered: {dag_1493_TC_DST}\n",
      "performing partition vectorization on AG_2[[0, 421]]{1 nodes (1 sources, 0 stops)}. dags covered: {dag_421_TC_DST}\n",
      "performing partition vectorization on AG_2[[0, 1499]]{1 nodes (1 sources, 0 stops)}. dags covered: {dag_1499_TC_DST}\n",
      "performing partition vectorization on AG_2[[0, 464, 0]]{1 nodes (1 sources, 0 stops)}. dags covered: {dag_464_TC_DST}\n",
      "performing partition vectorization on AG_2[[0, 1542, 0]]{1 nodes (1 sources, 0 stops)}. dags covered: {dag_1542_TC_DST}\n",
      "performing partition vectorization on AG_2[[0, 470]]{1 nodes (1 sources, 0 stops)}. dags covered: {dag_470_TC_DST}\n",
      "performing partition vectorization on AG_2[[0, 1548]]{1 nodes (1 sources, 0 stops)}. dags covered: {dag_1548_TC_DST}\n",
      "performing partition vectorization on AG_2[[0, 513, 0]]{1 nodes (1 sources, 0 stops)}. dags covered: {dag_513_TC_DST}\n",
      "performing partition vectorization on AG_2[[0, 1591, 0]]{1 nodes (1 sources, 0 stops)}. dags covered: {dag_1591_TC_DST}\n",
      "performing partition vectorization on AG_2[[0, 519]]{1 nodes (1 sources, 0 stops)}. dags covered: {dag_519_TC_DST}\n",
      "performing partition vectorization on AG_2[[0, 1597]]{1 nodes (1 sources, 0 stops)}. dags covered: {dag_1597_TC_DST}\n",
      "performing partition vectorization on AG_2[[0, 562, 0]]{1 nodes (1 sources, 0 stops)}. dags covered: {dag_562_TC_DST}\n",
      "performing partition vectorization on AG_2[[0, 568]]{1 nodes (1 sources, 0 stops)}. dags covered: {dag_568_TC_DST}\n",
      "performing partition vectorization on AG_2[[0, 611, 0]]{1 nodes (1 sources, 0 stops)}. dags covered: {dag_611_TC_DST}\n",
      "performing partition vectorization on AG_2[[0, 617]]{1 nodes (1 sources, 0 stops)}. dags covered: {dag_617_TC_DST}\n",
      "performing partition vectorization on AG_2[[0, 660, 0]]{1 nodes (1 sources, 0 stops)}. dags covered: {dag_660_TC_DST}\n",
      "performing partition vectorization on AG_2[[0, 666]]{1 nodes (1 sources, 0 stops)}. dags covered: {dag_666_TC_DST}\n",
      "performing partition vectorization on AG_2[[0, 709, 0]]{1 nodes (1 sources, 0 stops)}. dags covered: {dag_709_TC_DST}\n",
      "performing partition vectorization on AG_2[[0, 715]]{1 nodes (1 sources, 0 stops)}. dags covered: {dag_715_TC_DST}\n",
      "performing partition vectorization on AG_2[[0, 758, 0]]{1 nodes (1 sources, 0 stops)}. dags covered: {dag_758_TC_DST}\n",
      "performing partition vectorization on AG_2[[0, 764]]{1 nodes (1 sources, 0 stops)}. dags covered: {dag_764_TC_DST}\n",
      "performing partition vectorization on AG_2[[0, 807, 0]]{1 nodes (1 sources, 0 stops)}. dags covered: {dag_807_TC_DST}\n",
      "performing partition vectorization on AG_2[[0, 813]]{1 nodes (1 sources, 0 stops)}. dags covered: {dag_813_TC_DST}\n",
      "performing partition vectorization on AG_2[[0, 856, 0]]{1 nodes (1 sources, 0 stops)}. dags covered: {dag_856_TC_DST}\n",
      "performing partition vectorization on AG_2[[0, 862]]{1 nodes (1 sources, 0 stops)}. dags covered: {dag_862_TC_DST}\n",
      "performing partition vectorization on AG_2[[0, 905, 0]]{1 nodes (1 sources, 0 stops)}. dags covered: {dag_905_TC_DST}\n",
      "performing partition vectorization on AG_2[[0, 911]]{1 nodes (1 sources, 0 stops)}. dags covered: {dag_911_TC_DST}\n",
      "performing partition vectorization on AG_2[[0, 954, 0]]{1 nodes (1 sources, 0 stops)}. dags covered: {dag_954_TC_DST}\n",
      "performing partition vectorization on AG_2[[0, 960]]{1 nodes (1 sources, 0 stops)}. dags covered: {dag_960_TC_DST}\n",
      "performing partition vectorization on AG_2[[0, 1003, 0]]{1 nodes (1 sources, 0 stops)}. dags covered: {dag_1003_TC_DST}\n",
      "performing partition vectorization on AG_2[[0, 1009]]{1 nodes (1 sources, 0 stops)}. dags covered: {dag_1009_TC_DST}\n",
      "performing partition vectorization on AG_2[[0, 1052, 0]]{1 nodes (1 sources, 0 stops)}. dags covered: {dag_1052_TC_DST}\n",
      "performing partition vectorization on AG_2[[0, 1058]]{1 nodes (1 sources, 0 stops)}. dags covered: {dag_1058_TC_DST}\n",
      "performing partition vectorization on AG_2[[0, 1101, 0]]{1 nodes (1 sources, 0 stops)}. dags covered: {dag_1101_TC_DST}\n",
      "performing partition vectorization on AG_2[[0, 1107]]{1 nodes (1 sources, 0 stops)}. dags covered: {dag_1107_TC_DST}\n",
      "performing partition vectorization on AG_2[[0, 1150, 0]]{1 nodes (1 sources, 0 stops)}. dags covered: {dag_1150_TC_DST}\n",
      "performing partition vectorization on AG_2[[0, 1156]]{1 nodes (1 sources, 0 stops)}. dags covered: {dag_1156_TC_DST}\n",
      "performing partition vectorization on AG_2[[0, 1199, 0]]{1 nodes (1 sources, 0 stops)}. dags covered: {dag_1199_TC_DST}\n",
      "performing partition vectorization on AG_2[[0, 1205]]{1 nodes (1 sources, 0 stops)}. dags covered: {dag_1205_TC_DST}\n",
      "performing partition vectorization on AG_2[[0, 1248, 0]]{1 nodes (1 sources, 0 stops)}. dags covered: {dag_1248_TC_DST}\n",
      "performing partition vectorization on AG_2[[0, 1254]]{1 nodes (1 sources, 0 stops)}. dags covered: {dag_1254_TC_DST}\n",
      "performing partition vectorization on AG_2[[0, 1297, 0]]{1 nodes (1 sources, 0 stops)}. dags covered: {dag_1297_TC_DST}\n",
      "performing partition vectorization on AG_2[[0, 1303]]{1 nodes (1 sources, 0 stops)}. dags covered: {dag_1303_TC_DST}\n",
      "performing partition vectorization on AG_2[[0, 1346, 0]]{1 nodes (1 sources, 0 stops)}. dags covered: {dag_1346_TC_DST}\n",
      "performing partition vectorization on AG_2[[0, 1352]]{1 nodes (1 sources, 0 stops)}. dags covered: {dag_1352_TC_DST}\n",
      "performing partition vectorization on AG_2[[0, 1395, 0]]{1 nodes (1 sources, 0 stops)}. dags covered: {dag_1395_TC_DST}\n",
      "performing partition vectorization on AG_2[[0, 1401]]{1 nodes (1 sources, 0 stops)}. dags covered: {dag_1401_TC_DST}\n",
      "performing partition vectorization on AG_2[[0, 1444, 0]]{1 nodes (1 sources, 0 stops)}. dags covered: {dag_1444_TC_DST}\n",
      "performing partition vectorization on AG_2[[0, 1450]]{1 nodes (1 sources, 0 stops)}. dags covered: {dag_1450_TC_DST}\n",
      "performing partition vectorization on AG_2[[0, 1493, 0]]{1 nodes (1 sources, 0 stops)}. dags covered: {dag_1493_TC_DST}\n",
      "performing partition vectorization on AG_2[[0, 1499]]{1 nodes (1 sources, 0 stops)}. dags covered: {dag_1499_TC_DST}\n",
      "performing partition vectorization on AG_2[[0, 1542, 0]]{1 nodes (1 sources, 0 stops)}. dags covered: {dag_1542_TC_DST}\n",
      "performing partition vectorization on AG_2[[0, 1548]]{1 nodes (1 sources, 0 stops)}. dags covered: {dag_1548_TC_DST}\n",
      "performing partition vectorization on AG_2[[0, 1591, 0]]{1 nodes (1 sources, 0 stops)}. dags covered: {dag_1591_TC_DST}\n",
      "performing partition vectorization on AG_2[[0, 1597]]{1 nodes (1 sources, 0 stops)}. dags covered: {dag_1597_TC_DST}\n",
      "performing partition vectorization on AG_2[[0, 3, 0]]{1 nodes (1 sources, 0 stops)}. dags covered: {dag_3_TC_DST}\n",
      "performing partition vectorization on AG_2[[0, 78]]{1 nodes (1 sources, 0 stops)}. dags covered: {dag_78_TC_DST}\n",
      "performing partition vectorization on AG_2[[0, 121, 0]]{1 nodes (1 sources, 0 stops)}. dags covered: {dag_121_TC_DST}\n",
      "performing partition vectorization on AG_2[[0, 127]]{1 nodes (1 sources, 0 stops)}. dags covered: {dag_127_TC_DST}\n",
      "performing partition vectorization on AG_2[[0, 170, 0]]{1 nodes (1 sources, 0 stops)}. dags covered: {dag_170_TC_DST}\n",
      "performing partition vectorization on AG_2[[0, 176]]{1 nodes (1 sources, 0 stops)}. dags covered: {dag_176_TC_DST}\n",
      "performing partition vectorization on AG_2[[0, 219, 0]]{1 nodes (1 sources, 0 stops)}. dags covered: {dag_219_TC_DST}\n",
      "performing partition vectorization on AG_2[[0, 225]]{1 nodes (1 sources, 0 stops)}. dags covered: {dag_225_TC_DST}\n",
      "performing partition vectorization on AG_2[[0, 268, 0]]{1 nodes (1 sources, 0 stops)}. dags covered: {dag_268_TC_DST}\n",
      "performing partition vectorization on AG_2[[0, 274]]{1 nodes (1 sources, 0 stops)}. dags covered: {dag_274_TC_DST}\n",
      "performing partition vectorization on AG_2[[0, 317, 0]]{1 nodes (1 sources, 0 stops)}. dags covered: {dag_317_TC_DST}\n",
      "performing partition vectorization on AG_2[[0, 323]]{1 nodes (1 sources, 0 stops)}. dags covered: {dag_323_TC_DST}\n",
      "performing partition vectorization on AG_2[[0, 366, 0]]{1 nodes (1 sources, 0 stops)}. dags covered: {dag_366_TC_DST}\n",
      "performing partition vectorization on AG_2[[0, 372]]{1 nodes (1 sources, 0 stops)}. dags covered: {dag_372_TC_DST}\n",
      "performing partition vectorization on AG_2[[0, 415, 0]]{1 nodes (1 sources, 0 stops)}. dags covered: {dag_415_TC_DST}\n",
      "performing partition vectorization on AG_2[[0, 421]]{1 nodes (1 sources, 0 stops)}. dags covered: {dag_421_TC_DST}\n",
      "performing partition vectorization on AG_2[[0, 464, 0]]{1 nodes (1 sources, 0 stops)}. dags covered: {dag_464_TC_DST}\n",
      "performing partition vectorization on AG_2[[0, 470]]{1 nodes (1 sources, 0 stops)}. dags covered: {dag_470_TC_DST}\n",
      "performing partition vectorization on AG_2[[0, 513, 0]]{1 nodes (1 sources, 0 stops)}. dags covered: {dag_513_TC_DST}\n",
      "performing partition vectorization on AG_2[[0, 519]]{1 nodes (1 sources, 0 stops)}. dags covered: {dag_519_TC_DST}\n",
      "performing partition vectorization on AG_2[[0, 562, 0]]{1 nodes (1 sources, 0 stops)}. dags covered: {dag_562_TC_DST}\n",
      "performing partition vectorization on AG_2[[0, 568]]{1 nodes (1 sources, 0 stops)}. dags covered: {dag_568_TC_DST}\n",
      "performing partition vectorization on AG_2[[0, 611, 0]]{1 nodes (1 sources, 0 stops)}. dags covered: {dag_611_TC_DST}\n",
      "performing partition vectorization on AG_2[[0, 617]]{1 nodes (1 sources, 0 stops)}. dags covered: {dag_617_TC_DST}\n",
      "performing partition vectorization on AG_2[[0, 660, 0]]{1 nodes (1 sources, 0 stops)}. dags covered: {dag_660_TC_DST}\n",
      "performing partition vectorization on AG_2[[0, 666]]{1 nodes (1 sources, 0 stops)}. dags covered: {dag_666_TC_DST}\n",
      "performing partition vectorization on AG_2[[0, 709, 0]]{1 nodes (1 sources, 0 stops)}. dags covered: {dag_709_TC_DST}\n",
      "performing partition vectorization on AG_2[[0, 715]]{1 nodes (1 sources, 0 stops)}. dags covered: {dag_715_TC_DST}\n",
      "performing partition vectorization on AG_2[[0, 758, 0]]{1 nodes (1 sources, 0 stops)}. dags covered: {dag_758_TC_DST}\n",
      "performing partition vectorization on AG_2[[0, 764]]{1 nodes (1 sources, 0 stops)}. dags covered: {dag_764_TC_DST}\n",
      "performing partition vectorization on AG_2[[0, 807, 0]]{1 nodes (1 sources, 0 stops)}. dags covered: {dag_807_TC_DST}\n",
      "performing partition vectorization on AG_2[[0, 813]]{1 nodes (1 sources, 0 stops)}. dags covered: {dag_813_TC_DST}\n",
      "performing partition vectorization on AG_2[[0, 856, 0]]{1 nodes (1 sources, 0 stops)}. dags covered: {dag_856_TC_DST}\n",
      "performing partition vectorization on AG_2[[0, 862]]{1 nodes (1 sources, 0 stops)}. dags covered: {dag_862_TC_DST}\n",
      "performing partition vectorization on AG_2[[0, 905, 0]]{1 nodes (1 sources, 0 stops)}. dags covered: {dag_905_TC_DST}\n",
      "performing partition vectorization on AG_2[[0, 911]]{1 nodes (1 sources, 0 stops)}. dags covered: {dag_911_TC_DST}\n",
      "performing partition vectorization on AG_2[[0, 954, 0]]{1 nodes (1 sources, 0 stops)}. dags covered: {dag_954_TC_DST}\n",
      "performing partition vectorization on AG_2[[0, 960]]{1 nodes (1 sources, 0 stops)}. dags covered: {dag_960_TC_DST}\n",
      "performing partition vectorization on AG_2[[0, 3, 0]]{1 nodes (1 sources, 0 stops)}. dags covered: {dag_3_TC_DST}\n",
      "performing partition vectorization on AG_2[[0, 1003, 0]]{1 nodes (1 sources, 0 stops)}. dags covered: {dag_1003_TC_DST}\n",
      "performing partition vectorization on AG_2[[0, 1009]]{1 nodes (1 sources, 0 stops)}. dags covered: {dag_1009_TC_DST}\n",
      "performing partition vectorization on AG_2[[0, 78]]{1 nodes (1 sources, 0 stops)}. dags covered: {dag_78_TC_DST}\n",
      "performing partition vectorization on AG_2[[0, 1052, 0]]{1 nodes (1 sources, 0 stops)}. dags covered: {dag_1052_TC_DST}\n",
      "performing partition vectorization on AG_2[[0, 121, 0]]{1 nodes (1 sources, 0 stops)}. dags covered: {dag_121_TC_DST}\n",
      "performing partition vectorization on AG_2[[0, 1058]]{1 nodes (1 sources, 0 stops)}. dags covered: {dag_1058_TC_DST}\n",
      "performing partition vectorization on AG_2[[0, 127]]{1 nodes (1 sources, 0 stops)}. dags covered: {dag_127_TC_DST}\n",
      "performing partition vectorization on AG_2[[0, 1101, 0]]{1 nodes (1 sources, 0 stops)}. dags covered: {dag_1101_TC_DST}\n",
      "performing partition vectorization on AG_2[[0, 170, 0]]{1 nodes (1 sources, 0 stops)}. dags covered: {dag_170_TC_DST}\n",
      "performing partition vectorization on AG_2[[0, 1107]]{1 nodes (1 sources, 0 stops)}. dags covered: {dag_1107_TC_DST}\n",
      "performing partition vectorization on AG_2[[0, 176]]{1 nodes (1 sources, 0 stops)}. dags covered: {dag_176_TC_DST}\n",
      "performing partition vectorization on AG_2[[0, 1150, 0]]{1 nodes (1 sources, 0 stops)}. dags covered: {dag_1150_TC_DST}\n",
      "performing partition vectorization on AG_2[[0, 219, 0]]{1 nodes (1 sources, 0 stops)}. dags covered: {dag_219_TC_DST}\n",
      "performing partition vectorization on AG_2[[0, 1156]]{1 nodes (1 sources, 0 stops)}. dags covered: {dag_1156_TC_DST}\n",
      "performing partition vectorization on AG_2[[0, 225]]{1 nodes (1 sources, 0 stops)}. dags covered: {dag_225_TC_DST}\n",
      "performing partition vectorization on AG_2[[0, 1199, 0]]{1 nodes (1 sources, 0 stops)}. dags covered: {dag_1199_TC_DST}\n",
      "performing partition vectorization on AG_2[[0, 268, 0]]{1 nodes (1 sources, 0 stops)}. dags covered: {dag_268_TC_DST}\n",
      "performing partition vectorization on AG_2[[0, 1205]]{1 nodes (1 sources, 0 stops)}. dags covered: {dag_1205_TC_DST}\n",
      "performing partition vectorization on AG_2[[0, 274]]{1 nodes (1 sources, 0 stops)}. dags covered: {dag_274_TC_DST}\n",
      "performing partition vectorization on AG_2[[0, 1248, 0]]{1 nodes (1 sources, 0 stops)}. dags covered: {dag_1248_TC_DST}\n",
      "performing partition vectorization on AG_2[[0, 317, 0]]{1 nodes (1 sources, 0 stops)}. dags covered: {dag_317_TC_DST}\n",
      "performing partition vectorization on AG_2[[0, 1254]]{1 nodes (1 sources, 0 stops)}. dags covered: {dag_1254_TC_DST}\n",
      "performing partition vectorization on AG_2[[0, 323]]{1 nodes (1 sources, 0 stops)}. dags covered: {dag_323_TC_DST}\n",
      "performing partition vectorization on AG_2[[0, 1297, 0]]{1 nodes (1 sources, 0 stops)}. dags covered: {dag_1297_TC_DST}\n",
      "performing partition vectorization on AG_2[[0, 366, 0]]{1 nodes (1 sources, 0 stops)}. dags covered: {dag_366_TC_DST}\n",
      "performing partition vectorization on AG_2[[0, 1303]]{1 nodes (1 sources, 0 stops)}. dags covered: {dag_1303_TC_DST}\n",
      "performing partition vectorization on AG_2[[0, 372]]{1 nodes (1 sources, 0 stops)}. dags covered: {dag_372_TC_DST}\n",
      "performing partition vectorization on AG_2[[0, 1346, 0]]{1 nodes (1 sources, 0 stops)}. dags covered: {dag_1346_TC_DST}\n",
      "performing partition vectorization on AG_2[[0, 415, 0]]{1 nodes (1 sources, 0 stops)}. dags covered: {dag_415_TC_DST}\n",
      "performing partition vectorization on AG_2[[0, 1352]]{1 nodes (1 sources, 0 stops)}. dags covered: {dag_1352_TC_DST}\n",
      "performing partition vectorization on AG_2[[0, 1395, 0]]{1 nodes (1 sources, 0 stops)}. dags covered: {dag_1395_TC_DST}\n",
      "performing partition vectorization on AG_2[[0, 421]]{1 nodes (1 sources, 0 stops)}. dags covered: {dag_421_TC_DST}\n",
      "performing partition vectorization on AG_2[[0, 464, 0]]{1 nodes (1 sources, 0 stops)}. dags covered: {dag_464_TC_DST}\n",
      "performing partition vectorization on AG_2[[0, 1401]]{1 nodes (1 sources, 0 stops)}. dags covered: {dag_1401_TC_DST}\n",
      "performing partition vectorization on AG_2[[0, 1444, 0]]{1 nodes (1 sources, 0 stops)}. dags covered: {dag_1444_TC_DST}\n",
      "performing partition vectorization on AG_2[[0, 470]]{1 nodes (1 sources, 0 stops)}. dags covered: {dag_470_TC_DST}\n",
      "performing partition vectorization on AG_2[[0, 513, 0]]{1 nodes (1 sources, 0 stops)}. dags covered: {dag_513_TC_DST}\n",
      "performing partition vectorization on AG_2[[0, 1450]]{1 nodes (1 sources, 0 stops)}. dags covered: {dag_1450_TC_DST}\n",
      "performing partition vectorization on AG_2[[0, 1493, 0]]{1 nodes (1 sources, 0 stops)}. dags covered: {dag_1493_TC_DST}\n",
      "performing partition vectorization on AG_2[[0, 519]]{1 nodes (1 sources, 0 stops)}. dags covered: {dag_519_TC_DST}\n",
      "performing partition vectorization on AG_2[[0, 562, 0]]{1 nodes (1 sources, 0 stops)}. dags covered: {dag_562_TC_DST}\n",
      "performing partition vectorization on AG_2[[0, 1499]]{1 nodes (1 sources, 0 stops)}. dags covered: {dag_1499_TC_DST}\n",
      "performing partition vectorization on AG_2[[0, 1542, 0]]{1 nodes (1 sources, 0 stops)}. dags covered: {dag_1542_TC_DST}\n",
      "performing partition vectorization on AG_2[[0, 568]]{1 nodes (1 sources, 0 stops)}. dags covered: {dag_568_TC_DST}\n",
      "performing partition vectorization on AG_2[[0, 1548]]{1 nodes (1 sources, 0 stops)}. dags covered: {dag_1548_TC_DST}\n",
      "performing partition vectorization on AG_2[[0, 611, 0]]{1 nodes (1 sources, 0 stops)}. dags covered: {dag_611_TC_DST}\n",
      "performing partition vectorization on AG_2[[0, 1591, 0]]{1 nodes (1 sources, 0 stops)}. dags covered: {dag_1591_TC_DST}performing partition vectorization on AG_2[[0, 3, 0]]{1 nodes (1 sources, 0 stops)}. dags covered: {dag_3_TC_DST}\n",
      "\n",
      "performing partition vectorization on AG_2[[0, 617]]{1 nodes (1 sources, 0 stops)}. dags covered: {dag_617_TC_DST}\n",
      "performing partition vectorization on AG_2[[0, 1597]]{1 nodes (1 sources, 0 stops)}. dags covered: {dag_1597_TC_DST}\n",
      "performing partition vectorization on AG_2[[0, 660, 0]]{1 nodes (1 sources, 0 stops)}. dags covered: {dag_660_TC_DST}\n",
      "performing partition vectorization on AG_2[[0, 78]]{1 nodes (1 sources, 0 stops)}. dags covered: {dag_78_TC_DST}\n",
      "performing partition vectorization on AG_2[[0, 121, 0]]{1 nodes (1 sources, 0 stops)}. dags covered: {dag_121_TC_DST}\n",
      "performing partition vectorization on AG_2[[0, 666]]{1 nodes (1 sources, 0 stops)}. dags covered: {dag_666_TC_DST}\n",
      "performing partition vectorization on AG_2[[0, 709, 0]]{1 nodes (1 sources, 0 stops)}. dags covered: {dag_709_TC_DST}\n",
      "performing partition vectorization on AG_2[[0, 127]]{1 nodes (1 sources, 0 stops)}. dags covered: {dag_127_TC_DST}\n",
      "performing partition vectorization on AG_2[[0, 170, 0]]{1 nodes (1 sources, 0 stops)}. dags covered: {dag_170_TC_DST}\n",
      "performing partition vectorization on AG_2[[0, 715]]{1 nodes (1 sources, 0 stops)}. dags covered: {dag_715_TC_DST}\n",
      "performing partition vectorization on AG_2[[0, 758, 0]]{1 nodes (1 sources, 0 stops)}. dags covered: {dag_758_TC_DST}\n",
      "performing partition vectorization on AG_2[[0, 176]]{1 nodes (1 sources, 0 stops)}. dags covered: {dag_176_TC_DST}\n",
      "performing partition vectorization on AG_2[[0, 219, 0]]{1 nodes (1 sources, 0 stops)}. dags covered: {dag_219_TC_DST}\n",
      "performing partition vectorization on AG_2[[0, 764]]{1 nodes (1 sources, 0 stops)}. dags covered: {dag_764_TC_DST}\n",
      "performing partition vectorization on AG_2[[0, 807, 0]]{1 nodes (1 sources, 0 stops)}. dags covered: {dag_807_TC_DST}\n",
      "performing partition vectorization on AG_2[[0, 225]]{1 nodes (1 sources, 0 stops)}. dags covered: {dag_225_TC_DST}\n",
      "performing partition vectorization on AG_2[[0, 268, 0]]{1 nodes (1 sources, 0 stops)}. dags covered: {dag_268_TC_DST}\n",
      "performing partition vectorization on AG_2[[0, 813]]{1 nodes (1 sources, 0 stops)}. dags covered: {dag_813_TC_DST}\n",
      "performing partition vectorization on AG_2[[0, 856, 0]]{1 nodes (1 sources, 0 stops)}. dags covered: {dag_856_TC_DST}\n",
      "performing partition vectorization on AG_2[[0, 274]]{1 nodes (1 sources, 0 stops)}. dags covered: {dag_274_TC_DST}\n",
      "performing partition vectorization on AG_2[[0, 317, 0]]{1 nodes (1 sources, 0 stops)}. dags covered: {dag_317_TC_DST}\n",
      "performing partition vectorization on AG_2[[0, 862]]{1 nodes (1 sources, 0 stops)}. dags covered: {dag_862_TC_DST}\n",
      "performing partition vectorization on AG_2[[0, 905, 0]]{1 nodes (1 sources, 0 stops)}. dags covered: {dag_905_TC_DST}\n",
      "performing partition vectorization on AG_2[[0, 323]]{1 nodes (1 sources, 0 stops)}. dags covered: {dag_323_TC_DST}\n",
      "performing partition vectorization on AG_2[[0, 366, 0]]{1 nodes (1 sources, 0 stops)}. dags covered: {dag_366_TC_DST}\n",
      "performing partition vectorization on AG_2[[0, 911]]{1 nodes (1 sources, 0 stops)}. dags covered: {dag_911_TC_DST}\n",
      "performing partition vectorization on AG_2[[0, 954, 0]]{1 nodes (1 sources, 0 stops)}. dags covered: {dag_954_TC_DST}\n",
      "performing partition vectorization on AG_2[[0, 372]]{1 nodes (1 sources, 0 stops)}. dags covered: {dag_372_TC_DST}\n",
      "performing partition vectorization on AG_2[[0, 415, 0]]{1 nodes (1 sources, 0 stops)}. dags covered: {dag_415_TC_DST}\n",
      "performing partition vectorization on AG_2[[0, 960]]{1 nodes (1 sources, 0 stops)}. dags covered: {dag_960_TC_DST}\n",
      "performing partition vectorization on AG_2[[0, 1003, 0]]{1 nodes (1 sources, 0 stops)}. dags covered: {dag_1003_TC_DST}\n",
      "performing partition vectorization on AG_2[[0, 421]]{1 nodes (1 sources, 0 stops)}. dags covered: {dag_421_TC_DST}\n",
      "performing partition vectorization on AG_2[[0, 464, 0]]{1 nodes (1 sources, 0 stops)}. dags covered: {dag_464_TC_DST}\n",
      "performing partition vectorization on AG_2[[0, 1009]]{1 nodes (1 sources, 0 stops)}. dags covered: {dag_1009_TC_DST}\n",
      "performing partition vectorization on AG_2[[0, 1052, 0]]{1 nodes (1 sources, 0 stops)}. dags covered: {dag_1052_TC_DST}\n",
      "performing partition vectorization on AG_2[[0, 470]]{1 nodes (1 sources, 0 stops)}. dags covered: {dag_470_TC_DST}\n",
      "performing partition vectorization on AG_2[[0, 513, 0]]{1 nodes (1 sources, 0 stops)}. dags covered: {dag_513_TC_DST}\n",
      "performing partition vectorization on AG_2[[0, 1058]]{1 nodes (1 sources, 0 stops)}. dags covered: {dag_1058_TC_DST}\n",
      "performing partition vectorization on AG_2[[0, 1101, 0]]{1 nodes (1 sources, 0 stops)}. dags covered: {dag_1101_TC_DST}\n",
      "performing partition vectorization on AG_2[[0, 519]]{1 nodes (1 sources, 0 stops)}. dags covered: {dag_519_TC_DST}\n",
      "performing partition vectorization on AG_2[[0, 562, 0]]{1 nodes (1 sources, 0 stops)}. dags covered: {dag_562_TC_DST}\n",
      "performing partition vectorization on AG_2[[0, 1107]]{1 nodes (1 sources, 0 stops)}. dags covered: {dag_1107_TC_DST}\n",
      "performing partition vectorization on AG_2[[0, 1150, 0]]{1 nodes (1 sources, 0 stops)}. dags covered: {dag_1150_TC_DST}\n",
      "performing partition vectorization on AG_2[[0, 568]]{1 nodes (1 sources, 0 stops)}. dags covered: {dag_568_TC_DST}\n",
      "performing partition vectorization on AG_2[[0, 611, 0]]{1 nodes (1 sources, 0 stops)}. dags covered: {dag_611_TC_DST}\n",
      "performing partition vectorization on AG_2[[0, 1156]]{1 nodes (1 sources, 0 stops)}. dags covered: {dag_1156_TC_DST}\n",
      "performing partition vectorization on AG_2[[0, 1199, 0]]{1 nodes (1 sources, 0 stops)}. dags covered: {dag_1199_TC_DST}\n",
      "performing partition vectorization on AG_2[[0, 617]]{1 nodes (1 sources, 0 stops)}. dags covered: {dag_617_TC_DST}\n",
      "performing partition vectorization on AG_2[[0, 660, 0]]{1 nodes (1 sources, 0 stops)}. dags covered: {dag_660_TC_DST}\n",
      "performing partition vectorization on AG_2[[0, 1205]]{1 nodes (1 sources, 0 stops)}. dags covered: {dag_1205_TC_DST}\n",
      "performing partition vectorization on AG_2[[0, 666]]{1 nodes (1 sources, 0 stops)}. dags covered: {dag_666_TC_DST}\n",
      "performing partition vectorization on AG_2[[0, 1248, 0]]{1 nodes (1 sources, 0 stops)}. dags covered: {dag_1248_TC_DST}\n",
      "performing partition vectorization on AG_2[[0, 709, 0]]{1 nodes (1 sources, 0 stops)}. dags covered: {dag_709_TC_DST}\n",
      "performing partition vectorization on AG_2[[0, 1254]]{1 nodes (1 sources, 0 stops)}. dags covered: {dag_1254_TC_DST}\n",
      "performing partition vectorization on AG_2[[0, 715]]{1 nodes (1 sources, 0 stops)}. dags covered: {dag_715_TC_DST}\n",
      "performing partition vectorization on AG_2[[0, 1297, 0]]{1 nodes (1 sources, 0 stops)}. dags covered: {dag_1297_TC_DST}\n",
      "performing partition vectorization on AG_2[[0, 758, 0]]{1 nodes (1 sources, 0 stops)}. dags covered: {dag_758_TC_DST}\n",
      "performing partition vectorization on AG_2[[0, 1303]]{1 nodes (1 sources, 0 stops)}. dags covered: {dag_1303_TC_DST}\n",
      "performing partition vectorization on AG_2[[0, 764]]{1 nodes (1 sources, 0 stops)}. dags covered: {dag_764_TC_DST}\n",
      "performing partition vectorization on AG_2[[0, 1346, 0]]{1 nodes (1 sources, 0 stops)}. dags covered: {dag_1346_TC_DST}\n",
      "performing partition vectorization on AG_2[[0, 807, 0]]{1 nodes (1 sources, 0 stops)}. dags covered: {dag_807_TC_DST}\n",
      "performing partition vectorization on AG_2[[0, 1352]]{1 nodes (1 sources, 0 stops)}. dags covered: {dag_1352_TC_DST}\n",
      "performing partition vectorization on AG_2[[0, 813]]{1 nodes (1 sources, 0 stops)}. dags covered: {dag_813_TC_DST}\n",
      "performing partition vectorization on AG_2[[0, 1395, 0]]{1 nodes (1 sources, 0 stops)}. dags covered: {dag_1395_TC_DST}\n",
      "performing partition vectorization on AG_2[[0, 856, 0]]{1 nodes (1 sources, 0 stops)}. dags covered: {dag_856_TC_DST}\n",
      "performing partition vectorization on AG_2[[0, 1401]]{1 nodes (1 sources, 0 stops)}. dags covered: {dag_1401_TC_DST}\n",
      "performing partition vectorization on AG_2[[0, 862]]{1 nodes (1 sources, 0 stops)}. dags covered: {dag_862_TC_DST}\n",
      "performing partition vectorization on AG_2[[0, 1444, 0]]{1 nodes (1 sources, 0 stops)}. dags covered: {dag_1444_TC_DST}\n",
      "performing partition vectorization on AG_2[[0, 905, 0]]{1 nodes (1 sources, 0 stops)}. dags covered: {dag_905_TC_DST}\n",
      "performing partition vectorization on AG_2[[0, 1450]]{1 nodes (1 sources, 0 stops)}. dags covered: {dag_1450_TC_DST}\n",
      "performing partition vectorization on AG_2[[0, 911]]{1 nodes (1 sources, 0 stops)}. dags covered: {dag_911_TC_DST}\n",
      "performing partition vectorization on AG_2[[0, 1493, 0]]{1 nodes (1 sources, 0 stops)}. dags covered: {dag_1493_TC_DST}\n",
      "performing partition vectorization on AG_2[[0, 954, 0]]{1 nodes (1 sources, 0 stops)}. dags covered: {dag_954_TC_DST}\n",
      "performing partition vectorization on AG_2[[0, 1499]]{1 nodes (1 sources, 0 stops)}. dags covered: {dag_1499_TC_DST}\n",
      "performing partition vectorization on AG_2[[0, 960]]{1 nodes (1 sources, 0 stops)}. dags covered: {dag_960_TC_DST}\n",
      "performing partition vectorization on AG_2[[0, 1542, 0]]{1 nodes (1 sources, 0 stops)}. dags covered: {dag_1542_TC_DST}\n",
      "performing partition vectorization on AG_2[[0, 1003, 0]]{1 nodes (1 sources, 0 stops)}. dags covered: {dag_1003_TC_DST}\n",
      "performing partition vectorization on AG_2[[0, 1548]]{1 nodes (1 sources, 0 stops)}. dags covered: {dag_1548_TC_DST}\n",
      "performing partition vectorization on AG_2[[0, 1009]]{1 nodes (1 sources, 0 stops)}. dags covered: {dag_1009_TC_DST}\n",
      "performing partition vectorization on AG_2[[0, 1591, 0]]{1 nodes (1 sources, 0 stops)}. dags covered: {dag_1591_TC_DST}\n",
      "performing partition vectorization on AG_2[[0, 1052, 0]]{1 nodes (1 sources, 0 stops)}. dags covered: {dag_1052_TC_DST}\n",
      "performing partition vectorization on AG_2[[0, 1597]]{1 nodes (1 sources, 0 stops)}. dags covered: {dag_1597_TC_DST}\n",
      "performing partition vectorization on AG_2[[0, 1058]]{1 nodes (1 sources, 0 stops)}. dags covered: {dag_1058_TC_DST}\n",
      "performing partition vectorization on AG_2[[0, 1101, 0]]{1 nodes (1 sources, 0 stops)}. dags covered: {dag_1101_TC_DST}\n",
      "performing partition vectorization on AG_2[[0, 1107]]{1 nodes (1 sources, 0 stops)}. dags covered: {dag_1107_TC_DST}\n",
      "performing partition vectorization on AG_2[[0, 1150, 0]]{1 nodes (1 sources, 0 stops)}. dags covered: {dag_1150_TC_DST}\n",
      "performing partition vectorization on AG_2[[0, 1156]]{1 nodes (1 sources, 0 stops)}. dags covered: {dag_1156_TC_DST}\n",
      "performing partition vectorization on AG_2[[0, 1199, 0]]{1 nodes (1 sources, 0 stops)}. dags covered: {dag_1199_TC_DST}\n",
      "performing partition vectorization on AG_2[[0, 1205]]{1 nodes (1 sources, 0 stops)}. dags covered: {dag_1205_TC_DST}\n",
      "performing partition vectorization on AG_2[[0, 1248, 0]]{1 nodes (1 sources, 0 stops)}. dags covered: {dag_1248_TC_DST}\n",
      "performing partition vectorization on AG_2[[0, 1254]]{1 nodes (1 sources, 0 stops)}. dags covered: {dag_1254_TC_DST}\n",
      "performing partition vectorization on AG_2[[0, 1297, 0]]{1 nodes (1 sources, 0 stops)}. dags covered: {dag_1297_TC_DST}\n",
      "performing partition vectorization on AG_2[[0, 1303]]{1 nodes (1 sources, 0 stops)}. dags covered: {dag_1303_TC_DST}\n",
      "performing partition vectorization on AG_2[[0, 1346, 0]]{1 nodes (1 sources, 0 stops)}. dags covered: {dag_1346_TC_DST}\n",
      "performing partition vectorization on AG_2[[0, 1352]]{1 nodes (1 sources, 0 stops)}. dags covered: {dag_1352_TC_DST}\n",
      "performing partition vectorization on AG_2[[0, 1395, 0]]{1 nodes (1 sources, 0 stops)}. dags covered: {dag_1395_TC_DST}\n",
      "performing partition vectorization on AG_2[[0, 1401]]{1 nodes (1 sources, 0 stops)}. dags covered: {dag_1401_TC_DST}\n",
      "performing partition vectorization on AG_2[[0, 1444, 0]]{1 nodes (1 sources, 0 stops)}. dags covered: {dag_1444_TC_DST}\n",
      "performing partition vectorization on AG_2[[0, 1450]]{1 nodes (1 sources, 0 stops)}. dags covered: {dag_1450_TC_DST}\n",
      "performing partition vectorization on AG_2[[0, 1493, 0]]{1 nodes (1 sources, 0 stops)}. dags covered: {dag_1493_TC_DST}\n",
      "performing partition vectorization on AG_2[[0, 1499]]{1 nodes (1 sources, 0 stops)}. dags covered: {dag_1499_TC_DST}\n",
      "performing partition vectorization on AG_2[[0, 1542, 0]]{1 nodes (1 sources, 0 stops)}. dags covered: {dag_1542_TC_DST}\n",
      "performing partition vectorization on AG_2[[0, 1548]]{1 nodes (1 sources, 0 stops)}. dags covered: {dag_1548_TC_DST}\n",
      "performing partition vectorization on AG_2[[0, 1591, 0]]{1 nodes (1 sources, 0 stops)}. dags covered: {dag_1591_TC_DST}\n",
      "performing partition vectorization on AG_2[[0, 1597]]{1 nodes (1 sources, 0 stops)}. dags covered: {dag_1597_TC_DST}\n",
      "performing partition vectorization on AG_2[[0, 25, 0, 0]]{1 nodes (1 sources, 0 stops)}. dags covered: {dag_25_TC_DST}\n",
      "performing partition vectorization on AG_2[[0, 29, 0, 0, 0]]{1 nodes (1 sources, 0 stops)}. dags covered: {dag_29_TC_DST}\n",
      "performing partition vectorization on AG_2[[0, 28, 0, 0]]{3 nodes (1 sources, 0 stops)}. dags covered: {dag_33_TC_SRC, dag_32, dag_28}\n",
      "performing partition vectorization on AG_2[[0, 7, 0, 0]]{1 nodes (1 sources, 0 stops)}. dags covered: {dag_7_TC_DST}\n",
      "performing partition vectorization on AG_2[[0, 11, 0]]{1 nodes (1 sources, 0 stops)}. dags covered: {dag_11_TC_DST}\n",
      "performing partition vectorization on AG_2[[0, 7, 0, 0]]{1 nodes (1 sources, 0 stops)}. dags covered: {dag_7_TC_DST}\n",
      "performing partition vectorization on AG_2[[0, 11, 0]]{1 nodes (1 sources, 0 stops)}. dags covered: {dag_11_TC_DST}\n",
      "performing partition vectorization on AG_2[[0, 10, 0, 0]]{2 nodes (1 sources, 0 stops)}. dags covered: {dag_14_TC_SRC, dag_10}\n",
      "performing partition vectorization on AG_2[[0, 10, 0, 0, 0]]{2 nodes (1 sources, 0 stops)}. dags covered: {dag_14_TC_SRC, dag_10}\n",
      "performing partition vectorization on AG_2[[0, 48, 0, 0]]{1 nodes (1 sources, 0 stops)}. dags covered: {dag_48_TC_DST}\n",
      "performing partition vectorization on AG_2[[0, 52, 0]]{1 nodes (1 sources, 0 stops)}. dags covered: {dag_52_TC_DST}\n",
      "performing partition vectorization on AG_2[[0, 48, 0, 0]]{1 nodes (1 sources, 0 stops)}. dags covered: {dag_48_TC_DST}\n",
      "performing partition vectorization on AG_2[[0, 51, 0, 0]]{2 nodes (1 sources, 0 stops)}. dags covered: {dag_55_TC_SRC, dag_51}\n",
      "performing partition vectorization on AG_2[[0, 52, 0]]{1 nodes (1 sources, 0 stops)}. dags covered: {dag_52_TC_DST}\n",
      "performing partition vectorization on AG_2[[0, 51, 0, 0, 0]]{2 nodes (1 sources, 0 stops)}. dags covered: {dag_51, dag_55_TC_SRC}\n",
      "performing partition vectorization on AG_2[[0, 89, 0, 0]]{1 nodes (1 sources, 0 stops)}. dags covered: {dag_89_TC_DST}\n",
      "performing partition vectorization on AG_2[[0, 93, 0]]{1 nodes (1 sources, 0 stops)}. dags covered: {dag_93_TC_DST}\n",
      "performing partition vectorization on AG_2[[0, 89, 0, 0]]{1 nodes (1 sources, 0 stops)}. dags covered: {dag_89_TC_DST}\n",
      "performing partition vectorization on AG_2[[0, 92, 0, 0]]{2 nodes (1 sources, 0 stops)}. dags covered: {dag_96_TC_SRC, dag_92}\n",
      "performing partition vectorization on AG_2[[0, 93, 0]]{1 nodes (1 sources, 0 stops)}. dags covered: {dag_93_TC_DST}\n",
      "performing partition vectorization on AG_2[[0, 130, 0, 0]]{1 nodes (1 sources, 0 stops)}. dags covered: {dag_130_TC_DST}\n",
      "performing partition vectorization on AG_2[[0, 92, 0, 0, 0]]{2 nodes (1 sources, 0 stops)}. dags covered: {dag_92, dag_96_TC_SRC}\n",
      "performing partition vectorization on AG_2[[0, 134, 0]]{1 nodes (1 sources, 0 stops)}. dags covered: {dag_134_TC_DST}\n",
      "performing partition vectorization on AG_2[[0, 130, 0, 0]]{1 nodes (1 sources, 0 stops)}. dags covered: {dag_130_TC_DST}\n",
      "performing partition vectorization on AG_2[[0, 133, 0, 0]]{2 nodes (1 sources, 0 stops)}. dags covered: {dag_133, dag_137_TC_SRC}\n",
      "performing partition vectorization on AG_2[[0, 134, 0]]{1 nodes (1 sources, 0 stops)}. dags covered: {dag_134_TC_DST}\n",
      "performing partition vectorization on AG_2[[0, 171, 0, 0]]{1 nodes (1 sources, 0 stops)}. dags covered: {dag_171_TC_DST}\n",
      "performing partition vectorization on AG_2[[0, 133, 0, 0, 0]]{2 nodes (1 sources, 0 stops)}. dags covered: {dag_137_TC_SRC, dag_133}\n",
      "performing partition vectorization on AG_2[[0, 175, 0]]{1 nodes (1 sources, 0 stops)}. dags covered: {dag_175_TC_DST}\n",
      "performing partition vectorization on AG_2[[0, 171, 0, 0]]{1 nodes (1 sources, 0 stops)}. dags covered: {dag_171_TC_DST}\n",
      "performing partition vectorization on AG_2[[0, 174, 0, 0]]{2 nodes (1 sources, 0 stops)}. dags covered: {dag_174, dag_178_TC_SRC}\n",
      "performing partition vectorization on AG_2[[0, 175, 0]]{1 nodes (1 sources, 0 stops)}. dags covered: {dag_175_TC_DST}\n",
      "performing partition vectorization on AG_2[[0, 212, 0, 0]]{1 nodes (1 sources, 0 stops)}. dags covered: {dag_212_TC_DST}\n",
      "performing partition vectorization on AG_2[[0, 174, 0, 0, 0]]{2 nodes (1 sources, 0 stops)}. dags covered: {dag_174, dag_178_TC_SRC}\n",
      "performing partition vectorization on AG_2[[0, 216, 0]]{1 nodes (1 sources, 0 stops)}. dags covered: {dag_216_TC_DST}\n",
      "performing partition vectorization on AG_2[[0, 212, 0, 0]]{1 nodes (1 sources, 0 stops)}. dags covered: {dag_212_TC_DST}\n",
      "performing partition vectorization on AG_2[[0, 215, 0, 0]]{2 nodes (1 sources, 0 stops)}. dags covered: {dag_219_TC_SRC, dag_215}\n",
      "performing partition vectorization on AG_2[[0, 216, 0]]{1 nodes (1 sources, 0 stops)}. dags covered: {dag_216_TC_DST}\n",
      "performing partition vectorization on AG_2[[0, 253, 0, 0]]{1 nodes (1 sources, 0 stops)}. dags covered: {dag_253_TC_DST}\n",
      "performing partition vectorization on AG_2[[0, 215, 0, 0, 0]]{2 nodes (1 sources, 0 stops)}. dags covered: {dag_215, dag_219_TC_SRC}\n",
      "performing partition vectorization on AG_2[[0, 257, 0]]{1 nodes (1 sources, 0 stops)}. dags covered: {dag_257_TC_DST}\n",
      "performing partition vectorization on AG_2[[0, 253, 0, 0]]{1 nodes (1 sources, 0 stops)}. dags covered: {dag_253_TC_DST}\n",
      "performing partition vectorization on AG_2[[0, 256, 0, 0]]{2 nodes (1 sources, 0 stops)}. dags covered: {dag_256, dag_260_TC_SRC}\n",
      "performing partition vectorization on AG_2[[0, 257, 0]]{1 nodes (1 sources, 0 stops)}. dags covered: {dag_257_TC_DST}\n",
      "performing partition vectorization on AG_2[[0, 294, 0, 0]]{1 nodes (1 sources, 0 stops)}. dags covered: {dag_294_TC_DST}\n",
      "performing partition vectorization on AG_2[[0, 256, 0, 0, 0]]{2 nodes (1 sources, 0 stops)}. dags covered: {dag_260_TC_SRC, dag_256}\n",
      "performing partition vectorization on AG_2[[0, 298, 0]]{1 nodes (1 sources, 0 stops)}. dags covered: {dag_298_TC_DST}\n",
      "performing partition vectorization on AG_2[[0, 294, 0, 0]]{1 nodes (1 sources, 0 stops)}. dags covered: {dag_294_TC_DST}\n",
      "performing partition vectorization on AG_2[[0, 297, 0, 0]]{2 nodes (1 sources, 0 stops)}. dags covered: {dag_301_TC_SRC, dag_297}\n",
      "performing partition vectorization on AG_2[[0, 298, 0]]{1 nodes (1 sources, 0 stops)}. dags covered: {dag_298_TC_DST}\n",
      "performing partition vectorization on AG_2[[0, 335, 0, 0]]{1 nodes (1 sources, 0 stops)}. dags covered: {dag_335_TC_DST}\n",
      "performing partition vectorization on AG_2[[0, 297, 0, 0, 0]]{2 nodes (1 sources, 0 stops)}. dags covered: {dag_301_TC_SRC, dag_297}\n",
      "performing partition vectorization on AG_2[[0, 339, 0]]{1 nodes (1 sources, 0 stops)}. dags covered: {dag_339_TC_DST}\n",
      "performing partition vectorization on AG_2[[0, 335, 0, 0]]{1 nodes (1 sources, 0 stops)}. dags covered: {dag_335_TC_DST}\n",
      "performing partition vectorization on AG_2[[0, 338, 0, 0]]{2 nodes (1 sources, 0 stops)}. dags covered: {dag_338, dag_342_TC_SRC}\n",
      "performing partition vectorization on AG_2[[0, 339, 0]]{1 nodes (1 sources, 0 stops)}. dags covered: {dag_339_TC_DST}\n",
      "performing partition vectorization on AG_2[[0, 376, 0, 0]]{1 nodes (1 sources, 0 stops)}. dags covered: {dag_376_TC_DST}\n",
      "performing partition vectorization on AG_2[[0, 338, 0, 0, 0]]{2 nodes (1 sources, 0 stops)}. dags covered: {dag_338, dag_342_TC_SRC}\n",
      "performing partition vectorization on AG_2[[0, 380, 0]]{1 nodes (1 sources, 0 stops)}. dags covered: {dag_380_TC_DST}\n",
      "performing partition vectorization on AG_2[[0, 376, 0, 0]]{1 nodes (1 sources, 0 stops)}. dags covered: {dag_376_TC_DST}\n",
      "performing partition vectorization on AG_2[[0, 379, 0, 0]]{2 nodes (1 sources, 0 stops)}. dags covered: {dag_383_TC_SRC, dag_379}\n",
      "performing partition vectorization on AG_2[[0, 380, 0]]{1 nodes (1 sources, 0 stops)}. dags covered: {dag_380_TC_DST}\n",
      "performing partition vectorization on AG_2[[0, 417, 0, 0]]{1 nodes (1 sources, 0 stops)}. dags covered: {dag_417_TC_DST}\n",
      "performing partition vectorization on AG_2[[0, 379, 0, 0, 0]]{2 nodes (1 sources, 0 stops)}. dags covered: {dag_379, dag_383_TC_SRC}\n",
      "performing partition vectorization on AG_2[[0, 421, 0]]{1 nodes (1 sources, 0 stops)}. dags covered: {dag_421_TC_DST}\n",
      "performing partition vectorization on AG_2[[0, 417, 0, 0]]{1 nodes (1 sources, 0 stops)}. dags covered: {dag_417_TC_DST}\n",
      "performing partition vectorization on AG_2[[0, 420, 0, 0]]{2 nodes (1 sources, 0 stops)}. dags covered: {dag_424_TC_SRC, dag_420}\n",
      "performing partition vectorization on AG_2[[0, 421, 0]]{1 nodes (1 sources, 0 stops)}. dags covered: {dag_421_TC_DST}\n",
      "performing partition vectorization on AG_2[[0, 458, 0, 0]]{1 nodes (1 sources, 0 stops)}. dags covered: {dag_458_TC_DST}\n",
      "performing partition vectorization on AG_2[[0, 420, 0, 0, 0]]{2 nodes (1 sources, 0 stops)}. dags covered: {dag_424_TC_SRC, dag_420}\n",
      "performing partition vectorization on AG_2[[0, 462, 0]]{1 nodes (1 sources, 0 stops)}. dags covered: {dag_462_TC_DST}\n",
      "performing partition vectorization on AG_2[[0, 458, 0, 0]]{1 nodes (1 sources, 0 stops)}. dags covered: {dag_458_TC_DST}\n",
      "performing partition vectorization on AG_2[[0, 461, 0, 0]]{2 nodes (1 sources, 0 stops)}. dags covered: {dag_465_TC_SRC, dag_461}\n",
      "performing partition vectorization on AG_2[[0, 462, 0]]{1 nodes (1 sources, 0 stops)}. dags covered: {dag_462_TC_DST}\n",
      "performing partition vectorization on AG_2[[0, 499, 0, 0]]{1 nodes (1 sources, 0 stops)}. dags covered: {dag_499_TC_DST}\n",
      "performing partition vectorization on AG_2[[0, 461, 0, 0, 0]]{2 nodes (1 sources, 0 stops)}. dags covered: {dag_465_TC_SRC, dag_461}\n",
      "performing partition vectorization on AG_2[[0, 503, 0]]{1 nodes (1 sources, 0 stops)}. dags covered: {dag_503_TC_DST}\n",
      "performing partition vectorization on AG_2[[0, 499, 0, 0]]{1 nodes (1 sources, 0 stops)}. dags covered: {dag_499_TC_DST}\n",
      "performing partition vectorization on AG_2[[0, 502, 0, 0]]{2 nodes (1 sources, 0 stops)}. dags covered: {dag_502, dag_506_TC_SRC}\n",
      "performing partition vectorization on AG_2[[0, 503, 0]]{1 nodes (1 sources, 0 stops)}. dags covered: {dag_503_TC_DST}\n",
      "performing partition vectorization on AG_2[[0, 540, 0, 0]]{1 nodes (1 sources, 0 stops)}. dags covered: {dag_540_TC_DST}\n",
      "performing partition vectorization on AG_2[[0, 502, 0, 0, 0]]{2 nodes (1 sources, 0 stops)}. dags covered: {dag_502, dag_506_TC_SRC}\n",
      "performing partition vectorization on AG_2[[0, 544, 0]]{1 nodes (1 sources, 0 stops)}. dags covered: {dag_544_TC_DST}\n",
      "performing partition vectorization on AG_2[[0, 540, 0, 0]]{1 nodes (1 sources, 0 stops)}. dags covered: {dag_540_TC_DST}performing partition vectorization on AG_2[[0, 543, 0, 0]]{2 nodes (1 sources, 0 stops)}. dags covered: {dag_547_TC_SRC, dag_543}\n",
      "\n",
      "performing partition vectorization on AG_2[[0, 544, 0]]{1 nodes (1 sources, 0 stops)}. dags covered: {dag_544_TC_DST}\n",
      "performing partition vectorization on AG_2[[0, 581, 0, 0]]{1 nodes (1 sources, 0 stops)}. dags covered: {dag_581_TC_DST}\n",
      "performing partition vectorization on AG_2[[0, 543, 0, 0, 0]]{2 nodes (1 sources, 0 stops)}. dags covered: {dag_547_TC_SRC, dag_543}\n",
      "performing partition vectorization on AG_2[[0, 585, 0]]{1 nodes (1 sources, 0 stops)}. dags covered: {dag_585_TC_DST}\n",
      "performing partition vectorization on AG_2[[0, 584, 0, 0]]{2 nodes (1 sources, 0 stops)}. dags covered: {dag_588_TC_SRC, dag_584}\n",
      "performing partition vectorization on AG_2[[0, 581, 0, 0]]{1 nodes (1 sources, 0 stops)}. dags covered: {dag_581_TC_DST}\n",
      "performing partition vectorization on AG_2[[0, 585, 0]]{1 nodes (1 sources, 0 stops)}. dags covered: {dag_585_TC_DST}\n",
      "performing partition vectorization on AG_2[[0, 622, 0, 0]]{1 nodes (1 sources, 0 stops)}. dags covered: {dag_622_TC_DST}\n",
      "performing partition vectorization on AG_2[[0, 584, 0, 0, 0]]{2 nodes (1 sources, 0 stops)}. dags covered: {dag_588_TC_SRC, dag_584}\n",
      "performing partition vectorization on AG_2[[0, 626, 0]]{1 nodes (1 sources, 0 stops)}. dags covered: {dag_626_TC_DST}\n",
      "performing partition vectorization on AG_2[[0, 625, 0, 0]]{2 nodes (1 sources, 0 stops)}. dags covered: {dag_625, dag_629_TC_SRC}\n",
      "performing partition vectorization on AG_2[[0, 622, 0, 0]]{1 nodes (1 sources, 0 stops)}. dags covered: {dag_622_TC_DST}\n",
      "performing partition vectorization on AG_2[[0, 626, 0]]{1 nodes (1 sources, 0 stops)}. dags covered: {dag_626_TC_DST}\n",
      "performing partition vectorization on AG_2[[0, 663, 0, 0]]{1 nodes (1 sources, 0 stops)}. dags covered: {dag_663_TC_DST}\n",
      "performing partition vectorization on AG_2[[0, 625, 0, 0, 0]]{2 nodes (1 sources, 0 stops)}. dags covered: {dag_629_TC_SRC, dag_625}\n",
      "performing partition vectorization on AG_2[[0, 667, 0]]{1 nodes (1 sources, 0 stops)}. dags covered: {dag_667_TC_DST}\n",
      "performing partition vectorization on AG_2[[0, 666, 0, 0]]{2 nodes (1 sources, 0 stops)}. dags covered: {dag_666, dag_670_TC_SRC}\n",
      "performing partition vectorization on AG_2[[0, 663, 0, 0]]{1 nodes (1 sources, 0 stops)}. dags covered: {dag_663_TC_DST}\n",
      "performing partition vectorization on AG_2[[0, 667, 0]]{1 nodes (1 sources, 0 stops)}. dags covered: {dag_667_TC_DST}\n",
      "performing partition vectorization on AG_2[[0, 704, 0, 0]]{1 nodes (1 sources, 0 stops)}. dags covered: {dag_704_TC_DST}\n",
      "performing partition vectorization on AG_2[[0, 666, 0, 0, 0]]{2 nodes (1 sources, 0 stops)}. dags covered: {dag_666, dag_670_TC_SRC}\n",
      "performing partition vectorization on AG_2[[0, 708, 0]]{1 nodes (1 sources, 0 stops)}. dags covered: {dag_708_TC_DST}\n",
      "performing partition vectorization on AG_2[[0, 707, 0, 0]]{2 nodes (1 sources, 0 stops)}. dags covered: {dag_711_TC_SRC, dag_707}\n",
      "performing partition vectorization on AG_2[[0, 704, 0, 0]]{1 nodes (1 sources, 0 stops)}. dags covered: {dag_704_TC_DST}\n",
      "performing partition vectorization on AG_2[[0, 708, 0]]{1 nodes (1 sources, 0 stops)}. dags covered: {dag_708_TC_DST}\n",
      "performing partition vectorization on AG_2[[0, 745, 0, 0]]{1 nodes (1 sources, 0 stops)}. dags covered: {dag_745_TC_DST}\n",
      "performing partition vectorization on AG_2[[0, 707, 0, 0, 0]]{2 nodes (1 sources, 0 stops)}. dags covered: {dag_711_TC_SRC, dag_707}performing partition vectorization on AG_2[[0, 749, 0]]{1 nodes (1 sources, 0 stops)}. dags covered: {dag_749_TC_DST}\n",
      "\n",
      "performing partition vectorization on AG_2[[0, 748, 0, 0]]{2 nodes (1 sources, 0 stops)}. dags covered: {dag_752_TC_SRC, dag_748}\n",
      "performing partition vectorization on AG_2[[0, 745, 0, 0]]{1 nodes (1 sources, 0 stops)}. dags covered: {dag_745_TC_DST}\n",
      "performing partition vectorization on AG_2[[0, 749, 0]]{1 nodes (1 sources, 0 stops)}. dags covered: {dag_749_TC_DST}\n",
      "performing partition vectorization on AG_2[[0, 786, 0, 0]]{1 nodes (1 sources, 0 stops)}. dags covered: {dag_786_TC_DST}\n",
      "performing partition vectorization on AG_2[[0, 790, 0]]{1 nodes (1 sources, 0 stops)}. dags covered: {dag_790_TC_DST}\n",
      "performing partition vectorization on AG_2[[0, 748, 0, 0, 0]]{2 nodes (1 sources, 0 stops)}. dags covered: {dag_752_TC_SRC, dag_748}\n",
      "performing partition vectorization on AG_2[[0, 789, 0, 0]]{2 nodes (1 sources, 0 stops)}. dags covered: {dag_789, dag_793_TC_SRC}\n",
      "performing partition vectorization on AG_2[[0, 786, 0, 0]]{1 nodes (1 sources, 0 stops)}. dags covered: {dag_786_TC_DST}\n",
      "performing partition vectorization on AG_2[[0, 790, 0]]{1 nodes (1 sources, 0 stops)}. dags covered: {dag_790_TC_DST}\n",
      "performing partition vectorization on AG_2[[0, 827, 0, 0]]{1 nodes (1 sources, 0 stops)}. dags covered: {dag_827_TC_DST}\n",
      "performing partition vectorization on AG_2[[0, 831, 0]]{1 nodes (1 sources, 0 stops)}. dags covered: {dag_831_TC_DST}\n",
      "performing partition vectorization on AG_2[[0, 789, 0, 0, 0]]{2 nodes (1 sources, 0 stops)}. dags covered: {dag_789, dag_793_TC_SRC}\n",
      "performing partition vectorization on AG_2[[0, 830, 0, 0]]{2 nodes (1 sources, 0 stops)}. dags covered: {dag_830, dag_834_TC_SRC}\n",
      "performing partition vectorization on AG_2[[0, 827, 0, 0]]{1 nodes (1 sources, 0 stops)}. dags covered: {dag_827_TC_DST}\n",
      "performing partition vectorization on AG_2[[0, 831, 0]]{1 nodes (1 sources, 0 stops)}. dags covered: {dag_831_TC_DST}\n",
      "performing partition vectorization on AG_2[[0, 868, 0, 0]]{1 nodes (1 sources, 0 stops)}. dags covered: {dag_868_TC_DST}\n",
      "performing partition vectorization on AG_2[[0, 872, 0]]{1 nodes (1 sources, 0 stops)}. dags covered: {dag_872_TC_DST}\n",
      "performing partition vectorization on AG_2[[0, 830, 0, 0, 0]]{2 nodes (1 sources, 0 stops)}. dags covered: {dag_834_TC_SRC, dag_830}\n",
      "performing partition vectorization on AG_2[[0, 871, 0, 0]]{2 nodes (1 sources, 0 stops)}. dags covered: {dag_875_TC_SRC, dag_871}\n",
      "performing partition vectorization on AG_2[[0, 868, 0, 0]]{1 nodes (1 sources, 0 stops)}. dags covered: {dag_868_TC_DST}\n",
      "performing partition vectorization on AG_2[[0, 872, 0]]{1 nodes (1 sources, 0 stops)}. dags covered: {dag_872_TC_DST}\n",
      "performing partition vectorization on AG_2[[0, 909, 0, 0]]{1 nodes (1 sources, 0 stops)}. dags covered: {dag_909_TC_DST}\n",
      "performing partition vectorization on AG_2[[0, 871, 0, 0, 0]]{2 nodes (1 sources, 0 stops)}. dags covered: {dag_871, dag_875_TC_SRC}\n",
      "performing partition vectorization on AG_2[[0, 913, 0]]{1 nodes (1 sources, 0 stops)}. dags covered: {dag_913_TC_DST}\n",
      "performing partition vectorization on AG_2[[0, 912, 0, 0]]{2 nodes (1 sources, 0 stops)}. dags covered: {dag_916_TC_SRC, dag_912}\n",
      "performing partition vectorization on AG_2[[0, 909, 0, 0]]{1 nodes (1 sources, 0 stops)}. dags covered: {dag_909_TC_DST}\n",
      "performing partition vectorization on AG_2[[0, 913, 0]]{1 nodes (1 sources, 0 stops)}. dags covered: {dag_913_TC_DST}\n",
      "performing partition vectorization on AG_2[[0, 950, 0, 0]]{1 nodes (1 sources, 0 stops)}. dags covered: {dag_950_TC_DST}\n",
      "performing partition vectorization on AG_2[[0, 954, 0]]{1 nodes (1 sources, 0 stops)}. dags covered: {dag_954_TC_DST}\n",
      "performing partition vectorization on AG_2[[0, 912, 0, 0, 0]]{2 nodes (1 sources, 0 stops)}. dags covered: {dag_916_TC_SRC, dag_912}\n",
      "performing partition vectorization on AG_2[[0, 953, 0, 0]]{2 nodes (1 sources, 0 stops)}. dags covered: {dag_953, dag_957_TC_SRC}\n",
      "performing partition vectorization on AG_2[[0, 950, 0, 0]]{1 nodes (1 sources, 0 stops)}. dags covered: {dag_950_TC_DST}\n",
      "performing partition vectorization on AG_2[[0, 991, 0, 0]]{1 nodes (1 sources, 0 stops)}. dags covered: {dag_991_TC_DST}\n",
      "performing partition vectorization on AG_2[[0, 954, 0]]{1 nodes (1 sources, 0 stops)}. dags covered: {dag_954_TC_DST}\n",
      "performing partition vectorization on AG_2[[0, 995, 0]]{1 nodes (1 sources, 0 stops)}. dags covered: {dag_995_TC_DST}\n",
      "performing partition vectorization on AG_2[[0, 953, 0, 0, 0]]{2 nodes (1 sources, 0 stops)}. dags covered: {dag_953, dag_957_TC_SRC}\n",
      "performing partition vectorization on AG_2[[0, 994, 0, 0]]{2 nodes (1 sources, 0 stops)}. dags covered: {dag_994, dag_998_TC_SRC}\n",
      "performing partition vectorization on AG_2[[0, 991, 0, 0]]{1 nodes (1 sources, 0 stops)}. dags covered: {dag_991_TC_DST}\n",
      "performing partition vectorization on AG_2[[0, 1032, 0, 0]]{1 nodes (1 sources, 0 stops)}. dags covered: {dag_1032_TC_DST}\n",
      "performing partition vectorization on AG_2[[0, 995, 0]]{1 nodes (1 sources, 0 stops)}. dags covered: {dag_995_TC_DST}\n",
      "performing partition vectorization on AG_2[[0, 1036, 0]]{1 nodes (1 sources, 0 stops)}. dags covered: {dag_1036_TC_DST}\n",
      "performing partition vectorization on AG_2[[0, 994, 0, 0, 0]]{2 nodes (1 sources, 0 stops)}. dags covered: {dag_998_TC_SRC, dag_994}\n",
      "performing partition vectorization on AG_2[[0, 1035, 0, 0]]{2 nodes (1 sources, 0 stops)}. dags covered: {dag_1039_TC_SRC, dag_1035}\n",
      "performing partition vectorization on AG_2[[0, 1032, 0, 0]]{1 nodes (1 sources, 0 stops)}. dags covered: {dag_1032_TC_DST}\n",
      "performing partition vectorization on AG_2[[0, 1073, 0, 0]]{1 nodes (1 sources, 0 stops)}. dags covered: {dag_1073_TC_DST}\n",
      "performing partition vectorization on AG_2[[0, 1036, 0]]{1 nodes (1 sources, 0 stops)}. dags covered: {dag_1036_TC_DST}\n",
      "performing partition vectorization on AG_2[[0, 1077, 0]]{1 nodes (1 sources, 0 stops)}. dags covered: {dag_1077_TC_DST}\n",
      "performing partition vectorization on AG_2[[0, 1035, 0, 0, 0]]{2 nodes (1 sources, 0 stops)}. dags covered: {dag_1035, dag_1039_TC_SRC}\n",
      "performing partition vectorization on AG_2[[0, 1076, 0, 0]]{2 nodes (1 sources, 0 stops)}. dags covered: {dag_1080_TC_SRC, dag_1076}\n",
      "performing partition vectorization on AG_2[[0, 1073, 0, 0]]{1 nodes (1 sources, 0 stops)}. dags covered: {dag_1073_TC_DST}\n",
      "performing partition vectorization on AG_2[[0, 1114, 0, 0]]{1 nodes (1 sources, 0 stops)}. dags covered: {dag_1114_TC_DST}\n",
      "performing partition vectorization on AG_2[[0, 1077, 0]]{1 nodes (1 sources, 0 stops)}. dags covered: {dag_1077_TC_DST}\n",
      "performing partition vectorization on AG_2[[0, 1118, 0]]{1 nodes (1 sources, 0 stops)}. dags covered: {dag_1118_TC_DST}\n",
      "performing partition vectorization on AG_2[[0, 1076, 0, 0, 0]]{2 nodes (1 sources, 0 stops)}. dags covered: {dag_1080_TC_SRC, dag_1076}\n",
      "performing partition vectorization on AG_2[[0, 1117, 0, 0]]{2 nodes (1 sources, 0 stops)}. dags covered: {dag_1117, dag_1121_TC_SRC}\n",
      "performing partition vectorization on AG_2[[0, 1114, 0, 0]]{1 nodes (1 sources, 0 stops)}. dags covered: {dag_1114_TC_DST}\n",
      "performing partition vectorization on AG_2[[0, 1155, 0, 0]]{1 nodes (1 sources, 0 stops)}. dags covered: {dag_1155_TC_DST}\n",
      "performing partition vectorization on AG_2[[0, 1118, 0]]{1 nodes (1 sources, 0 stops)}. dags covered: {dag_1118_TC_DST}\n",
      "performing partition vectorization on AG_2[[0, 1159, 0]]{1 nodes (1 sources, 0 stops)}. dags covered: {dag_1159_TC_DST}\n",
      "performing partition vectorization on AG_2[[0, 1158, 0, 0]]{2 nodes (1 sources, 0 stops)}. dags covered: {dag_1158, dag_1162_TC_SRC}performing partition vectorization on AG_2[[0, 1117, 0, 0, 0]]{2 nodes (1 sources, 0 stops)}. dags covered: {dag_1117, dag_1121_TC_SRC}\n",
      "\n",
      "performing partition vectorization on AG_2[[0, 1196, 0, 0]]{1 nodes (1 sources, 0 stops)}. dags covered: {dag_1196_TC_DST}\n",
      "performing partition vectorization on AG_2[[0, 1155, 0, 0]]{1 nodes (1 sources, 0 stops)}. dags covered: {dag_1155_TC_DST}\n",
      "performing partition vectorization on AG_2[[0, 1200, 0]]{1 nodes (1 sources, 0 stops)}. dags covered: {dag_1200_TC_DST}\n",
      "performing partition vectorization on AG_2[[0, 1159, 0]]{1 nodes (1 sources, 0 stops)}. dags covered: {dag_1159_TC_DST}\n",
      "performing partition vectorization on AG_2[[0, 1199, 0, 0]]{2 nodes (1 sources, 0 stops)}. dags covered: {dag_1203_TC_SRC, dag_1199}\n",
      "performing partition vectorization on AG_2[[0, 1158, 0, 0, 0]]{2 nodes (1 sources, 0 stops)}. dags covered: {dag_1162_TC_SRC, dag_1158}\n",
      "performing partition vectorization on AG_2[[0, 1237, 0, 0]]{1 nodes (1 sources, 0 stops)}. dags covered: {dag_1237_TC_DST}\n",
      "performing partition vectorization on AG_2[[0, 1196, 0, 0]]{1 nodes (1 sources, 0 stops)}. dags covered: {dag_1196_TC_DST}\n",
      "performing partition vectorization on AG_2[[0, 1241, 0]]{1 nodes (1 sources, 0 stops)}. dags covered: {dag_1241_TC_DST}\n",
      "performing partition vectorization on AG_2[[0, 1200, 0]]{1 nodes (1 sources, 0 stops)}. dags covered: {dag_1200_TC_DST}\n",
      "performing partition vectorization on AG_2[[0, 1240, 0, 0]]{2 nodes (1 sources, 0 stops)}. dags covered: {dag_1244_TC_SRC, dag_1240}\n",
      "performing partition vectorization on AG_2[[0, 1199, 0, 0, 0]]{2 nodes (1 sources, 0 stops)}. dags covered: {dag_1199, dag_1203_TC_SRC}\n",
      "performing partition vectorization on AG_2[[0, 1278, 0, 0]]{1 nodes (1 sources, 0 stops)}. dags covered: {dag_1278_TC_DST}\n",
      "performing partition vectorization on AG_2[[0, 1237, 0, 0]]{1 nodes (1 sources, 0 stops)}. dags covered: {dag_1237_TC_DST}\n",
      "performing partition vectorization on AG_2[[0, 1282, 0]]{1 nodes (1 sources, 0 stops)}. dags covered: {dag_1282_TC_DST}\n",
      "performing partition vectorization on AG_2[[0, 1241, 0]]{1 nodes (1 sources, 0 stops)}. dags covered: {dag_1241_TC_DST}\n",
      "performing partition vectorization on AG_2[[0, 1281, 0, 0]]{2 nodes (1 sources, 0 stops)}. dags covered: {dag_1281, dag_1285_TC_SRC}\n",
      "performing partition vectorization on AG_2[[0, 1240, 0, 0, 0]]{2 nodes (1 sources, 0 stops)}. dags covered: {dag_1240, dag_1244_TC_SRC}\n",
      "performing partition vectorization on AG_2[[0, 1278, 0, 0]]{1 nodes (1 sources, 0 stops)}. dags covered: {dag_1278_TC_DST}\n",
      "performing partition vectorization on AG_2[[0, 1282, 0]]{1 nodes (1 sources, 0 stops)}. dags covered: {dag_1282_TC_DST}\n",
      "performing partition vectorization on AG_2[[0, 1281, 0, 0, 0]]{2 nodes (1 sources, 0 stops)}. dags covered: {dag_1285_TC_SRC, dag_1281}\n",
      "performing partition vectorization on AG_2[[0, 7, 0, 0]]{1 nodes (1 sources, 0 stops)}. dags covered: {dag_7_TC_DST}\n",
      "performing partition vectorization on AG_2[[0, 11, 0]]{1 nodes (1 sources, 0 stops)}. dags covered: {dag_11_TC_DST}\n",
      "performing partition vectorization on AG_2[[0, 10, 0, 0]]{2 nodes (1 sources, 0 stops)}. dags covered: {dag_14_TC_SRC, dag_10}\n",
      "performing partition vectorization on AG_2[[0, 48, 0, 0]]{1 nodes (1 sources, 0 stops)}. dags covered: {dag_48_TC_DST}\n",
      "performing partition vectorization on AG_2[[0, 52, 0]]{1 nodes (1 sources, 0 stops)}. dags covered: {dag_52_TC_DST}\n",
      "performing partition vectorization on AG_2[[0, 51, 0, 0]]{2 nodes (1 sources, 0 stops)}. dags covered: {dag_51, dag_55_TC_SRC}\n",
      "performing partition vectorization on AG_2[[0, 89, 0, 0]]{1 nodes (1 sources, 0 stops)}. dags covered: {dag_89_TC_DST}\n",
      "performing partition vectorization on AG_2[[0, 93, 0]]{1 nodes (1 sources, 0 stops)}. dags covered: {dag_93_TC_DST}\n",
      "performing partition vectorization on AG_2[[0, 92, 0, 0]]{2 nodes (1 sources, 0 stops)}. dags covered: {dag_92, dag_96_TC_SRC}\n",
      "performing partition vectorization on AG_2[[0, 130, 0, 0]]{1 nodes (1 sources, 0 stops)}. dags covered: {dag_130_TC_DST}\n",
      "performing partition vectorization on AG_2[[0, 134, 0]]{1 nodes (1 sources, 0 stops)}. dags covered: {dag_134_TC_DST}\n",
      "performing partition vectorization on AG_2[[0, 133, 0, 0]]{2 nodes (1 sources, 0 stops)}. dags covered: {dag_137_TC_SRC, dag_133}\n",
      "performing partition vectorization on AG_2[[0, 171, 0, 0]]{1 nodes (1 sources, 0 stops)}. dags covered: {dag_171_TC_DST}\n",
      "performing partition vectorization on AG_2[[0, 175, 0]]{1 nodes (1 sources, 0 stops)}. dags covered: {dag_175_TC_DST}\n",
      "performing partition vectorization on AG_2[[0, 174, 0, 0]]{2 nodes (1 sources, 0 stops)}. dags covered: {dag_174, dag_178_TC_SRC}\n",
      "performing partition vectorization on AG_2[[0, 212, 0, 0]]{1 nodes (1 sources, 0 stops)}. dags covered: {dag_212_TC_DST}\n",
      "performing partition vectorization on AG_2[[0, 216, 0]]{1 nodes (1 sources, 0 stops)}. dags covered: {dag_216_TC_DST}\n",
      "performing partition vectorization on AG_2[[0, 215, 0, 0]]{2 nodes (1 sources, 0 stops)}. dags covered: {dag_215, dag_219_TC_SRC}\n",
      "performing partition vectorization on AG_2[[0, 253, 0, 0]]{1 nodes (1 sources, 0 stops)}. dags covered: {dag_253_TC_DST}\n",
      "performing partition vectorization on AG_2[[0, 257, 0]]{1 nodes (1 sources, 0 stops)}. dags covered: {dag_257_TC_DST}\n",
      "performing partition vectorization on AG_2[[0, 256, 0, 0]]{2 nodes (1 sources, 0 stops)}. dags covered: {dag_260_TC_SRC, dag_256}\n",
      "performing partition vectorization on AG_2[[0, 294, 0, 0]]{1 nodes (1 sources, 0 stops)}. dags covered: {dag_294_TC_DST}\n",
      "performing partition vectorization on AG_2[[0, 298, 0]]{1 nodes (1 sources, 0 stops)}. dags covered: {dag_298_TC_DST}\n",
      "performing partition vectorization on AG_2[[0, 297, 0, 0]]{2 nodes (1 sources, 0 stops)}. dags covered: {dag_301_TC_SRC, dag_297}\n",
      "performing partition vectorization on AG_2[[0, 335, 0, 0]]{1 nodes (1 sources, 0 stops)}. dags covered: {dag_335_TC_DST}\n",
      "performing partition vectorization on AG_2[[0, 339, 0]]{1 nodes (1 sources, 0 stops)}. dags covered: {dag_339_TC_DST}\n",
      "performing partition vectorization on AG_2[[0, 338, 0, 0]]{2 nodes (1 sources, 0 stops)}. dags covered: {dag_338, dag_342_TC_SRC}\n",
      "performing partition vectorization on AG_2[[0, 376, 0, 0]]{1 nodes (1 sources, 0 stops)}. dags covered: {dag_376_TC_DST}\n",
      "performing partition vectorization on AG_2[[0, 380, 0]]{1 nodes (1 sources, 0 stops)}. dags covered: {dag_380_TC_DST}\n",
      "performing partition vectorization on AG_2[[0, 379, 0, 0]]{2 nodes (1 sources, 0 stops)}. dags covered: {dag_379, dag_383_TC_SRC}\n",
      "performing partition vectorization on AG_2[[0, 417, 0, 0]]{1 nodes (1 sources, 0 stops)}. dags covered: {dag_417_TC_DST}\n",
      "performing partition vectorization on AG_2[[0, 421, 0]]{1 nodes (1 sources, 0 stops)}. dags covered: {dag_421_TC_DST}\n",
      "performing partition vectorization on AG_2[[0, 420, 0, 0]]{2 nodes (1 sources, 0 stops)}. dags covered: {dag_424_TC_SRC, dag_420}\n",
      "performing partition vectorization on AG_2[[0, 458, 0, 0]]{1 nodes (1 sources, 0 stops)}. dags covered: {dag_458_TC_DST}\n",
      "performing partition vectorization on AG_2[[0, 462, 0]]{1 nodes (1 sources, 0 stops)}. dags covered: {dag_462_TC_DST}\n",
      "performing partition vectorization on AG_2[[0, 461, 0, 0]]{2 nodes (1 sources, 0 stops)}. dags covered: {dag_461, dag_465_TC_SRC}\n",
      "performing partition vectorization on AG_2[[0, 499, 0, 0]]{1 nodes (1 sources, 0 stops)}. dags covered: {dag_499_TC_DST}\n",
      "performing partition vectorization on AG_2[[0, 503, 0]]{1 nodes (1 sources, 0 stops)}. dags covered: {dag_503_TC_DST}\n",
      "performing partition vectorization on AG_2[[0, 502, 0, 0]]{2 nodes (1 sources, 0 stops)}. dags covered: {dag_502, dag_506_TC_SRC}\n",
      "performing partition vectorization on AG_2[[0, 540, 0, 0]]{1 nodes (1 sources, 0 stops)}. dags covered: {dag_540_TC_DST}\n",
      "performing partition vectorization on AG_2[[0, 544, 0]]{1 nodes (1 sources, 0 stops)}. dags covered: {dag_544_TC_DST}\n",
      "performing partition vectorization on AG_2[[0, 543, 0, 0]]{2 nodes (1 sources, 0 stops)}. dags covered: {dag_547_TC_SRC, dag_543}\n",
      "performing partition vectorization on AG_2[[0, 581, 0, 0]]{1 nodes (1 sources, 0 stops)}. dags covered: {dag_581_TC_DST}\n",
      "performing partition vectorization on AG_2[[0, 585, 0]]{1 nodes (1 sources, 0 stops)}. dags covered: {dag_585_TC_DST}\n",
      "performing partition vectorization on AG_2[[0, 584, 0, 0]]{2 nodes (1 sources, 0 stops)}. dags covered: {dag_588_TC_SRC, dag_584}\n",
      "performing partition vectorization on AG_2[[0, 622, 0, 0]]{1 nodes (1 sources, 0 stops)}. dags covered: {dag_622_TC_DST}\n",
      "performing partition vectorization on AG_2[[0, 626, 0]]{1 nodes (1 sources, 0 stops)}. dags covered: {dag_626_TC_DST}\n",
      "performing partition vectorization on AG_2[[0, 625, 0, 0]]{2 nodes (1 sources, 0 stops)}. dags covered: {dag_629_TC_SRC, dag_625}\n",
      "performing partition vectorization on AG_2[[0, 663, 0, 0]]{1 nodes (1 sources, 0 stops)}. dags covered: {dag_663_TC_DST}\n",
      "performing partition vectorization on AG_2[[0, 667, 0]]{1 nodes (1 sources, 0 stops)}. dags covered: {dag_667_TC_DST}\n",
      "performing partition vectorization on AG_2[[0, 666, 0, 0]]{2 nodes (1 sources, 0 stops)}. dags covered: {dag_666, dag_670_TC_SRC}\n",
      "performing partition vectorization on AG_2[[0, 704, 0, 0]]{1 nodes (1 sources, 0 stops)}. dags covered: {dag_704_TC_DST}\n",
      "performing partition vectorization on AG_2[[0, 708, 0]]{1 nodes (1 sources, 0 stops)}. dags covered: {dag_708_TC_DST}\n",
      "performing partition vectorization on AG_2[[0, 707, 0, 0]]{2 nodes (1 sources, 0 stops)}. dags covered: {dag_711_TC_SRC, dag_707}\n",
      "performing partition vectorization on AG_2[[0, 745, 0, 0]]{1 nodes (1 sources, 0 stops)}. dags covered: {dag_745_TC_DST}\n",
      "performing partition vectorization on AG_2[[0, 749, 0]]{1 nodes (1 sources, 0 stops)}. dags covered: {dag_749_TC_DST}\n",
      "performing partition vectorization on AG_2[[0, 748, 0, 0]]{2 nodes (1 sources, 0 stops)}. dags covered: {dag_752_TC_SRC, dag_748}\n",
      "performing partition vectorization on AG_2[[0, 786, 0, 0]]{1 nodes (1 sources, 0 stops)}. dags covered: {dag_786_TC_DST}\n",
      "performing partition vectorization on AG_2[[0, 790, 0]]{1 nodes (1 sources, 0 stops)}. dags covered: {dag_790_TC_DST}\n",
      "performing partition vectorization on AG_2[[0, 789, 0, 0]]{2 nodes (1 sources, 0 stops)}. dags covered: {dag_789, dag_793_TC_SRC}\n",
      "performing partition vectorization on AG_2[[0, 827, 0, 0]]{1 nodes (1 sources, 0 stops)}. dags covered: {dag_827_TC_DST}\n",
      "performing partition vectorization on AG_2[[0, 831, 0]]{1 nodes (1 sources, 0 stops)}. dags covered: {dag_831_TC_DST}\n",
      "performing partition vectorization on AG_2[[0, 830, 0, 0]]{2 nodes (1 sources, 0 stops)}. dags covered: {dag_834_TC_SRC, dag_830}\n",
      "performing partition vectorization on AG_2[[0, 868, 0, 0]]{1 nodes (1 sources, 0 stops)}. dags covered: {dag_868_TC_DST}\n",
      "performing partition vectorization on AG_2[[0, 872, 0]]{1 nodes (1 sources, 0 stops)}. dags covered: {dag_872_TC_DST}\n",
      "performing partition vectorization on AG_2[[0, 871, 0, 0]]{2 nodes (1 sources, 0 stops)}. dags covered: {dag_871, dag_875_TC_SRC}\n",
      "performing partition vectorization on AG_2[[0, 909, 0, 0]]{1 nodes (1 sources, 0 stops)}. dags covered: {dag_909_TC_DST}\n",
      "performing partition vectorization on AG_2[[0, 913, 0]]{1 nodes (1 sources, 0 stops)}. dags covered: {dag_913_TC_DST}\n",
      "performing partition vectorization on AG_2[[0, 912, 0, 0]]{2 nodes (1 sources, 0 stops)}. dags covered: {dag_916_TC_SRC, dag_912}\n",
      "performing partition vectorization on AG_2[[0, 950, 0, 0]]{1 nodes (1 sources, 0 stops)}. dags covered: {dag_950_TC_DST}\n",
      "performing partition vectorization on AG_2[[0, 954, 0]]{1 nodes (1 sources, 0 stops)}. dags covered: {dag_954_TC_DST}\n",
      "performing partition vectorization on AG_2[[0, 953, 0, 0]]{2 nodes (1 sources, 0 stops)}. dags covered: {dag_953, dag_957_TC_SRC}\n",
      "performing partition vectorization on AG_2[[0, 991, 0, 0]]{1 nodes (1 sources, 0 stops)}. dags covered: {dag_991_TC_DST}\n",
      "performing partition vectorization on AG_2[[0, 995, 0]]{1 nodes (1 sources, 0 stops)}. dags covered: {dag_995_TC_DST}\n",
      "performing partition vectorization on AG_2[[0, 994, 0, 0]]{2 nodes (1 sources, 0 stops)}. dags covered: {dag_998_TC_SRC, dag_994}\n",
      "performing partition vectorization on AG_2[[0, 1032, 0, 0]]{1 nodes (1 sources, 0 stops)}. dags covered: {dag_1032_TC_DST}\n",
      "performing partition vectorization on AG_2[[0, 1036, 0]]{1 nodes (1 sources, 0 stops)}. dags covered: {dag_1036_TC_DST}\n",
      "performing partition vectorization on AG_2[[0, 1035, 0, 0]]{2 nodes (1 sources, 0 stops)}. dags covered: {dag_1035, dag_1039_TC_SRC}\n",
      "performing partition vectorization on AG_2[[0, 1073, 0, 0]]{1 nodes (1 sources, 0 stops)}. dags covered: {dag_1073_TC_DST}\n",
      "performing partition vectorization on AG_2[[0, 1077, 0]]{1 nodes (1 sources, 0 stops)}. dags covered: {dag_1077_TC_DST}\n",
      "performing partition vectorization on AG_2[[0, 1076, 0, 0]]{2 nodes (1 sources, 0 stops)}. dags covered: {dag_1080_TC_SRC, dag_1076}\n",
      "performing partition vectorization on AG_2[[0, 1114, 0, 0]]{1 nodes (1 sources, 0 stops)}. dags covered: {dag_1114_TC_DST}\n",
      "performing partition vectorization on AG_2[[0, 1118, 0]]{1 nodes (1 sources, 0 stops)}. dags covered: {dag_1118_TC_DST}\n",
      "performing partition vectorization on AG_2[[0, 1117, 0, 0]]{2 nodes (1 sources, 0 stops)}. dags covered: {dag_1117, dag_1121_TC_SRC}\n",
      "performing partition vectorization on AG_2[[0, 1155, 0, 0]]{1 nodes (1 sources, 0 stops)}. dags covered: {dag_1155_TC_DST}\n",
      "performing partition vectorization on AG_2[[0, 1159, 0]]{1 nodes (1 sources, 0 stops)}. dags covered: {dag_1159_TC_DST}\n",
      "performing partition vectorization on AG_2[[0, 1158, 0, 0]]{2 nodes (1 sources, 0 stops)}. dags covered: {dag_1162_TC_SRC, dag_1158}\n",
      "performing partition vectorization on AG_2[[0, 1196, 0, 0]]{1 nodes (1 sources, 0 stops)}. dags covered: {dag_1196_TC_DST}\n",
      "performing partition vectorization on AG_2[[0, 1200, 0]]{1 nodes (1 sources, 0 stops)}. dags covered: {dag_1200_TC_DST}\n",
      "performing partition vectorization on AG_2[[0, 1199, 0, 0]]{2 nodes (1 sources, 0 stops)}. dags covered: {dag_1199, dag_1203_TC_SRC}\n",
      "performing partition vectorization on AG_2[[0, 1237, 0, 0]]{1 nodes (1 sources, 0 stops)}. dags covered: {dag_1237_TC_DST}\n",
      "performing partition vectorization on AG_2[[0, 1241, 0]]{1 nodes (1 sources, 0 stops)}. dags covered: {dag_1241_TC_DST}\n",
      "performing partition vectorization on AG_2[[0, 1240, 0, 0]]{2 nodes (1 sources, 0 stops)}. dags covered: {dag_1240, dag_1244_TC_SRC}\n",
      "performing partition vectorization on AG_2[[0, 1278, 0, 0]]{1 nodes (1 sources, 0 stops)}. dags covered: {dag_1278_TC_DST}\n",
      "performing partition vectorization on AG_2[[0, 1282, 0]]{1 nodes (1 sources, 0 stops)}. dags covered: {dag_1282_TC_DST}\n",
      "performing partition vectorization on AG_2[[0, 1281, 0, 0]]{2 nodes (1 sources, 0 stops)}. dags covered: {dag_1285_TC_SRC, dag_1281}\n",
      "performing partition vectorization on AG_2[[0, 7, 0, 0]]{1 nodes (1 sources, 0 stops)}. dags covered: {dag_7_TC_DST}\n",
      "performing partition vectorization on AG_2[[0, 11, 0]]{1 nodes (1 sources, 0 stops)}. dags covered: {dag_11_TC_DST}\n",
      "performing partition vectorization on AG_2[[0, 10, 0, 0]]{2 nodes (1 sources, 0 stops)}. dags covered: {dag_14_TC_SRC, dag_10}\n",
      "performing partition vectorization on AG_2[[0, 48, 0, 0]]{1 nodes (1 sources, 0 stops)}. dags covered: {dag_48_TC_DST}\n",
      "performing partition vectorization on AG_2[[0, 52, 0]]{1 nodes (1 sources, 0 stops)}. dags covered: {dag_52_TC_DST}\n",
      "performing partition vectorization on AG_2[[0, 51, 0, 0]]{2 nodes (1 sources, 0 stops)}. dags covered: {dag_51, dag_55_TC_SRC}\n",
      "performing partition vectorization on AG_2[[0, 89, 0, 0]]{1 nodes (1 sources, 0 stops)}. dags covered: {dag_89_TC_DST}\n",
      "performing partition vectorization on AG_2[[0, 93, 0]]{1 nodes (1 sources, 0 stops)}. dags covered: {dag_93_TC_DST}\n",
      "performing partition vectorization on AG_2[[0, 92, 0, 0]]{2 nodes (1 sources, 0 stops)}. dags covered: {dag_92, dag_96_TC_SRC}\n",
      "performing partition vectorization on AG_2[[0, 130, 0, 0]]{1 nodes (1 sources, 0 stops)}. dags covered: {dag_130_TC_DST}\n",
      "performing partition vectorization on AG_2[[0, 134, 0]]{1 nodes (1 sources, 0 stops)}. dags covered: {dag_134_TC_DST}\n",
      "performing partition vectorization on AG_2[[0, 133, 0, 0]]{2 nodes (1 sources, 0 stops)}. dags covered: {dag_137_TC_SRC, dag_133}\n",
      "performing partition vectorization on AG_2[[0, 171, 0, 0]]{1 nodes (1 sources, 0 stops)}. dags covered: {dag_171_TC_DST}\n",
      "performing partition vectorization on AG_2[[0, 175, 0]]{1 nodes (1 sources, 0 stops)}. dags covered: {dag_175_TC_DST}\n",
      "performing partition vectorization on AG_2[[0, 174, 0, 0]]{2 nodes (1 sources, 0 stops)}. dags covered: {dag_174, dag_178_TC_SRC}\n",
      "performing partition vectorization on AG_2[[0, 212, 0, 0]]{1 nodes (1 sources, 0 stops)}. dags covered: {dag_212_TC_DST}\n",
      "performing partition vectorization on AG_2[[0, 216, 0]]{1 nodes (1 sources, 0 stops)}. dags covered: {dag_216_TC_DST}\n",
      "performing partition vectorization on AG_2[[0, 215, 0, 0]]{2 nodes (1 sources, 0 stops)}. dags covered: {dag_215, dag_219_TC_SRC}\n",
      "performing partition vectorization on AG_2[[0, 253, 0, 0]]{1 nodes (1 sources, 0 stops)}. dags covered: {dag_253_TC_DST}\n",
      "performing partition vectorization on AG_2[[0, 257, 0]]{1 nodes (1 sources, 0 stops)}. dags covered: {dag_257_TC_DST}\n",
      "performing partition vectorization on AG_2[[0, 256, 0, 0]]{2 nodes (1 sources, 0 stops)}. dags covered: {dag_260_TC_SRC, dag_256}\n",
      "performing partition vectorization on AG_2[[0, 294, 0, 0]]{1 nodes (1 sources, 0 stops)}. dags covered: {dag_294_TC_DST}\n",
      "performing partition vectorization on AG_2[[0, 298, 0]]{1 nodes (1 sources, 0 stops)}. dags covered: {dag_298_TC_DST}\n",
      "performing partition vectorization on AG_2[[0, 297, 0, 0]]{2 nodes (1 sources, 0 stops)}. dags covered: {dag_301_TC_SRC, dag_297}\n",
      "performing partition vectorization on AG_2[[0, 335, 0, 0]]{1 nodes (1 sources, 0 stops)}. dags covered: {dag_335_TC_DST}\n",
      "performing partition vectorization on AG_2[[0, 339, 0]]{1 nodes (1 sources, 0 stops)}. dags covered: {dag_339_TC_DST}\n",
      "performing partition vectorization on AG_2[[0, 338, 0, 0]]{2 nodes (1 sources, 0 stops)}. dags covered: {dag_338, dag_342_TC_SRC}\n",
      "performing partition vectorization on AG_2[[0, 376, 0, 0]]{1 nodes (1 sources, 0 stops)}. dags covered: {dag_376_TC_DST}\n",
      "performing partition vectorization on AG_2[[0, 380, 0]]{1 nodes (1 sources, 0 stops)}. dags covered: {dag_380_TC_DST}\n",
      "performing partition vectorization on AG_2[[0, 379, 0, 0]]{2 nodes (1 sources, 0 stops)}. dags covered: {dag_379, dag_383_TC_SRC}\n",
      "performing partition vectorization on AG_2[[0, 417, 0, 0]]{1 nodes (1 sources, 0 stops)}. dags covered: {dag_417_TC_DST}\n",
      "performing partition vectorization on AG_2[[0, 421, 0]]{1 nodes (1 sources, 0 stops)}. dags covered: {dag_421_TC_DST}\n",
      "performing partition vectorization on AG_2[[0, 420, 0, 0]]{2 nodes (1 sources, 0 stops)}. dags covered: {dag_424_TC_SRC, dag_420}\n",
      "performing partition vectorization on AG_2[[0, 458, 0, 0]]{1 nodes (1 sources, 0 stops)}. dags covered: {dag_458_TC_DST}\n",
      "performing partition vectorization on AG_2[[0, 462, 0]]{1 nodes (1 sources, 0 stops)}. dags covered: {dag_462_TC_DST}\n",
      "performing partition vectorization on AG_2[[0, 461, 0, 0]]{2 nodes (1 sources, 0 stops)}. dags covered: {dag_465_TC_SRC, dag_461}\n",
      "performing partition vectorization on AG_2[[0, 499, 0, 0]]{1 nodes (1 sources, 0 stops)}. dags covered: {dag_499_TC_DST}\n",
      "performing partition vectorization on AG_2[[0, 503, 0]]{1 nodes (1 sources, 0 stops)}. dags covered: {dag_503_TC_DST}\n",
      "performing partition vectorization on AG_2[[0, 502, 0, 0]]{2 nodes (1 sources, 0 stops)}. dags covered: {dag_502, dag_506_TC_SRC}\n",
      "performing partition vectorization on AG_2[[0, 540, 0, 0]]{1 nodes (1 sources, 0 stops)}. dags covered: {dag_540_TC_DST}\n",
      "performing partition vectorization on AG_2[[0, 544, 0]]{1 nodes (1 sources, 0 stops)}. dags covered: {dag_544_TC_DST}\n",
      "performing partition vectorization on AG_2[[0, 543, 0, 0]]{2 nodes (1 sources, 0 stops)}. dags covered: {dag_547_TC_SRC, dag_543}\n",
      "performing partition vectorization on AG_2[[0, 581, 0, 0]]{1 nodes (1 sources, 0 stops)}. dags covered: {dag_581_TC_DST}\n",
      "performing partition vectorization on AG_2[[0, 585, 0]]{1 nodes (1 sources, 0 stops)}. dags covered: {dag_585_TC_DST}\n",
      "performing partition vectorization on AG_2[[0, 584, 0, 0]]{2 nodes (1 sources, 0 stops)}. dags covered: {dag_588_TC_SRC, dag_584}\n",
      "performing partition vectorization on AG_2[[0, 622, 0, 0]]{1 nodes (1 sources, 0 stops)}. dags covered: {dag_622_TC_DST}\n",
      "performing partition vectorization on AG_2[[0, 626, 0]]{1 nodes (1 sources, 0 stops)}. dags covered: {dag_626_TC_DST}\n",
      "performing partition vectorization on AG_2[[0, 625, 0, 0]]{2 nodes (1 sources, 0 stops)}. dags covered: {dag_629_TC_SRC, dag_625}\n",
      "performing partition vectorization on AG_2[[0, 663, 0, 0]]{1 nodes (1 sources, 0 stops)}. dags covered: {dag_663_TC_DST}\n",
      "performing partition vectorization on AG_2[[0, 667, 0]]{1 nodes (1 sources, 0 stops)}. dags covered: {dag_667_TC_DST}\n",
      "performing partition vectorization on AG_2[[0, 666, 0, 0]]{2 nodes (1 sources, 0 stops)}. dags covered: {dag_666, dag_670_TC_SRC}\n",
      "performing partition vectorization on AG_2[[0, 704, 0, 0]]{1 nodes (1 sources, 0 stops)}. dags covered: {dag_704_TC_DST}\n",
      "performing partition vectorization on AG_2[[0, 708, 0]]{1 nodes (1 sources, 0 stops)}. dags covered: {dag_708_TC_DST}\n",
      "performing partition vectorization on AG_2[[0, 707, 0, 0]]{2 nodes (1 sources, 0 stops)}. dags covered: {dag_711_TC_SRC, dag_707}\n",
      "performing partition vectorization on AG_2[[0, 745, 0, 0]]{1 nodes (1 sources, 0 stops)}. dags covered: {dag_745_TC_DST}\n",
      "performing partition vectorization on AG_2[[0, 749, 0]]{1 nodes (1 sources, 0 stops)}. dags covered: {dag_749_TC_DST}\n",
      "performing partition vectorization on AG_2[[0, 748, 0, 0]]{2 nodes (1 sources, 0 stops)}. dags covered: {dag_752_TC_SRC, dag_748}\n",
      "performing partition vectorization on AG_2[[0, 786, 0, 0]]{1 nodes (1 sources, 0 stops)}. dags covered: {dag_786_TC_DST}\n",
      "performing partition vectorization on AG_2[[0, 790, 0]]{1 nodes (1 sources, 0 stops)}. dags covered: {dag_790_TC_DST}\n",
      "performing partition vectorization on AG_2[[0, 789, 0, 0]]{2 nodes (1 sources, 0 stops)}. dags covered: {dag_789, dag_793_TC_SRC}\n",
      "performing partition vectorization on AG_2[[0, 827, 0, 0]]{1 nodes (1 sources, 0 stops)}. dags covered: {dag_827_TC_DST}\n",
      "performing partition vectorization on AG_2[[0, 831, 0]]{1 nodes (1 sources, 0 stops)}. dags covered: {dag_831_TC_DST}\n",
      "performing partition vectorization on AG_2[[0, 830, 0, 0]]{2 nodes (1 sources, 0 stops)}. dags covered: {dag_834_TC_SRC, dag_830}\n",
      "performing partition vectorization on AG_2[[0, 868, 0, 0]]{1 nodes (1 sources, 0 stops)}. dags covered: {dag_868_TC_DST}\n",
      "performing partition vectorization on AG_2[[0, 872, 0]]{1 nodes (1 sources, 0 stops)}. dags covered: {dag_872_TC_DST}\n",
      "performing partition vectorization on AG_2[[0, 871, 0, 0]]{2 nodes (1 sources, 0 stops)}. dags covered: {dag_875_TC_SRC, dag_871}\n",
      "performing partition vectorization on AG_2[[0, 909, 0, 0]]{1 nodes (1 sources, 0 stops)}. dags covered: {dag_909_TC_DST}\n",
      "performing partition vectorization on AG_2[[0, 913, 0]]{1 nodes (1 sources, 0 stops)}. dags covered: {dag_913_TC_DST}\n",
      "performing partition vectorization on AG_2[[0, 912, 0, 0]]{2 nodes (1 sources, 0 stops)}. dags covered: {dag_916_TC_SRC, dag_912}\n",
      "performing partition vectorization on AG_2[[0, 950, 0, 0]]{1 nodes (1 sources, 0 stops)}. dags covered: {dag_950_TC_DST}\n",
      "performing partition vectorization on AG_2[[0, 954, 0]]{1 nodes (1 sources, 0 stops)}. dags covered: {dag_954_TC_DST}\n",
      "performing partition vectorization on AG_2[[0, 953, 0, 0]]{2 nodes (1 sources, 0 stops)}. dags covered: {dag_953, dag_957_TC_SRC}\n",
      "performing partition vectorization on AG_2[[0, 991, 0, 0]]{1 nodes (1 sources, 0 stops)}. dags covered: {dag_991_TC_DST}\n",
      "performing partition vectorization on AG_2[[0, 995, 0]]{1 nodes (1 sources, 0 stops)}. dags covered: {dag_995_TC_DST}\n",
      "performing partition vectorization on AG_2[[0, 994, 0, 0]]{2 nodes (1 sources, 0 stops)}. dags covered: {dag_998_TC_SRC, dag_994}\n",
      "performing partition vectorization on AG_2[[0, 1032, 0, 0]]{1 nodes (1 sources, 0 stops)}. dags covered: {dag_1032_TC_DST}\n",
      "performing partition vectorization on AG_2[[0, 1036, 0]]{1 nodes (1 sources, 0 stops)}. dags covered: {dag_1036_TC_DST}\n",
      "performing partition vectorization on AG_2[[0, 1035, 0, 0]]{2 nodes (1 sources, 0 stops)}. dags covered: {dag_1035, dag_1039_TC_SRC}\n",
      "performing partition vectorization on AG_2[[0, 1073, 0, 0]]{1 nodes (1 sources, 0 stops)}. dags covered: {dag_1073_TC_DST}\n",
      "performing partition vectorization on AG_2[[0, 1077, 0]]{1 nodes (1 sources, 0 stops)}. dags covered: {dag_1077_TC_DST}\n",
      "performing partition vectorization on AG_2[[0, 1076, 0, 0]]{2 nodes (1 sources, 0 stops)}. dags covered: {dag_1080_TC_SRC, dag_1076}\n",
      "performing partition vectorization on AG_2[[0, 1114, 0, 0]]{1 nodes (1 sources, 0 stops)}. dags covered: {dag_1114_TC_DST}\n",
      "performing partition vectorization on AG_2[[0, 1118, 0]]{1 nodes (1 sources, 0 stops)}. dags covered: {dag_1118_TC_DST}\n",
      "performing partition vectorization on AG_2[[0, 1117, 0, 0]]{2 nodes (1 sources, 0 stops)}. dags covered: {dag_1117, dag_1121_TC_SRC}\n",
      "performing partition vectorization on AG_2[[0, 1155, 0, 0]]{1 nodes (1 sources, 0 stops)}. dags covered: {dag_1155_TC_DST}\n",
      "performing partition vectorization on AG_2[[0, 1159, 0]]{1 nodes (1 sources, 0 stops)}. dags covered: {dag_1159_TC_DST}\n",
      "performing partition vectorization on AG_2[[0, 1158, 0, 0]]{2 nodes (1 sources, 0 stops)}. dags covered: {dag_1162_TC_SRC, dag_1158}\n",
      "performing partition vectorization on AG_2[[0, 1196, 0, 0]]{1 nodes (1 sources, 0 stops)}. dags covered: {dag_1196_TC_DST}\n",
      "performing partition vectorization on AG_2[[0, 1200, 0]]{1 nodes (1 sources, 0 stops)}. dags covered: {dag_1200_TC_DST}\n",
      "performing partition vectorization on AG_2[[0, 1199, 0, 0]]{2 nodes (1 sources, 0 stops)}. dags covered: {dag_1199, dag_1203_TC_SRC}\n",
      "performing partition vectorization on AG_2[[0, 1237, 0, 0]]{1 nodes (1 sources, 0 stops)}. dags covered: {dag_1237_TC_DST}\n",
      "performing partition vectorization on AG_2[[0, 1241, 0]]{1 nodes (1 sources, 0 stops)}. dags covered: {dag_1241_TC_DST}\n",
      "performing partition vectorization on AG_2[[0, 1240, 0, 0]]{2 nodes (1 sources, 0 stops)}. dags covered: {dag_1240, dag_1244_TC_SRC}\n",
      "performing partition vectorization on AG_2[[0, 1278, 0, 0]]{1 nodes (1 sources, 0 stops)}. dags covered: {dag_1278_TC_DST}\n",
      "performing partition vectorization on AG_2[[0, 1282, 0]]{1 nodes (1 sources, 0 stops)}. dags covered: {dag_1282_TC_DST}\n",
      "performing partition vectorization on AG_2[[0, 1281, 0, 0]]{2 nodes (1 sources, 0 stops)}. dags covered: {dag_1285_TC_SRC, dag_1281}\n",
      "..........................................\n",
      "Compiler status PASS\n",
      "2024-05-22 15:13:33.000070:  7717  INFO ||NEURON_CACHE||: Compile cache path: /var/tmp/neuron-compile-cache\n",
      "2024-05-22 15:13:43.000671:  7718  INFO ||NEURON_CACHE||: Compile cache path: /var/tmp/neuron-compile-cache\n",
      "\n",
      "Compiler status PASS\n",
      "............2024-05-22 15:14:07.000783:  7719  INFO ||NEURON_CACHE||: Compile cache path: /var/tmp/neuron-compile-cache\n",
      "\n",
      "Compiler status PASS\n",
      ".......................................................2024-05-22 15:15:34.000313:  7713  INFO ||NEURON_CACHE||: Compile cache path: /var/tmp/neuron-compile-cache\n",
      "\n",
      "Compiler status PASS\n",
      "2024-05-22 15:15:34.000701:  7714  INFO ||NEURON_CACHE||: Compile cache path: /var/tmp/neuron-compile-cache\n",
      "\n",
      "Compiler status PASS\n",
      "2024-05-22 15:15:43.000894:  7721  INFO ||NEURON_CACHE||: Compile cache path: /var/tmp/neuron-compile-cache\n",
      "\n",
      "Compiler status PASS\n",
      "2024-05-22 15:15:44.000961:  7720  INFO ||NEURON_CACHE||: Compile cache path: /var/tmp/neuron-compile-cache\n",
      "2024-05-22 15:15:44.000987:  7722  INFO ||NEURON_CACHE||: Compile cache path: /var/tmp/neuron-compile-cache\n",
      "\n",
      "Compiler status PASS\n",
      "\n",
      "Compiler status PASS\n",
      "2024-05-22 15:15:50.000709:  7724  INFO ||NEURON_CACHE||: Compile cache path: /var/tmp/neuron-compile-cache\n",
      "\n",
      "Compiler status PASS\n",
      "2024-05-22 15:15:52.000206:  7723  INFO ||NEURON_CACHE||: Compile cache path: /var/tmp/neuron-compile-cache\n",
      "\n",
      "Compiler status PASS\n",
      "....2024-05-22 15:15:53.000969:  7725  INFO ||NEURON_CACHE||: Compile cache path: /var/tmp/neuron-compile-cache\n",
      "\n",
      "Compiler status PASS\n",
      "2024-05-22 15:15:57.000823:  7726  INFO ||NEURON_CACHE||: Compile cache path: /var/tmp/neuron-compile-cache\n",
      "\n",
      "Compiler status PASS\n",
      "..2024-05-22 15:16:15.000492:  7715  INFO ||NEURON_CACHE||: Compile cache path: /var/tmp/neuron-compile-cache\n",
      "\n",
      "Compiler status PASS\n",
      "2024-05-22 15:16:30.000504:  7716  INFO ||NEURON_CACHE||: Compile cache path: /var/tmp/neuron-compile-cache\n",
      "\n",
      "Compiler status PASS\n",
      "2024-May-22 15:16:32.0834 3594:7710 [3] nccl_net_ofi_init:1415 CCOM WARN NET/OFI aws-ofi-nccl initialization failed\n",
      "2024-May-22 15:16:32.0834 3594:7710 [3] init.cc:137 CCOM WARN OFI plugin initNet() failed is EFA enabled?\n"
     ]
    },
    {
     "data": {
      "application/vnd.jupyter.widget-view+json": {
       "model_id": "8a2fed1432774e9e990fde6937a1f1f5",
       "version_major": 2,
       "version_minor": 0
      },
      "text/plain": [
       "tokenizer_config.json:   0%|          | 0.00/1.46k [00:00<?, ?B/s]"
      ]
     },
     "metadata": {},
     "output_type": "display_data"
    },
    {
     "data": {
      "application/vnd.jupyter.widget-view+json": {
       "model_id": "cf19d371ed6a4dcbb1761ed4def523a9",
       "version_major": 2,
       "version_minor": 0
      },
      "text/plain": [
       "tokenizer.model:   0%|          | 0.00/493k [00:00<?, ?B/s]"
      ]
     },
     "metadata": {},
     "output_type": "display_data"
    },
    {
     "data": {
      "application/vnd.jupyter.widget-view+json": {
       "model_id": "1719b69cc1224572945de9b857a95edc",
       "version_major": 2,
       "version_minor": 0
      },
      "text/plain": [
       "tokenizer.json:   0%|          | 0.00/1.80M [00:00<?, ?B/s]"
      ]
     },
     "metadata": {},
     "output_type": "display_data"
    },
    {
     "data": {
      "application/vnd.jupyter.widget-view+json": {
       "model_id": "297e7d73ff9d47648db5a1275b9611e3",
       "version_major": 2,
       "version_minor": 0
      },
      "text/plain": [
       "special_tokens_map.json:   0%|          | 0.00/72.0 [00:00<?, ?B/s]"
      ]
     },
     "metadata": {},
     "output_type": "display_data"
    },
    {
     "data": {
      "text/plain": [
       "('./mixtral-neuron-bs1-sl8k/tokenizer_config.json',\n",
       " './mixtral-neuron-bs1-sl8k/special_tokens_map.json',\n",
       " './mixtral-neuron-bs1-sl8k/tokenizer.model',\n",
       " './mixtral-neuron-bs1-sl8k/added_tokens.json',\n",
       " './mixtral-neuron-bs1-sl8k/tokenizer.json')"
      ]
     },
     "execution_count": 6,
     "metadata": {},
     "output_type": "execute_result"
    }
   ],
   "source": [
    "from transformers import AutoTokenizer\n",
    "from optimum.neuron import NeuronModelForCausalLM\n",
    "\n",
    "# model id you want to compile\n",
    "vanilla_model_id = \"mistralai/Mixtral-8x7B-Instruct-v0.1\"\n",
    "\n",
    "# configs for compiling model\n",
    "compiler_args = {\"num_cores\": 8 , \"auto_cast_type\": \"bf16\"}\n",
    "input_shapes = {\n",
    "  \"sequence_length\": 8192, #32768, # max length to generate\n",
    "  \"batch_size\": 1 # batch size for the model\n",
    "  }\n",
    "\n",
    "llm = NeuronModelForCausalLM.from_pretrained(vanilla_model_id, export=True, **input_shapes, **compiler_args)\n",
    "tokenizer = AutoTokenizer.from_pretrained(vanilla_model_id)\n",
    "\n",
    "# Save locally or upload to the HuggingFace Hub\n",
    "save_directory = \"./mixtral-neuron-bs1-sl8k\"\n",
    "llm.save_pretrained(save_directory)\n",
    "tokenizer.save_pretrained(save_directory)"
   ]
  },
  {
   "cell_type": "markdown",
   "metadata": {},
   "source": [
    "## 3. Push to Hub"
   ]
  },
  {
   "cell_type": "code",
   "execution_count": 7,
   "metadata": {},
   "outputs": [],
   "source": [
    "# optional: first remove safetensors checkpoint\n",
    "import os\n",
    "import shutil\n",
    "\n",
    "shutil.rmtree(os.path.join(save_directory, \"checkpoint\"))"
   ]
  },
  {
   "cell_type": "code",
   "execution_count": 13,
   "metadata": {},
   "outputs": [
    {
     "data": {
      "application/vnd.jupyter.widget-view+json": {
       "model_id": "9488e4a94a9e4facaa7f376f7132b17c",
       "version_major": 2,
       "version_minor": 0
      },
      "text/plain": [
       "64de654e0a6a8a80a36b.neff:   0%|          | 0.00/15.6M [00:00<?, ?B/s]"
      ]
     },
     "metadata": {},
     "output_type": "display_data"
    },
    {
     "data": {
      "application/vnd.jupyter.widget-view+json": {
       "model_id": "bb0d1721011741bca11124eb3d5ef183",
       "version_major": 2,
       "version_minor": 0
      },
      "text/plain": [
       "27b9ae2747e681472f0f.neff:   0%|          | 0.00/12.8M [00:00<?, ?B/s]"
      ]
     },
     "metadata": {},
     "output_type": "display_data"
    },
    {
     "data": {
      "application/vnd.jupyter.widget-view+json": {
       "model_id": "ea69506a2f684b7eaed887175982e5f2",
       "version_major": 2,
       "version_minor": 0
      },
      "text/plain": [
       "002e47ecb433d86b46c1.neff:   0%|          | 0.00/12.0M [00:00<?, ?B/s]"
      ]
     },
     "metadata": {},
     "output_type": "display_data"
    },
    {
     "data": {
      "application/vnd.jupyter.widget-view+json": {
       "model_id": "f3548f83ba9b49158b940fdb3821a187",
       "version_major": 2,
       "version_minor": 0
      },
      "text/plain": [
       "6d25eb142954e695ea56.neff:   0%|          | 0.00/3.53M [00:00<?, ?B/s]"
      ]
     },
     "metadata": {},
     "output_type": "display_data"
    },
    {
     "data": {
      "application/vnd.jupyter.widget-view+json": {
       "model_id": "dd4a552b271d41f9aa50c5632dd8996a",
       "version_major": 2,
       "version_minor": 0
      },
      "text/plain": [
       "347ecd13e9a213b3c6a3.neff:   0%|          | 0.00/12.1M [00:00<?, ?B/s]"
      ]
     },
     "metadata": {},
     "output_type": "display_data"
    },
    {
     "data": {
      "application/vnd.jupyter.widget-view+json": {
       "model_id": "5b0106c2d6784fcb9da697055ce9e9e4",
       "version_major": 2,
       "version_minor": 0
      },
      "text/plain": [
       "Upload 15 LFS files:   0%|          | 0/15 [00:00<?, ?it/s]"
      ]
     },
     "metadata": {},
     "output_type": "display_data"
    },
    {
     "data": {
      "application/vnd.jupyter.widget-view+json": {
       "model_id": "10e674a457104a21a74b745be78e6611",
       "version_major": 2,
       "version_minor": 0
      },
      "text/plain": [
       "82e01244d3f6ba0ce352.neff:   0%|          | 0.00/13.0M [00:00<?, ?B/s]"
      ]
     },
     "metadata": {},
     "output_type": "display_data"
    },
    {
     "data": {
      "application/vnd.jupyter.widget-view+json": {
       "model_id": "80670d582ce848adb5f6eb6e65efe211",
       "version_major": 2,
       "version_minor": 0
      },
      "text/plain": [
       "8fe9a7a8f8fc6a776493.neff:   0%|          | 0.00/12.9M [00:00<?, ?B/s]"
      ]
     },
     "metadata": {},
     "output_type": "display_data"
    },
    {
     "data": {
      "application/vnd.jupyter.widget-view+json": {
       "model_id": "79899735f4634891b4bde416988f33d3",
       "version_major": 2,
       "version_minor": 0
      },
      "text/plain": [
       "9dfc3aef573e69e28c6a.neff:   0%|          | 0.00/6.23M [00:00<?, ?B/s]"
      ]
     },
     "metadata": {},
     "output_type": "display_data"
    },
    {
     "data": {
      "application/vnd.jupyter.widget-view+json": {
       "model_id": "a89bd1e99f1b44728686ff0c5816e927",
       "version_major": 2,
       "version_minor": 0
      },
      "text/plain": [
       "b2b22c0802c289f93ee9.neff:   0%|          | 0.00/13.7M [00:00<?, ?B/s]"
      ]
     },
     "metadata": {},
     "output_type": "display_data"
    },
    {
     "data": {
      "application/vnd.jupyter.widget-view+json": {
       "model_id": "699819d5c67f4b258d2acaebe16f03df",
       "version_major": 2,
       "version_minor": 0
      },
      "text/plain": [
       "be7b02fb092f8eb4557b.neff:   0%|          | 0.00/13.3M [00:00<?, ?B/s]"
      ]
     },
     "metadata": {},
     "output_type": "display_data"
    },
    {
     "data": {
      "application/vnd.jupyter.widget-view+json": {
       "model_id": "4b6b3ad273a34d34b58094c673e22291",
       "version_major": 2,
       "version_minor": 0
      },
      "text/plain": [
       "c9fd176cc710e975296d.neff:   0%|          | 0.00/13.1M [00:00<?, ?B/s]"
      ]
     },
     "metadata": {},
     "output_type": "display_data"
    },
    {
     "data": {
      "application/vnd.jupyter.widget-view+json": {
       "model_id": "09b09f8c31644c33bd568dfa8f900475",
       "version_major": 2,
       "version_minor": 0
      },
      "text/plain": [
       "d43a5de0ce956dc53000.neff:   0%|          | 0.00/12.9M [00:00<?, ?B/s]"
      ]
     },
     "metadata": {},
     "output_type": "display_data"
    },
    {
     "data": {
      "application/vnd.jupyter.widget-view+json": {
       "model_id": "2efe7e0eac4d4e5281d7a38f7d53335d",
       "version_major": 2,
       "version_minor": 0
      },
      "text/plain": [
       "d85f08804b747035c4fe.neff:   0%|          | 0.00/13.0M [00:00<?, ?B/s]"
      ]
     },
     "metadata": {},
     "output_type": "display_data"
    },
    {
     "data": {
      "application/vnd.jupyter.widget-view+json": {
       "model_id": "2950f31491d44338ae1857ad10d6ab69",
       "version_major": 2,
       "version_minor": 0
      },
      "text/plain": [
       "de4141881c11ee945be9.neff:   0%|          | 0.00/15.1M [00:00<?, ?B/s]"
      ]
     },
     "metadata": {},
     "output_type": "display_data"
    },
    {
     "data": {
      "application/vnd.jupyter.widget-view+json": {
       "model_id": "1e857de4d7f04418adcc0242f9075df5",
       "version_major": 2,
       "version_minor": 0
      },
      "text/plain": [
       "tokenizer.model:   0%|          | 0.00/493k [00:00<?, ?B/s]"
      ]
     },
     "metadata": {},
     "output_type": "display_data"
    }
   ],
   "source": [
    "llm.push_to_hub(repository_id=\"andrewrreed/Mixtral-8x7B-Instruct-v0.1-neuron-bs1-sl8k\", save_directory=save_directory, use_auth_token=True)"
   ]
  },
  {
   "cell_type": "markdown",
   "metadata": {},
   "source": [
    "## 4. Deploy with TGI\n",
    "\n",
    "**Note:** Here we're only specifying the first 4 neuron devices corresponding to the `num_cores` above (each device has two cores)."
   ]
  },
  {
   "cell_type": "markdown",
   "metadata": {},
   "source": [
    "docker run -p 8080:80 \\\n",
    "       -v $(pwd)/data:/data \\\n",
    "       --device=/dev/neuron0 \\\n",
    "       --device=/dev/neuron1 \\\n",
    "       --device=/dev/neuron2 \\\n",
    "       --device=/dev/neuron3 \\\n",
    "       -e HF_TOKEN=${HF_TOKEN} \\\n",
    "       ghcr.io/huggingface/neuronx-tgi:latest \\\n",
    "       --model-id andrewrreed/Mixtral-8x7B-Instruct-v0.1-neuron-bs1-sl8k \\\n",
    "       --max-batch-size 1 \\\n",
    "       --max-input-length 8191 \\\n",
    "       --max-total-tokens 8192"
   ]
  },
  {
   "cell_type": "markdown",
   "metadata": {},
   "source": [
    "## 5. Query the model"
   ]
  },
  {
   "cell_type": "code",
   "execution_count": 3,
   "metadata": {},
   "outputs": [
    {
     "name": "stdout",
     "output_type": "stream",
     "text": [
      "{\"generated_text\":\"\\n\\nAWS Inferentia2 is a new machine learning inference chip designed and built by Amazon Web Services (AWS). It is optimized for deep learning inference workloads and is designed to deliver high performance and low latency at a low cost.\\n\\nThere are several reasons why you might want to use AWS Inferentia2:\\n\\n1. High performance: AWS Inferentia2 is designed to deliver high performance for deep learning inference workloads. It can process up to 128 TOPS (tera operations per second) and has a memory bandwidth of up to 3,000 GB/s. This allows it to handle large, complex models and deliver fast, accurate results.\\n2. Low latency: AWS Inferentia2 is also designed to deliver low latency for inference workloads. It has a latency of less than 1 millisecond for many common inference tasks, which is important for applications that require real-time responses.\\n3. Low cost: AWS Inferentia2 is designed to be cost-effective, with a price that is significantly lower than other inference chips. This makes it an attractive option for organizations that want to use machine learning inference but are concerned about the cost.\\n4. Integration with AWS: AWS Inferentia2 is fully integrated with the AWS ecosystem, which makes it easy to use and manage. It can be used with AWS machine learning services, such as Amazon SageMaker, and can be deployed on AWS infrastructure, such as Amazon EC2 and AWS Lambda.\\n\\nOverall, AWS Inferentia2 is a powerful and cost-effective option for organizations that want to use machine learning inference. It is optimized for deep learning workloads and is fully integrated with the AWS ecosystem, making it easy to use and manage.</s>\"}"
     ]
    }
   ],
   "source": [
    "!curl 127.0.0.1:8080/generate \\\n",
    "    -X POST \\\n",
    "    -d '{\"inputs\":\"What is AWS inferentia2 and why would I want to use it?\",\"parameters\":{\"max_new_tokens\":1024}}' \\\n",
    "    -H 'Content-Type: application/json'"
   ]
  }
 ],
 "metadata": {
  "kernelspec": {
   "display_name": "Python 3",
   "language": "python",
   "name": "python3"
  },
  "language_info": {
   "codemirror_mode": {
    "name": "ipython",
    "version": 3
   },
   "file_extension": ".py",
   "mimetype": "text/x-python",
   "name": "python",
   "nbconvert_exporter": "python",
   "pygments_lexer": "ipython3",
   "version": "3.8.10"
  }
 },
 "nbformat": 4,
 "nbformat_minor": 2
}
