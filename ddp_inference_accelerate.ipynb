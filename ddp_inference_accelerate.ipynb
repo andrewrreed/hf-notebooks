{
 "cells": [
  {
   "cell_type": "markdown",
   "id": "0147d05e-a409-4f1c-a69e-34360d634d28",
   "metadata": {},
   "source": [
    "# Distributed Data Parallel (DDP) for Inference"
   ]
  },
  {
   "cell_type": "code",
   "execution_count": null,
   "id": "01ede559-414d-46af-ba6f-36cc6c9b61aa",
   "metadata": {},
   "outputs": [],
   "source": [
    "!pip install transformers accelerate optimum einops tqdm"
   ]
  },
  {
   "cell_type": "code",
   "execution_count": 1,
   "id": "32dbe936-4455-455f-b704-d9dfbf88793a",
   "metadata": {},
   "outputs": [],
   "source": [
    "import json\n",
    "\n",
    "import torch\n",
    "import transformers\n",
    "import pandas as pd\n",
    "from transformers import AutoTokenizer, AutoModelForCausalLM, GenerationConfig\n",
    "from accelerate.utils import release_memory"
   ]
  },
  {
   "cell_type": "markdown",
   "id": "098634e9-a010-46f4-bdcb-cd067d63d5a3",
   "metadata": {},
   "source": [
    "### Inference with Pipelines\n",
    "\n",
    "First let's load and run inference with a `pipeline`"
   ]
  },
  {
   "cell_type": "code",
   "execution_count": 2,
   "id": "b9f42cc9-e2ec-4683-9ff7-e8d5545cc38d",
   "metadata": {},
   "outputs": [
    {
     "name": "stderr",
     "output_type": "stream",
     "text": [
      "The Falcon model was initialized without `trust_remote_code=True`, and will therefore leverage the transformers library implementation. tiiuae/falcon-7b-instruct's revision is set to a version that doesn't leverage remote code (f8dac3fff96d5debd43edf56fb4e1abcfffbef28).\n",
      "\n",
      "In order to override this, please set a revision manually or set `trust_remote_code=True`.\n"
     ]
    },
    {
     "data": {
      "application/vnd.jupyter.widget-view+json": {
       "model_id": "ed7d7aba5117411aa8ca7e072c6ca3ad",
       "version_major": 2,
       "version_minor": 0
      },
      "text/plain": [
       "Loading checkpoint shards:   0%|          | 0/2 [00:00<?, ?it/s]"
      ]
     },
     "metadata": {},
     "output_type": "display_data"
    }
   ],
   "source": [
    "model_id = \"tiiuae/falcon-7b-instruct\"\n",
    "tokenizer = AutoTokenizer.from_pretrained(model_id)\n",
    "model = AutoModelForCausalLM.from_pretrained(model_id,\n",
    "                                             torch_dtype=torch.bfloat16, \n",
    "                                             device_map=\"sequential\")"
   ]
  },
  {
   "cell_type": "code",
   "execution_count": null,
   "id": "e69c5d1e-eaf6-40fd-96b0-da0244838a3c",
   "metadata": {
    "tags": []
   },
   "outputs": [],
   "source": [
    "for name, param in model.named_parameters():\n",
    "    print(f\"Layer: {name}, dtype: {param.dtype}\")"
   ]
  },
  {
   "cell_type": "code",
   "execution_count": 4,
   "id": "4a9742dd-d8c8-4146-a6b0-7112c75686d2",
   "metadata": {},
   "outputs": [
    {
     "name": "stderr",
     "output_type": "stream",
     "text": [
      "The BetterTransformer implementation does not support padding during training, as the fused kernels do not support attention masks. Beware that passing padded batched data during training may result in unexpected outputs. Please refer to https://huggingface.co/docs/optimum/bettertransformer/overview for more details.\n"
     ]
    }
   ],
   "source": [
    "# convert model to bettertransformer to take advantage of Flash Attention\n",
    "model.to_bettertransformer()\n",
    "\n",
    "pipe = transformers.pipeline(\n",
    "    \"text-generation\",\n",
    "    model=model,\n",
    "    tokenizer=tokenizer,\n",
    ")"
   ]
  },
  {
   "cell_type": "code",
   "execution_count": 5,
   "id": "e70909c4-a5e1-4bce-b172-3d1bbfb7fde6",
   "metadata": {
    "tags": []
   },
   "outputs": [
    {
     "name": "stderr",
     "output_type": "stream",
     "text": [
      "Setting `pad_token_id` to `eos_token_id`:11 for open-end generation.\n",
      "Setting `pad_token_id` to `eos_token_id`:11 for open-end generation.\n",
      "Setting `pad_token_id` to `eos_token_id`:11 for open-end generation.\n",
      "Setting `pad_token_id` to `eos_token_id`:11 for open-end generation.\n",
      "Setting `pad_token_id` to `eos_token_id`:11 for open-end generation.\n",
      "Setting `pad_token_id` to `eos_token_id`:11 for open-end generation.\n",
      "Setting `pad_token_id` to `eos_token_id`:11 for open-end generation.\n",
      "Setting `pad_token_id` to `eos_token_id`:11 for open-end generation.\n",
      "Setting `pad_token_id` to `eos_token_id`:11 for open-end generation.\n",
      "Setting `pad_token_id` to `eos_token_id`:11 for open-end generation.\n"
     ]
    },
    {
     "name": "stdout",
     "output_type": "stream",
     "text": [
      "6.92 s ± 238 ms per loop (mean ± std. dev. of 5 runs, 2 loops each)\n"
     ]
    }
   ],
   "source": [
    "%%timeit -n 2 -r 5\n",
    "text = \"Hello \" * 1800\n",
    "pipe(text, max_new_tokens=100)"
   ]
  },
  {
   "cell_type": "code",
   "execution_count": 6,
   "id": "6e97ffc7-0205-42fa-8445-a37d78aa2710",
   "metadata": {},
   "outputs": [],
   "source": [
    "model = release_memory(model)"
   ]
  },
  {
   "cell_type": "markdown",
   "id": "cf381143-b697-4f09-992e-ee9ff34ca600",
   "metadata": {},
   "source": [
    "### Distributed inference with PartialState\n",
    "\n",
    "If our model fits on one GPU, we can take advantage of multiple GPU's by keeping a replica on each and distributing our data across them. See [Distributed Inference with Accelerate](https://huggingface.co/docs/accelerate/main/en/usage_guides/distributed_inference) for more details."
   ]
  },
  {
   "cell_type": "code",
   "execution_count": 2,
   "id": "d0102122-a7b7-4b39-8a7e-298eafb599b6",
   "metadata": {},
   "outputs": [
    {
     "name": "stdout",
     "output_type": "stream",
     "text": [
      "Overwriting ddp_inference.py\n"
     ]
    }
   ],
   "source": [
    "%%writefile ddp_inference.py\n",
    "\n",
    "import json\n",
    "\n",
    "import torch\n",
    "import transformers\n",
    "from tqdm import tqdm\n",
    "from accelerate import PartialState\n",
    "from transformers import AutoTokenizer, AutoModelForCausalLM, GenerationConfig\n",
    "\n",
    "\n",
    "def save_dicts_to_jsonl(filename, data_list):\n",
    "    \"\"\"\n",
    "    Saves a list of dictionaries to a JSONL file, where each dictionary is saved as a separate line.\n",
    "\n",
    "    Args:\n",
    "    - filename (str): Path to the JSONL file.\n",
    "    - data_list (list): List of dictionaries to save.\n",
    "    \"\"\"\n",
    "    with open(filename, 'a') as file:\n",
    "        for data_dict in data_list:\n",
    "            file.write(json.dumps(data_dict) + '\\n')\n",
    "\n",
    "        \n",
    "model_id = \"tiiuae/falcon-7b-instruct\"\n",
    "tokenizer = AutoTokenizer.from_pretrained(model_id)\n",
    "model = AutoModelForCausalLM.from_pretrained(model_id,\n",
    "                                             torch_dtype=torch.bfloat16)\n",
    "\n",
    "# convert model to bettertransformer to take advantage of Flash Attention\n",
    "model.to_bettertransformer()\n",
    "\n",
    "distributed_state = PartialState()\n",
    "model.to(distributed_state.device)\n",
    "\n",
    "gen_config = GenerationConfig.from_pretrained(model_id, \n",
    "                                              max_new_tokens=50, \n",
    "                                              do_sample=True, \n",
    "                                              pad_token_id=tokenizer.eos_token_id,\n",
    "                                              eos_token_id=tokenizer.eos_token_id)\n",
    "\n",
    "prompts = [\"Why is distributed inference faster?\"]*1000\n",
    "\n",
    "# Set this value to maximize GPU RAM utilization\n",
    "# If OOM reduce value, ideally should be multiple of # GPU's\n",
    "# Note: this isn't batched inference, just batch size to be distributed across GPUs\n",
    "batch_size = 80\n",
    "\n",
    "# Calculate the number of batches (taking the ceiling)\n",
    "n_batches = -(-len(prompts) // batch_size)\n",
    "\n",
    "for i in tqdm(range(0, len(prompts), batch_size), total=n_batches):\n",
    "    with distributed_state.split_between_processes(prompts[i:i + batch_size]) as prompt:\n",
    "\n",
    "        inputs = tokenizer(prompt,\n",
    "                       return_tensors=\"pt\",\n",
    "                       return_token_type_ids=False).to(\"cuda\")\n",
    "\n",
    "        output_ids = model.generate(**inputs, generation_config=gen_config)\n",
    "        result = tokenizer.batch_decode(output_ids, skip_special_tokens=True)\n",
    "\n",
    "        collect = []\n",
    "        for text in result:\n",
    "            collect.append({\"text\": text, \"device\":distributed_state.process_index})\n",
    "\n",
    "        save_dicts_to_jsonl(\"test_generate.jsonl\", collect)"
   ]
  },
  {
   "cell_type": "markdown",
   "id": "380eb725-49fb-471d-8a44-2028885b1040",
   "metadata": {},
   "source": [
    "#### Run with accelerate"
   ]
  },
  {
   "cell_type": "code",
   "execution_count": 3,
   "id": "17aece75-f609-489b-bd76-5501dd21bdcf",
   "metadata": {},
   "outputs": [
    {
     "name": "stdout",
     "output_type": "stream",
     "text": [
      "WARNING:accelerate.commands.launch:The following values were not passed to `accelerate launch` and had defaults used instead:\n",
      "\t`--num_processes` was set to a value of `4`\n",
      "\t\tMore than one GPU was found, enabling multi-GPU training.\n",
      "\t\tIf this was unintended please pass in `--num_processes=1`.\n",
      "\t`--num_machines` was set to a value of `1`\n",
      "\t`--mixed_precision` was set to a value of `'no'`\n",
      "\t`--dynamo_backend` was set to a value of `'no'`\n",
      "To avoid this warning pass in values for each of the problematic parameters or run `accelerate config`.\n",
      "The Falcon model was initialized without `trust_remote_code=True`, and will therefore leverage the transformers library implementation. tiiuae/falcon-7b-instruct's revision is set to a version that doesn't leverage remote code (f8dac3fff96d5debd43edf56fb4e1abcfffbef28).\n",
      "\n",
      "In order to override this, please set a revision manually or set `trust_remote_code=True`.\n",
      "The Falcon model was initialized without `trust_remote_code=True`, and will therefore leverage the transformers library implementation. tiiuae/falcon-7b-instruct's revision is set to a version that doesn't leverage remote code (f8dac3fff96d5debd43edf56fb4e1abcfffbef28).\n",
      "\n",
      "In order to override this, please set a revision manually or set `trust_remote_code=True`.\n",
      "The Falcon model was initialized without `trust_remote_code=True`, and will therefore leverage the transformers library implementation. tiiuae/falcon-7b-instruct's revision is set to a version that doesn't leverage remote code (f8dac3fff96d5debd43edf56fb4e1abcfffbef28).\n",
      "\n",
      "In order to override this, please set a revision manually or set `trust_remote_code=True`.\n",
      "The Falcon model was initialized without `trust_remote_code=True`, and will therefore leverage the transformers library implementation. tiiuae/falcon-7b-instruct's revision is set to a version that doesn't leverage remote code (f8dac3fff96d5debd43edf56fb4e1abcfffbef28).\n",
      "\n",
      "In order to override this, please set a revision manually or set `trust_remote_code=True`.\n",
      "Loading checkpoint shards: 100%|██████████████████| 2/2 [00:08<00:00,  4.30s/it]\n",
      "Loading checkpoint shards: 100%|██████████████████| 2/2 [00:08<00:00,  4.31s/it]\n",
      "Loading checkpoint shards: 100%|██████████████████| 2/2 [00:08<00:00,  4.33s/it]\n",
      "The BetterTransformer implementation does not support padding during training, as the fused kernels do not support attention masks. Beware that passing padded batched data during training may result in unexpected outputs. Please refer to https://huggingface.co/docs/optimum/bettertransformer/overview for more details.\n",
      "The BetterTransformer implementation does not support padding during training, as the fused kernels do not support attention masks. Beware that passing padded batched data during training may result in unexpected outputs. Please refer to https://huggingface.co/docs/optimum/bettertransformer/overview for more details.\n",
      "The BetterTransformer implementation does not support padding during training, as the fused kernels do not support attention masks. Beware that passing padded batched data during training may result in unexpected outputs. Please refer to https://huggingface.co/docs/optimum/bettertransformer/overview for more details.\n",
      "Loading checkpoint shards: 100%|██████████████████| 2/2 [00:08<00:00,  4.30s/it]\n",
      "The BetterTransformer implementation does not support padding during training, as the fused kernels do not support attention masks. Beware that passing padded batched data during training may result in unexpected outputs. Please refer to https://huggingface.co/docs/optimum/bettertransformer/overview for more details.\n",
      "100%|███████████████████████████████████████████| 13/13 [02:08<00:00,  9.90s/it]\n",
      "100%|███████████████████████████████████████████| 13/13 [02:08<00:00,  9.90s/it]\n",
      "100%|███████████████████████████████████████████| 13/13 [02:08<00:00,  9.91s/it]\n",
      "100%|███████████████████████████████████████████| 13/13 [02:09<00:00,  9.93s/it]\n"
     ]
    }
   ],
   "source": [
    "!accelerate launch ddp_inference.py"
   ]
  },
  {
   "cell_type": "markdown",
   "id": "4bf8cf91-cbb5-4145-903e-1897221c851d",
   "metadata": {},
   "source": [
    "### Review results"
   ]
  },
  {
   "cell_type": "code",
   "execution_count": 6,
   "id": "086d3247-a8fd-43f0-8f0e-3601c24fee94",
   "metadata": {
    "tags": []
   },
   "outputs": [],
   "source": [
    "with open(\"test_generate.jsonl\") as file:\n",
    "    data = [json.loads(line) for line in file]"
   ]
  },
  {
   "cell_type": "code",
   "execution_count": 7,
   "id": "65bcbb0f-f8b8-4b16-b33e-939f3e7a921b",
   "metadata": {},
   "outputs": [],
   "source": [
    "df = pd.read_json(\"test_generate.jsonl\", lines=True)"
   ]
  },
  {
   "cell_type": "code",
   "execution_count": 8,
   "id": "c846711a-a57f-4d54-83b9-93f169fd1a4f",
   "metadata": {},
   "outputs": [
    {
     "data": {
      "text/plain": [
       "<Axes: xlabel='device'>"
      ]
     },
     "execution_count": 8,
     "metadata": {},
     "output_type": "execute_result"
    },
    {
     "data": {
      "image/png": "[encoded data removed]",
      "text/plain": [
       "<Figure size 640x480 with 1 Axes>"
      ]
     },
     "metadata": {},
     "output_type": "display_data"
    }
   ],
   "source": [
    "df.groupby(\"device\").size().plot(kind=\"bar\")"
   ]
  },
  {
   "cell_type": "code",
   "execution_count": null,
   "id": "04d0a241-73c8-4fe9-a0cd-e96b6b6fdb08",
   "metadata": {},
   "outputs": [],
   "source": []
  }
 ],
 "metadata": {
  "environment": {
   "kernel": "python3",
   "name": "pytorch-gpu.2-0.m111",
   "type": "gcloud",
   "uri": "gcr.io/deeplearning-platform-release/pytorch-gpu.2-0:m111"
  },
  "kernelspec": {
   "display_name": "Python 3",
   "language": "python",
   "name": "python3"
  },
  "language_info": {
   "codemirror_mode": {
    "name": "ipython",
    "version": 3
   },
   "file_extension": ".py",
   "mimetype": "text/x-python",
   "name": "python",
   "nbconvert_exporter": "python",
   "pygments_lexer": "ipython3",
   "version": "3.10.12"
  }
 },
 "nbformat": 4,
 "nbformat_minor": 5
}
