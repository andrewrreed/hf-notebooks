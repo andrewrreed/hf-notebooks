{
 "cells": [
  {
   "cell_type": "markdown",
   "metadata": {},
   "source": [
    "# Building a Conversational Customer Support Agent with AutoGen"
   ]
  },
  {
   "cell_type": "code",
   "execution_count": null,
   "metadata": {},
   "outputs": [],
   "source": [
    "!pip install pyautogen"
   ]
  },
  {
   "cell_type": "code",
   "execution_count": 4,
   "metadata": {},
   "outputs": [],
   "source": [
    "import os\n",
    "from getpass import getpass\n",
    "\n",
    "from autogen import ConversableAgent, GroupChatManager"
   ]
  },
  {
   "cell_type": "code",
   "execution_count": 5,
   "metadata": {},
   "outputs": [],
   "source": [
    "OPENAI_API_KEY = os.environ[\"OPENAI_API_KEY\"] = getpass(\"Enter your OpenAI API key: \")"
   ]
  },
  {
   "cell_type": "code",
   "execution_count": 50,
   "metadata": {},
   "outputs": [],
   "source": [
    "human_proxy = ConversableAgent(\n",
    "    name=\"human_proxy\",\n",
    "    description=\"A customer who is seeking help from a customer support agent.\",\n",
    "    llm_config=False,  # no LLM used for human proxy\n",
    "    human_input_mode=\"ALWAYS\",  # always ask for human input\n",
    ")\n",
    "\n",
    "frontman_agent = ConversableAgent(\n",
    "    name=\"frontman_agent\",\n",
    "    description=\"A customer support agent who interacts with the human_proxy in a conversational manner to gather information from and relay messages back to them.\",\n",
    "    system_message=\"You are a customer support agent who interacts with customers in a conversational manner to help them solve their problems.\\\n",
    "Your job is to gather information from the customer until you've identified a clear intent behind their problem, at which time, you return the customers intent.\\\n",
    "If you are unable to identify the intent, you should ask the customer for more information.\\\n",
    "You are also responsible for relaying messages back to the customer.\",\n",
    "    llm_config={\n",
    "        \"config_list\": [{\"model\": \"gpt-4o\", \"api_key\": os.environ[\"OPENAI_API_KEY\"]}]\n",
    "    },\n",
    "    human_input_mode=\"NEVER\",\n",
    ")\n",
    "\n",
    "intent_router_agent = ConversableAgent(\n",
    "    name=\"intent_router_agent\",\n",
    "    description=\"A tool to classify a user's intent into pre-defined categories.\",\n",
    "    system_message=\"\"\"Your job is to classify a users intent into one of the following categories:\n",
    "\n",
    "[1] Check account balance\n",
    "[2] Cancel credit card\n",
    "[3] Open a new account\n",
    "\n",
    "You should return the intent number that best matches the user's intent. If there is no clear match, you should return [NONE].\"\"\",\n",
    "    llm_config={\n",
    "        \"config_list\": [{\"model\": \"gpt-4o\", \"api_key\": os.environ[\"OPENAI_API_KEY\"]}]\n",
    "    },\n",
    "    human_input_mode=\"NEVER\",\n",
    ")"
   ]
  },
  {
   "cell_type": "code",
   "execution_count": 53,
   "metadata": {},
   "outputs": [],
   "source": [
    "from autogen import GroupChat\n",
    "\n",
    "group_chat = GroupChat(\n",
    "    agents=[frontman_agent, intent_router_agent, human_proxy],\n",
    "    allowed_or_disallowed_speaker_transitions={\n",
    "        human_proxy: [frontman_agent],\n",
    "        frontman_agent: [human_proxy, intent_router_agent],\n",
    "    },\n",
    "    speaker_transitions_type=\"allowed\",\n",
    "    messages=[],\n",
    "    speaker_selection_method=\"auto\",\n",
    "    max_round=6,\n",
    "    send_introductions=True,\n",
    ")\n",
    "\n",
    "group_chat_manager = GroupChatManager(\n",
    "    name=\"group_chat_manager\",\n",
    "    groupchat=group_chat,\n",
    "    llm_config={\n",
    "        \"config_list\": [{\"model\": \"gpt-4o\", \"api_key\": os.environ[\"OPENAI_API_KEY\"]}]\n",
    "    },\n",
    ")"
   ]
  },
  {
   "cell_type": "code",
   "execution_count": 54,
   "metadata": {},
   "outputs": [
    {
     "name": "stdout",
     "output_type": "stream",
     "text": [
      "\u001b[33mhuman_proxy\u001b[0m (to group_chat_manager):\n",
      "\n",
      "Hello. I'm andrew\n",
      "\n",
      "--------------------------------------------------------------------------------\n",
      "\u001b[32m\n",
      "Next speaker: frontman_agent\n",
      "\u001b[0m\n",
      "\u001b[33mfrontman_agent\u001b[0m (to group_chat_manager):\n",
      "\n",
      "Hello Andrew! How can I assist you today?\n",
      "\n",
      "--------------------------------------------------------------------------------\n",
      "\u001b[32m\n",
      "Next speaker: human_proxy\n",
      "\u001b[0m\n",
      "\u001b[33mhuman_proxy\u001b[0m (to group_chat_manager):\n",
      "\n",
      "I want to know how much money is in my checking account\n",
      "\n",
      "--------------------------------------------------------------------------------\n",
      "\u001b[32m\n",
      "Next speaker: frontman_agent\n",
      "\u001b[0m\n",
      "\u001b[33mfrontman_agent\u001b[0m (to group_chat_manager):\n",
      "\n",
      "Got it, Andrew. To help you with that, I will need some additional information. Could you please provide your account number and confirm your identity (such as your name and any security questions or codes that may be required)?\n",
      "\n",
      "--------------------------------------------------------------------------------\n",
      "\u001b[32m\n",
      "Next speaker: human_proxy\n",
      "\u001b[0m\n"
     ]
    }
   ],
   "source": [
    "result = human_proxy.initiate_chat(\n",
    "    group_chat_manager,\n",
    "    # message=\"Hello, I need help checking my checking account balance.\",\n",
    "    message=\"Hello. I'm andrew\",\n",
    ")"
   ]
  },
  {
   "cell_type": "code",
   "execution_count": 10,
   "metadata": {},
   "outputs": [
    {
     "data": {
      "text/plain": [
       "[{'content': 'Hello, I need help checking my checking account balance.',\n",
       "  'role': 'assistant'},\n",
       " {'content': \"Hello! I'd be happy to help you with that. Could you please provide me with your full name and account number? Additionally, may I ask for a way to verify your identity, such as the last four digits of your Social Security number or a recent transaction amount?\",\n",
       "  'role': 'user'},\n",
       " {'content': 'my name is andrew', 'role': 'assistant'},\n",
       " {'content': 'Thank you, Andrew. For security purposes, I need a bit more information to verify your identity. Could you please provide either:\\n\\n1. The last four digits of your Social Security number, or\\n2. A recent transaction amount and the date it occurred.\\n\\nOnce I have that information, I can assist you with checking your account balance.',\n",
       "  'role': 'user'}]"
      ]
     },
     "execution_count": 10,
     "metadata": {},
     "output_type": "execute_result"
    }
   ],
   "source": [
    "result.chat_history"
   ]
  },
  {
   "cell_type": "code",
   "execution_count": 14,
   "metadata": {},
   "outputs": [
    {
     "data": {
      "text/plain": [
       "{'usage_including_cached_inference': {'total_cost': 0.006634999999999999,\n",
       "  'gpt-4o-2024-05-13': {'cost': 0.006634999999999999,\n",
       "   'prompt_tokens': 505,\n",
       "   'completion_tokens': 274,\n",
       "   'total_tokens': 779}},\n",
       " 'usage_excluding_cached_inference': {'total_cost': 0.00558,\n",
       "  'gpt-4o-2024-05-13': {'cost': 0.00558,\n",
       "   'prompt_tokens': 456,\n",
       "   'completion_tokens': 220,\n",
       "   'total_tokens': 676}}}"
      ]
     },
     "execution_count": 14,
     "metadata": {},
     "output_type": "execute_result"
    }
   ],
   "source": [
    "result.cost"
   ]
  },
  {
   "cell_type": "code",
   "execution_count": null,
   "metadata": {},
   "outputs": [],
   "source": []
  }
 ],
 "metadata": {
  "kernelspec": {
   "display_name": ".venv",
   "language": "python",
   "name": "python3"
  },
  "language_info": {
   "codemirror_mode": {
    "name": "ipython",
    "version": 3
   },
   "file_extension": ".py",
   "mimetype": "text/x-python",
   "name": "python",
   "nbconvert_exporter": "python",
   "pygments_lexer": "ipython3",
   "version": "3.10.11"
  }
 },
 "nbformat": 4,
 "nbformat_minor": 2
}
